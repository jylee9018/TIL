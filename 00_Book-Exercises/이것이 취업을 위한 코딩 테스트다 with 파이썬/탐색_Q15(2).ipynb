{
 "cells": [
  {
   "cell_type": "code",
   "execution_count": null,
   "metadata": {},
   "outputs": [],
   "source": [
    "# 4 4 2 1\n",
    "# 1 2\n",
    "# 1 3\n",
    "# 2 3\n",
    "# 2 4\n",
    "\n",
    "# 출력: 4"
   ]
  },
  {
   "cell_type": "code",
   "execution_count": null,
   "metadata": {},
   "outputs": [
    {
     "name": "stdout",
     "output_type": "stream",
     "text": [
      "[1, 3]\n",
      "[1, 3]\n",
      "[2, 4]\n",
      "[2, 4]\n",
      "[2, 3]\n",
      "[2, 3]\n",
      "[0, 0]\n",
      "[0, 0]\n",
      "[1, 2]\n",
      "[1, 2]\n",
      "2\n",
      "4\n"
     ]
    }
   ],
   "source": [
    "from collections import deque\n",
    "\n",
    "n, m, k, x = 4, 4, 2, 1\n",
    "graph = [[1, 2], [1, 3], [2, 3], [2, 4], [0, 0]]\n",
    "\n",
    "distance = [-1] * (n + 1)\n",
    "distance[x] = 0\n",
    "\n",
    "q = deque()\n",
    "q.append(1)  # q = deque([1])\n",
    "while q:\n",
    "    now = q.popleft()\n",
    "    for current in graph[now]: # [1, 2]\n",
    "        if distance[current] == -1:\n",
    "            distance[current] = distance[now] + 1\n",
    "            q.append(current)\n",
    "        \n",
    "\n",
    "check = False\n",
    "for i in range(1, n + 1):\n",
    "    if distance[i] == k:\n",
    "        print(i)\n",
    "        check = True\n",
    "\n",
    "if check == False:\n",
    "    print(-1)\n"
   ]
  }
 ],
 "metadata": {
  "kernelspec": {
   "display_name": "noname",
   "language": "python",
   "name": "python3"
  },
  "language_info": {
   "codemirror_mode": {
    "name": "ipython",
    "version": 3
   },
   "file_extension": ".py",
   "mimetype": "text/x-python",
   "name": "python",
   "nbconvert_exporter": "python",
   "pygments_lexer": "ipython3",
   "version": "3.11.0"
  }
 },
 "nbformat": 4,
 "nbformat_minor": 2
}
