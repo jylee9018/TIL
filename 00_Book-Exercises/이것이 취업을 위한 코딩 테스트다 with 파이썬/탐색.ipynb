{
 "cells": [
  {
   "cell_type": "markdown",
   "metadata": {},
   "source": [
    "섬의 개수 세기\n",
    "- 1은 땅, 0은 물, 섬의 개수는?"
   ]
  },
  {
   "cell_type": "code",
   "execution_count": 10,
   "metadata": {},
   "outputs": [],
   "source": [
    "grid = [\n",
    "    [\"1\", \"1\", \"0\", \"0\", \"0\"],\n",
    "    [\"1\", \"1\", \"0\", \"0\", \"1\"],\n",
    "    [\"0\", \"0\", \"0\", \"1\", \"1\"],\n",
    "    [\"0\", \"0\", \"0\", \"0\", \"0\"],\n",
    "    [\"1\", \"0\", \"1\", \"0\", \"1\"],\n",
    "]"
   ]
  },
  {
   "cell_type": "code",
   "execution_count": 2,
   "metadata": {},
   "outputs": [
    {
     "name": "stdout",
     "output_type": "stream",
     "text": [
      "After popleft():  deque([])\n",
      "After append() :  deque([(0, 1)])\n",
      "After append() :  deque([(0, 1), (1, 0)])\n",
      "After popleft():  deque([(1, 0)])\n",
      "After append() :  deque([(1, 0), (1, 1)])\n",
      "After popleft():  deque([(1, 1)])\n",
      "After popleft():  deque([])\n",
      "After popleft():  deque([])\n",
      "After append() :  deque([(2, 4)])\n",
      "After popleft():  deque([])\n",
      "After append() :  deque([(2, 3)])\n",
      "After popleft():  deque([])\n",
      "After popleft():  deque([])\n",
      "After popleft():  deque([])\n",
      "After popleft():  deque([])\n",
      "5\n"
     ]
    }
   ],
   "source": [
    "# BFS\n",
    "from collections import deque\n",
    "\n",
    "dx = [0, 0, -1, 1]\n",
    "dy = [-1, 1, 0, 0]\n",
    "\n",
    "\n",
    "def solution(x, y):\n",
    "    q = deque()\n",
    "    q.append((x, y))\n",
    "    grid[x][y] = \"0\"\n",
    "\n",
    "    while q:\n",
    "        x, y = q.popleft()\n",
    "        print(\"After popleft(): \", q)\n",
    "\n",
    "        for i in range(4):\n",
    "            nx = x + dx[i]\n",
    "            ny = y + dy[i]\n",
    "\n",
    "            if 0 <= nx < len(grid) and 0 <= ny < len(grid[0]) and grid[nx][ny] == \"1\":\n",
    "                q.append((nx, ny))\n",
    "                print(\"After append() : \", q)\n",
    "                grid[nx][ny] = \"0\"\n",
    "\n",
    "\n",
    "count = 0\n",
    "for i in range(len(grid)):\n",
    "    for j in range(len(grid[0])):\n",
    "        if grid[i][j] == \"1\":\n",
    "            solution(i, j)\n",
    "            count += 1\n",
    "\n",
    "print(count)"
   ]
  },
  {
   "cell_type": "code",
   "execution_count": null,
   "metadata": {},
   "outputs": [
    {
     "name": "stdout",
     "output_type": "stream",
     "text": [
      "5\n"
     ]
    }
   ],
   "source": [
    "# DFS(재귀)\n",
    "\n",
    "directions = [(-1, 0), (1, 0), (0, -1), (0, 1)]\n",
    "\n",
    "\n",
    "def solution(x, y):\n",
    "    if x < 0 or x >= len(grid) or y < 0 or y >= len(grid[0]) or grid[x][y] == \"0\":\n",
    "        return\n",
    "\n",
    "    grid[x][y] = \"0\"\n",
    "\n",
    "    for dx, dy in directions:\n",
    "        solution(x + dx, y + dy)\n",
    "\n",
    "\n",
    "count = 0\n",
    "for i in range(len(grid)):\n",
    "    for j in range(len(grid[0])):\n",
    "        if grid[i][j] == \"1\":\n",
    "            solution(i, j)\n",
    "            count += 1\n",
    "\n",
    "print(count)"
   ]
  },
  {
   "cell_type": "code",
   "execution_count": 13,
   "metadata": {},
   "outputs": [
    {
     "name": "stdout",
     "output_type": "stream",
     "text": [
      "5\n"
     ]
    }
   ],
   "source": [
    "# DFS(스택-리스트)\n",
    "\n",
    "directions = [(-1, 0), (1, 0), (0, -1), (0, 1)]\n",
    "\n",
    "\n",
    "def solution(x, y):\n",
    "    s = [(x, y)]\n",
    "    grid[x][y] = \"0\"\n",
    "\n",
    "    while s:\n",
    "        x, y = s.pop()\n",
    "\n",
    "        for dx, dy in directions:\n",
    "            nx, ny = x + dx, y + dy\n",
    "\n",
    "            if 0 <= nx < len(grid) and 0 <= ny < len(grid[0]) and grid[nx][ny] == \"1\":\n",
    "                s.append((nx, ny))\n",
    "                grid[nx][ny] = \"0\"\n",
    "\n",
    "\n",
    "count = 0\n",
    "for i in range(len(grid)):\n",
    "    for j in range(len(grid[i])):\n",
    "        if grid[i][j] == \"1\":\n",
    "            solution(i, j)\n",
    "            count += 1\n",
    "\n",
    "print(count)"
   ]
  },
  {
   "cell_type": "markdown",
   "metadata": {},
   "source": [
    "다시 풀기 (1회차)"
   ]
  },
  {
   "cell_type": "code",
   "execution_count": null,
   "metadata": {},
   "outputs": [],
   "source": []
  }
 ],
 "metadata": {
  "kernelspec": {
   "display_name": "noname",
   "language": "python",
   "name": "python3"
  },
  "language_info": {
   "codemirror_mode": {
    "name": "ipython",
    "version": 3
   },
   "file_extension": ".py",
   "mimetype": "text/x-python",
   "name": "python",
   "nbconvert_exporter": "python",
   "pygments_lexer": "ipython3",
   "version": "3.11.0"
  }
 },
 "nbformat": 4,
 "nbformat_minor": 2
}
