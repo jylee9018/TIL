{
 "cells": [
  {
   "cell_type": "markdown",
   "metadata": {},
   "source": [
    "- int 자료형 데이터의 개수(리스트의 길이)에 따른 메모리 사용량\n",
    "  - 1,000 / 약 4KB\n",
    "  - 1,000,000 / 약 4MB\n",
    "  - 10,000,000 / 약 40MB\n",
    "\n",
    "- 1,000만 이상인 리스트가 있다면 메모리 용량 제한으로 문제를 풀 수 없게되는 경우도 있다."
   ]
  },
  {
   "cell_type": "markdown",
   "metadata": {},
   "source": [
    "예제 4-1. 상하좌우"
   ]
  },
  {
   "cell_type": "code",
   "execution_count": 3,
   "metadata": {},
   "outputs": [
    {
     "name": "stdout",
     "output_type": "stream",
     "text": [
      "['1', '2', '3', '4', '5']\n"
     ]
    }
   ],
   "source": [
    "# N을 입력받기\n",
    "n = int(input())\n",
    "x, y = 1, 1\n",
    "plans = list(input.split())\n",
    "\n",
    "# L, R, U, D에 따른 이동 방향\n",
    "dx = [0, 0, -1, 1]\n",
    "dy = [-1, 1, 0, 0]\n",
    "move_types = [\"L\", \"R\", \"U\", \"D\"]\n",
    "\n",
    "# 이동 계획을 하나씩 확인\n",
    "for plan in plans:\n",
    "    # 이동 후 좌표 구하기\n",
    "    for i in range(len(move_types)):\n",
    "        nx = x + dx[i]\n",
    "        ny = y + dx[i]\n",
    "    # 공간을 벗어나는 경우 무시\n",
    "    if nx < 1 or ny < 1 or nx > n or ny > n:\n",
    "        continue\n",
    "\n",
    "    # 이동 수행\n",
    "    x, y = nx, ny\n",
    "\n",
    "print(x, y)"
   ]
  },
  {
   "cell_type": "markdown",
   "metadata": {},
   "source": [
    "예제 4-2. 시각"
   ]
  },
  {
   "cell_type": "code",
   "execution_count": 4,
   "metadata": {},
   "outputs": [
    {
     "name": "stdout",
     "output_type": "stream",
     "text": [
      "43875\n"
     ]
    }
   ],
   "source": [
    "h = int(input())\n",
    "\n",
    "count = 0\n",
    "for i in range(h + 1):\n",
    "    for j in range(60):\n",
    "        for k in range(60):\n",
    "            if \"3\" in str(i) + str(j) + str(k):\n",
    "                count += 1\n",
    "\n",
    "print(count)"
   ]
  },
  {
   "cell_type": "markdown",
   "metadata": {},
   "source": [
    "실전 2. 왕실의 나이트"
   ]
  },
  {
   "cell_type": "code",
   "execution_count": 7,
   "metadata": {},
   "outputs": [
    {
     "name": "stdout",
     "output_type": "stream",
     "text": [
      "2\n"
     ]
    }
   ],
   "source": [
    "n = 8\n",
    "\n",
    "dx = [2, -2, 2, -2, 1, -1, 1, -1]\n",
    "dy = [1, 1, -1, -1, 2, 2, -2, -2]\n",
    "\n",
    "# x, y = 1, 1\n",
    "inputs = input()\n",
    "\n",
    "x = inputs[0]\n",
    "\n",
    "row = \"a b c d e f g h\"\n",
    "row = list(map(str, row.split()))\n",
    "\n",
    "for i in range(8):\n",
    "    if inputs[0] == row[i]:\n",
    "        x = i + 1\n",
    "\n",
    "y = int(inputs[1])\n",
    "\n",
    "count = 0\n",
    "for i in range(n):\n",
    "    nx = x + dx[i]\n",
    "    ny = y + dy[i]\n",
    "    count += 1\n",
    "\n",
    "    if nx < 1 or ny < 1 or nx > n or ny > n:\n",
    "        count -= 1\n",
    "\n",
    "\n",
    "print(count)"
   ]
  },
  {
   "cell_type": "code",
   "execution_count": 8,
   "metadata": {},
   "outputs": [
    {
     "name": "stdout",
     "output_type": "stream",
     "text": [
      "['a', '1']\n"
     ]
    }
   ],
   "source": [
    "str = \"a1\"\n",
    "print(list(str))"
   ]
  },
  {
   "cell_type": "markdown",
   "metadata": {},
   "source": [
    "실전 3. 게임 개발"
   ]
  },
  {
   "cell_type": "code",
   "execution_count": 7,
   "metadata": {},
   "outputs": [
    {
     "name": "stdout",
     "output_type": "stream",
     "text": [
      "3\n"
     ]
    }
   ],
   "source": [
    "n, m = map(int, input().split())\n",
    "x, y, d = map(int, input().split())\n",
    "\n",
    "array = []\n",
    "for _ in range(n):\n",
    "    row = list(map(int, input().split()))\n",
    "    array.append(row)\n",
    "\n",
    "visited = [[0] * m for _ in range(n)]\n",
    "\n",
    "visited[x][y] = 1\n",
    "\n",
    "dx = [-1, 0, 1, 0]\n",
    "dy = [0, 1, 0, -1]\n",
    "\n",
    "\n",
    "def turn_left():\n",
    "    global d\n",
    "    d -= 1\n",
    "    if d == -1:\n",
    "        d = 3\n",
    "\n",
    "\n",
    "count = 1\n",
    "turn_time = 0\n",
    "\n",
    "while True:\n",
    "    turn_left()\n",
    "    nx = x + dx[d]\n",
    "    ny = y + dy[d]\n",
    "    if visited[nx][ny] == 0 and array[nx][ny] == 0:\n",
    "        visited[nx][ny] = 1\n",
    "        x = nx\n",
    "        y = ny\n",
    "        count += 1\n",
    "        turn_time = 0\n",
    "        continue\n",
    "    else:\n",
    "        turn_time += 1\n",
    "\n",
    "    if turn_time == 4:\n",
    "        nx = x - dx[d]\n",
    "        ny = y - dy[d]\n",
    "        if array[nx][ny] == 0:\n",
    "            x = nx\n",
    "            y = ny\n",
    "        else:\n",
    "            break\n",
    "        turn_time = 0\n",
    "\n",
    "print(count)"
   ]
  }
 ],
 "metadata": {
  "kernelspec": {
   "display_name": "noname",
   "language": "python",
   "name": "python3"
  },
  "language_info": {
   "codemirror_mode": {
    "name": "ipython",
    "version": 3
   },
   "file_extension": ".py",
   "mimetype": "text/x-python",
   "name": "python",
   "nbconvert_exporter": "python",
   "pygments_lexer": "ipython3",
   "version": "3.11.0"
  }
 },
 "nbformat": 4,
 "nbformat_minor": 2
}
