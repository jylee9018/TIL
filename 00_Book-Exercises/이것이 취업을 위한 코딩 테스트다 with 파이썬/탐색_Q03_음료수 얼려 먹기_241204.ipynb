{
 "cells": [
  {
   "cell_type": "code",
   "execution_count": 6,
   "metadata": {},
   "outputs": [
    {
     "data": {
      "text/plain": [
       "4"
      ]
     },
     "execution_count": 6,
     "metadata": {},
     "output_type": "execute_result"
    }
   ],
   "source": [
    "def solution():\n",
    "    # n, m = map(int, input().split(\" \"))\n",
    "\n",
    "    # maps = []\n",
    "    # for _ in range(n):\n",
    "    #     maps.append(list(map(int, input())))\n",
    "\n",
    "    n, m = 4, 5\n",
    "    maps = [[0, 0, 1, 1, 0], [0, 0, 0, 1, 1], [1, 1, 1, 1, 1], [0, 0, 0, 0, 0]]\n",
    "\n",
    "    dx = [0, 0, -1, 1]\n",
    "    dy = [1, -1, 0, 0]\n",
    "\n",
    "    def dfs(x, y):\n",
    "        if x < 0 or x >= n or y < 0 or y >= m:\n",
    "            return False\n",
    "\n",
    "        if maps[x][y] == 0:\n",
    "            maps[x][y] = 1\n",
    "\n",
    "            for i in range(len(dx)):\n",
    "                x += dx[i]\n",
    "                y += dy[i]\n",
    "                dfs(x, y)\n",
    "                return True\n",
    "            # dfs(x, y + 1)\n",
    "            # dfs(x, y - 1)\n",
    "            # dfs(x - 1, y)\n",
    "            # dfs(x, y - 1)\n",
    "            # return True\n",
    "        return False\n",
    "\n",
    "    answer = 0\n",
    "    for i in range(n):\n",
    "        for j in range(m):\n",
    "            if dfs(i, j) == True:\n",
    "                answer += 1\n",
    "\n",
    "    return answer\n",
    "\n",
    "\n",
    "solution()"
   ]
  },
  {
   "cell_type": "code",
   "execution_count": 7,
   "metadata": {},
   "outputs": [
    {
     "name": "stdout",
     "output_type": "stream",
     "text": [
      "4\n"
     ]
    }
   ],
   "source": [
    "# n, m = map(int, input().split(\" \"))\n",
    "\n",
    "# maps = []\n",
    "# for _ in range(n):\n",
    "#     maps.append(list(map(int, input())))\n",
    "\n",
    "n, m = 4, 5\n",
    "maps = [[0, 0, 1, 1, 0], [0, 0, 0, 1, 1], [1, 1, 1, 1, 1], [0, 0, 0, 0, 0]]\n",
    "\n",
    "dx = [0, 0, -1, 1]\n",
    "dy = [1, -1, 0, 0]\n",
    "\n",
    "\n",
    "def dfs(x, y):\n",
    "    if x < 0 or x >= n or y < 0 or y >= m:\n",
    "        return False\n",
    "\n",
    "    if maps[x][y] == 0:\n",
    "        maps[x][y] = 1\n",
    "\n",
    "        # for i in range(len(dx)):\n",
    "        #     x += dx[i]\n",
    "        #     y += dy[i]\n",
    "        #     dfs(x, y)\n",
    "        #     return True\n",
    "        dfs(x, y + 1)\n",
    "        dfs(x, y - 1)\n",
    "        dfs(x - 1, y)\n",
    "        dfs(x, y - 1)\n",
    "        return True\n",
    "    return False\n",
    "\n",
    "\n",
    "answer = 0\n",
    "for i in range(n):\n",
    "    for j in range(m):\n",
    "        if dfs(i, j) == True:\n",
    "            answer += 1\n",
    "\n",
    "print(answer)"
   ]
  }
 ],
 "metadata": {
  "kernelspec": {
   "display_name": "noname",
   "language": "python",
   "name": "python3"
  },
  "language_info": {
   "codemirror_mode": {
    "name": "ipython",
    "version": 3
   },
   "file_extension": ".py",
   "mimetype": "text/x-python",
   "name": "python",
   "nbconvert_exporter": "python",
   "pygments_lexer": "ipython3",
   "version": "3.11.0"
  }
 },
 "nbformat": 4,
 "nbformat_minor": 2
}
