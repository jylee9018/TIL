{
 "cells": [
  {
   "cell_type": "code",
   "execution_count": 1,
   "metadata": {},
   "outputs": [
    {
     "name": "stdout",
     "output_type": "stream",
     "text": [
      "1\n"
     ]
    }
   ],
   "source": [
    "from collections import deque\n",
    "\n",
    "# # 입력받기\n",
    "# n, m = map(int, input().split())\n",
    "\n",
    "# maps = []\n",
    "# for _ in range(n):\n",
    "#     maps.append(list(map(int, input())))\n",
    "\n",
    "# print(n, m)\n",
    "# print(maps)\n",
    "\n",
    "n = 5\n",
    "m = 6\n",
    "graph = [\n",
    "    [1, 0, 1, 0, 1, 0],\n",
    "    [1, 1, 1, 1, 1, 1],\n",
    "    [0, 0, 0, 0, 0, 1],\n",
    "    [1, 1, 1, 1, 1, 1],\n",
    "    [1, 1, 1, 1, 1, 1],\n",
    "]\n",
    "\n",
    "dx = [0, 0, 1, -1]\n",
    "dy = [1, -1, 0, 0]\n",
    "\n",
    "\n",
    "def bfs(x, y):\n",
    "    que = deque()\n",
    "    que.append((x, y))\n",
    "\n",
    "    while que:\n",
    "        x, y = que.popleft()\n",
    "\n",
    "        for i in range(4):\n",
    "            nx = x + dx[i]\n",
    "            ny = x + dy[i]\n",
    "\n",
    "            # if nx < 0 or nx >= n or ny < 0 or ny >= m:\n",
    "            if nx <= -1 or nx >= n or ny <= -1 or ny >= m:\n",
    "                continue\n",
    "\n",
    "            if graph[nx][ny] == 0:\n",
    "                continue\n",
    "\n",
    "            if graph[nx][ny] == 1:\n",
    "                graph[nx][ny] = graph[x][y] + 1\n",
    "                que.append((nx, ny))\n",
    "\n",
    "    return graph[n - 1][m - 1]\n",
    "\n",
    "\n",
    "print(bfs(0, 0))"
   ]
  }
 ],
 "metadata": {
  "kernelspec": {
   "display_name": "noname",
   "language": "python",
   "name": "python3"
  },
  "language_info": {
   "codemirror_mode": {
    "name": "ipython",
    "version": 3
   },
   "file_extension": ".py",
   "mimetype": "text/x-python",
   "name": "python",
   "nbconvert_exporter": "python",
   "pygments_lexer": "ipython3",
   "version": "3.11.0"
  }
 },
 "nbformat": 4,
 "nbformat_minor": 2
}
