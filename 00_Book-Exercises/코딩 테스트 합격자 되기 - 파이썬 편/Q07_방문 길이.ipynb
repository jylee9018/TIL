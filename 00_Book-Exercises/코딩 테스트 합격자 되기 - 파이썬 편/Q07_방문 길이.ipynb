{
 "cells": [
  {
   "cell_type": "markdown",
   "metadata": {},
   "source": [
    "❌\n"
   ]
  },
  {
   "cell_type": "code",
   "execution_count": 24,
   "metadata": {},
   "outputs": [],
   "source": [
    "def solution(dirs):\n",
    "    du = (0, 1)\n",
    "    dd = (0, -1)\n",
    "    dr = (1, 0)\n",
    "    dl = (-1, 0)\n",
    "\n",
    "    # UDRL\n",
    "    move_x = [0, 0, 1, -1]\n",
    "    move_y = [1, -1, 0, 0]\n",
    "\n",
    "    next = (0, 0)\n",
    "    visited_xy = []\n",
    "    visited_di = []\n",
    "    count = 0\n",
    "    for dir in dirs:\n",
    "        if dir == \"U\":\n",
    "            next = (next[0] + move_x[0]), (next[1] + move_y[0])\n",
    "        elif dir == \"D\":\n",
    "            next = (next[0] + move_x[1]), (next[1] + move_y[1])\n",
    "        elif dir == \"R\":\n",
    "            next = (next[0] + move_x[2]), (next[1] + move_y[2])\n",
    "        elif dir == \"L\":\n",
    "            next = (next[0] + move_x[3]), (next[1] + move_y[3])\n",
    "\n",
    "        # 중복\n",
    "        if next[0] < -5 or next[0] > 5 or next[1] < -5 or next[1] > 5:\n",
    "            continue\n",
    "\n",
    "        visited_xy.append(next)\n",
    "        visited_di.append(dir)\n",
    "        count += 1\n",
    "\n",
    "\n",
    "    return count"
   ]
  },
  {
   "cell_type": "code",
   "execution_count": 25,
   "metadata": {},
   "outputs": [
    {
     "name": "stdout",
     "output_type": "stream",
     "text": [
      "9\n",
      "6\n"
     ]
    }
   ],
   "source": [
    "print(solution('ULURRDLLU'))\n",
    "print(solution('LULLLLLLU'))"
   ]
  },
  {
   "cell_type": "code",
   "execution_count": null,
   "metadata": {},
   "outputs": [],
   "source": [
    "a = (1, 2)\n",
    "\n",
    "print(a)\n",
    "print(a[0])\n",
    "print(a[1])"
   ]
  },
  {
   "cell_type": "code",
   "execution_count": 14,
   "metadata": {},
   "outputs": [
    {
     "name": "stdout",
     "output_type": "stream",
     "text": [
      "A\n",
      "B\n",
      "C\n",
      "D\n",
      "E\n"
     ]
    }
   ],
   "source": [
    "string = 'ABCDE'\n",
    "for s in string:\n",
    "    print(s)"
   ]
  },
  {
   "cell_type": "code",
   "execution_count": 15,
   "metadata": {},
   "outputs": [
    {
     "name": "stdout",
     "output_type": "stream",
     "text": [
      "B\n",
      "C\n",
      "D\n",
      "E\n",
      "4\n"
     ]
    }
   ],
   "source": [
    "count = 0\n",
    "for s in string:\n",
    "    if s == \"A\":\n",
    "        continue\n",
    "\n",
    "    count += 1    \n",
    "    print(s)\n",
    "\n",
    "print(count)"
   ]
  },
  {
   "cell_type": "code",
   "execution_count": 16,
   "metadata": {},
   "outputs": [
    {
     "name": "stdout",
     "output_type": "stream",
     "text": [
      "0\n"
     ]
    }
   ],
   "source": [
    "count = 0\n",
    "for s in string:\n",
    "    if s == \"A\":\n",
    "        break\n",
    "\n",
    "    count += 1    \n",
    "    print(s)\n",
    "\n",
    "print(count)"
   ]
  },
  {
   "cell_type": "code",
   "execution_count": 20,
   "metadata": {},
   "outputs": [
    {
     "name": "stdout",
     "output_type": "stream",
     "text": [
      "B\n",
      "C\n",
      "D\n",
      "E\n",
      "4\n"
     ]
    }
   ],
   "source": [
    "count = 0\n",
    "for s in string:\n",
    "    if s == \"A\":\n",
    "        continue\n",
    "\n",
    "    for i in range(len(string)):\n",
    "        if string[i] == \"B\":\n",
    "            continue\n",
    "        continue\n",
    "\n",
    "    count += 1    \n",
    "    print(s)\n",
    "\n",
    "print(count)"
   ]
  }
 ],
 "metadata": {
  "kernelspec": {
   "display_name": "noname",
   "language": "python",
   "name": "python3"
  },
  "language_info": {
   "codemirror_mode": {
    "name": "ipython",
    "version": 3
   },
   "file_extension": ".py",
   "mimetype": "text/x-python",
   "name": "python",
   "nbconvert_exporter": "python",
   "pygments_lexer": "ipython3",
   "version": "3.11.0"
  }
 },
 "nbformat": 4,
 "nbformat_minor": 2
}
