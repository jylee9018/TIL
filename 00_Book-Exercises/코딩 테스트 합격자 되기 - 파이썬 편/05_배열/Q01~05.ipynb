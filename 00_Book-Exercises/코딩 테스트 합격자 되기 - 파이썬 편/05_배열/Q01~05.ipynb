{
 "cells": [
  {
   "cell_type": "markdown",
   "metadata": {},
   "source": [
    "##### 01. 배열 정렬하기"
   ]
  },
  {
   "cell_type": "code",
   "execution_count": null,
   "metadata": {},
   "outputs": [],
   "source": [
    "def solution(array):\n",
    "    # 리스트 반환하지 않음. 해당 리스트 자체를 정렬\n",
    "    array.sort()\n",
    "    return array\n",
    "\n",
    "\n",
    "print(solution([1, -5, 2, 4, 3]))"
   ]
  },
  {
   "cell_type": "code",
   "execution_count": null,
   "metadata": {},
   "outputs": [],
   "source": [
    "def solution(array):\n",
    "    # 리스트 반환\n",
    "    array_sorted = sorted(array)\n",
    "    return array_sorted\n",
    "\n",
    "\n",
    "print(solution([1, -5, 2, 4, 3]))"
   ]
  },
  {
   "cell_type": "markdown",
   "metadata": {},
   "source": [
    "- 시간 복잡도 분석하기\n",
    "  - N은 array의 길이이므로 $O(N\\log N)$"
   ]
  },
  {
   "cell_type": "markdown",
   "metadata": {},
   "source": [
    "##### 02. 배열 제어하기"
   ]
  },
  {
   "cell_type": "code",
   "execution_count": null,
   "metadata": {},
   "outputs": [],
   "source": [
    "def solution(array):\n",
    "    array_unique = list(set(array))\n",
    "    array_unique.sort(reverse=True)\n",
    "    return array_unique\n",
    "\n",
    "\n",
    "print(solution([4, 2, 2, 1, 3, 4]))"
   ]
  },
  {
   "cell_type": "markdown",
   "metadata": {},
   "source": [
    "##### 03. 두 개 뽑아서 더하기"
   ]
  },
  {
   "cell_type": "code",
   "execution_count": null,
   "metadata": {},
   "outputs": [],
   "source": [
    "def solution(numbers):\n",
    "    # 조합...?\n",
    "\n",
    "    result = []\n",
    "    for i in range(len(numbers)):\n",
    "        for j in range(len(numbers)):\n",
    "            if i == j:\n",
    "                continue\n",
    "            result.append(numbers[i] + numbers[j])\n",
    "\n",
    "    answer = list(set(result))\n",
    "    answer.sort()\n",
    "\n",
    "    return answer\n",
    "\n",
    "\n",
    "print(solution([2, 1, 3, 4, 1]))"
   ]
  },
  {
   "cell_type": "code",
   "execution_count": null,
   "metadata": {},
   "outputs": [],
   "source": [
    "def solution(numbers):\n",
    "    result = []\n",
    "    for i in range(len(numbers)):\n",
    "        for j in range(i + 1, len(numbers)):\n",
    "            result.append(numbers[i] + numbers[j])\n",
    "\n",
    "    answer = sorted(set(result))\n",
    "    return answer\n",
    "\n",
    "\n",
    "print(solution([2, 1, 3, 4, 1]))"
   ]
  },
  {
   "cell_type": "markdown",
   "metadata": {},
   "source": [
    "##### 04. 모의고사"
   ]
  },
  {
   "cell_type": "code",
   "execution_count": null,
   "metadata": {},
   "outputs": [
    {
     "name": "stdout",
     "output_type": "stream",
     "text": [
      "[6, 0, 5]\n",
      "[0, 5, 6]\n"
     ]
    },
    {
     "data": {
      "text/plain": [
       "0"
      ]
     },
     "execution_count": 25,
     "metadata": {},
     "output_type": "execute_result"
    }
   ],
   "source": [
    "def solution(answers):\n",
    "\n",
    "    p1 = [1, 2, 3, 4, 5]\n",
    "    p2 = [2, 1, 2, 3, 2, 4, 2, 5, 2, 1]\n",
    "    p3 = [3, 3, 1, 1, 2, 2, 4, 4, 5, 5]\n",
    "\n",
    "    result = [0, 0, 0]\n",
    "    for i, answer in enumerate(answers):\n",
    "        if p1[i % 5] == answer:\n",
    "            result[0] += 1\n",
    "        if p2[i % 10] == answer:\n",
    "            result[1] += 1\n",
    "        if p3[i % 10] == answer:\n",
    "            result[2] += 1\n",
    "\n",
    "    print(result)\n",
    "    result.sort()\n",
    "    print(result)\n",
    "\n",
    "    return 0\n",
    "\n",
    "\n",
    "answers = [1, 2, 3, 4, 5, 1, 2, 3, 4, 5]\n",
    "solution(answers)"
   ]
  },
  {
   "cell_type": "markdown",
   "metadata": {},
   "source": [
    "##### 05. 행렬의 곱셈"
   ]
  },
  {
   "cell_type": "code",
   "execution_count": null,
   "metadata": {},
   "outputs": [
    {
     "data": {
      "text/plain": [
       "[[15, 15], [15, 15], [15, 15]]"
      ]
     },
     "execution_count": 17,
     "metadata": {},
     "output_type": "execute_result"
    }
   ],
   "source": [
    "def solution(arr1, arr2):\n",
    "    r1, c1 = len(arr1), len(arr1[0])\n",
    "    r2, c2 = len(arr2), len(arr2[0])\n",
    "\n",
    "    # answer = [[0] * c2] * r1 ## ???\n",
    "    answer = [[0] * c2 for _ in range(r1)]\n",
    "\n",
    "    for i in range(r1):\n",
    "        for j in range(c2):\n",
    "            for k in range(c1):\n",
    "                answer[i][j] += arr1[i][k] * arr2[k][j]\n",
    "\n",
    "    return answer\n",
    "\n",
    "\n",
    "arr1 = [[1, 4], [3, 2], [4, 1]]\n",
    "arr2 = [[3, 3], [3, 3]]\n",
    "solution(arr1, arr2)"
   ]
  },
  {
   "cell_type": "code",
   "execution_count": 16,
   "metadata": {},
   "outputs": [
    {
     "name": "stdout",
     "output_type": "stream",
     "text": [
      "[[0, 0], [0, 0], [0, 0]]\n",
      "[[0, 0], [0, 0], [0, 0]]\n"
     ]
    }
   ],
   "source": [
    "r1, c2 = 3, 2\n",
    "answer1 = [[0] * c2] * r1\n",
    "answer2 = [[0] * c2 for _ in range(r1)]\n",
    "\n",
    "print(answer1)\n",
    "print(answer2)"
   ]
  },
  {
   "cell_type": "code",
   "execution_count": null,
   "metadata": {},
   "outputs": [],
   "source": [
    "import numpy as np\n",
    "\n",
    "arr1_np = np.array(arr1)\n",
    "arr2_np = np.array(arr2)\n",
    "\n",
    "result = arr1_np @ arr2_np"
   ]
  },
  {
   "cell_type": "code",
   "execution_count": null,
   "metadata": {},
   "outputs": [],
   "source": []
  }
 ],
 "metadata": {
  "kernelspec": {
   "display_name": "noname",
   "language": "python",
   "name": "python3"
  },
  "language_info": {
   "codemirror_mode": {
    "name": "ipython",
    "version": 3
   },
   "file_extension": ".py",
   "mimetype": "text/x-python",
   "name": "python",
   "nbconvert_exporter": "python",
   "pygments_lexer": "ipython3",
   "version": "3.11.0"
  }
 },
 "nbformat": 4,
 "nbformat_minor": 2
}
