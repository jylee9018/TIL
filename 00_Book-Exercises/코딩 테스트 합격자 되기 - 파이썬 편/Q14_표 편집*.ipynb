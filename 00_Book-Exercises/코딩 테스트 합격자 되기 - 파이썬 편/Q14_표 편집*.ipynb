{
 "cells": [
  {
   "cell_type": "markdown",
   "metadata": {},
   "source": [
    "❌\n"
   ]
  },
  {
   "cell_type": "code",
   "execution_count": 7,
   "metadata": {},
   "outputs": [],
   "source": [
    "# n = 처음 표의 행 개수\n",
    "# k = 처음 선택한 행 위치\n",
    "# cmd = 수행할 명령어 [\"U X\", \"D X\", \"C\" \"Z\"]\n",
    "## \"U X\" 현재 선택한 행에서 X칸 위에 있는 행 선택\n",
    "## \"D X\" 현재 선택한 행애서 X칸 아래에 있는 행 선택\n",
    "## \"C\"   현재 선택한 행 삭제 후, 바로 아래 행 선택. 단, 삭제된 행이 마지막 행인 경우 바로 윗 행 선택\n",
    "## \"Z\"   가장 최근에 삭제한 행을 원래대로 복구. 현재 선택한 행은 바뀌지 않음\n",
    "def solution(n, k, cmd):\n",
    "    numbers_list_origin = [i for i in range(n)]\n",
    "    numbers_list = [i for i in range(n)]\n",
    "\n",
    "    current = k\n",
    "    stack = []\n",
    "\n",
    "    for i, c in enumerate(cmd):\n",
    "        if len(c) > 1:\n",
    "            temp = c.split(\" \")\n",
    "            c = temp[0]\n",
    "            number = int(temp[1])\n",
    "            if c == \"U\":\n",
    "                current -= number\n",
    "            elif c == \"D\":\n",
    "                current += number\n",
    "\n",
    "            print(numbers_list, current)\n",
    "\n",
    "        # 삭제\n",
    "        elif c == \"C\":\n",
    "            numbers_list[current] = -1\n",
    "            stack.append(current)\n",
    "\n",
    "            # 삭제행이 마지막인 경우, 바로 윗 행 선택\n",
    "            if current == len(numbers_list) - 1:\n",
    "                current -= 1\n",
    "            else:\n",
    "                current += 1\n",
    "            print(numbers_list, current)\n",
    "\n",
    "        # 복구\n",
    "        elif c == \"Z\":\n",
    "            temp = stack.pop()\n",
    "            numbers_list.insert(temp, temp)\n",
    "            numbers_list.remove(numbers_list[temp + 1])\n",
    "            print(numbers_list, current)\n",
    "\n",
    "    answer = \"\"\n",
    "    for i, n in enumerate(numbers_list):\n",
    "        if numbers_list_origin[i] == numbers_list[i]:\n",
    "            answer += \"O\"\n",
    "        else:\n",
    "            answer += \"X\"\n",
    "\n",
    "    print(numbers_list)\n",
    "\n",
    "    return answer"
   ]
  },
  {
   "cell_type": "code",
   "execution_count": 8,
   "metadata": {},
   "outputs": [
    {
     "name": "stdout",
     "output_type": "stream",
     "text": [
      "[0, 1, 2, 3, 4, 5, 6, 7] 4\n",
      "[0, 1, 2, 3, -1, 5, 6, 7] 5\n",
      "[0, 1, 2, 3, -1, 5, 6, 7] 2\n",
      "[0, 1, -1, 3, -1, 5, 6, 7] 3\n",
      "[0, 1, -1, 3, -1, 5, 6, 7] 7\n",
      "[0, 1, -1, 3, -1, 5, 6, -1] 6\n",
      "[0, 1, -1, 3, -1, 5, 6, -1] 4\n",
      "[0, 1, 3, -1, 5, 6, 7, -1] 4\n",
      "[0, 1, 2, -1, 5, 6, 7, -1] 4\n",
      "[0, 1, 2, -1, 5, 6, 7, -1]\n",
      "OOOXXXXX\n"
     ]
    }
   ],
   "source": [
    "print(solution(8, 2, [\"D 2\", \"C\", \"U 3\", \"C\", \"D 4\", \"C\", \"U 2\", \"Z\", \"Z\"]))"
   ]
  },
  {
   "cell_type": "code",
   "execution_count": null,
   "metadata": {},
   "outputs": [],
   "source": [
    "# n = 처음 표의 행 개수\n",
    "# k = 처음 선택한 행 위치\n",
    "# cmd = 수행할 명령어 [\"U X\", \"D X\", \"C\" \"Z\"]\n",
    "## \"U X\" 현재 선택한 행에서 X칸 위에 있는 행 선택\n",
    "## \"D X\" 현재 선택한 행에서 X칸 아래에 있는 행 선택\n",
    "## \"C\"   현재 선택한 행 삭제 후, 바로 아래 행 선택. 단, 삭제된 행이 마지막 행인 경우 바로 윗 행 선택\n",
    "## \"Z\"   가장 최근에 삭제한 행을 원래대로 복구. 현재 선택한 행은 바뀌지 않음\n",
    "def solution(n, k, cmd):\n",
    "    n_list = [i for i in range(n)]\n",
    "    current = n_list(k)\n",
    "    stack_removed = []\n",
    "\n",
    "    for c in cmd:\n",
    "        if len(c) > 1:\n",
    "            temp = c.split(\" \")\n",
    "            command = temp[0]\n",
    "            row = int(temp[1])\n",
    "            if command == \"U\":\n",
    "                current -= row\n",
    "            elif command == \"D\":\n",
    "                current += row\n",
    "            print(n_list, current)\n",
    "\n",
    "        # 행 삭제\n",
    "        elif c == \"C\":\n",
    "            n_list.remove(current)\n",
    "            stack_removed.append(current)\n",
    "            if current == len(n_list) + 1:\n",
    "                current += 1\n",
    "            else:\n",
    "                current -= 1\n",
    "            print(n_list, current)\n",
    "\n",
    "        # 행 복구\n",
    "        elif c == \"Z\":\n",
    "            number = stack_removed.pop()\n",
    "            n_list.insert(number, number)\n",
    "            if current > number:\n",
    "                current += 1\n",
    "            print(n_list, current)\n",
    "\n",
    "        answer = \"\"\n",
    "        # 원래 리스트와 바뀐 리스트 비교\n",
    "        for i in range(n):\n",
    "            if i in n_list:\n",
    "                answer += \"O\"\n",
    "            else:\n",
    "                answer += \"X\"\n",
    "\n",
    "    return answer"
   ]
  },
  {
   "cell_type": "code",
   "execution_count": 20,
   "metadata": {},
   "outputs": [
    {
     "name": "stdout",
     "output_type": "stream",
     "text": [
      "[0, 1, 2, 3, 4, 5, 6, 7] 4\n",
      "[0, 1, 2, 3, 5, 6, 7] 3\n",
      "[0, 1, 2, 3, 5, 6, 7] 0\n",
      "[1, 2, 3, 5, 6, 7] -1\n",
      "[1, 2, 3, 5, 6, 7] 3\n",
      "[1, 2, 5, 6, 7] 2\n",
      "[1, 2, 5, 6, 7] 0\n",
      "[1, 2, 5, 3, 6, 7] 0\n",
      "[0, 1, 2, 5, 3, 6, 7] 0\n",
      "OOOOXOOO\n",
      "[0, 1, 2, 3, 4, 5, 6, 7] 4\n",
      "[0, 1, 2, 3, 5, 6, 7] 3\n",
      "[0, 1, 2, 3, 5, 6, 7] 0\n",
      "[1, 2, 3, 5, 6, 7] -1\n",
      "[1, 2, 3, 5, 6, 7] 3\n",
      "[1, 2, 5, 6, 7] 2\n",
      "[1, 2, 5, 6, 7] 0\n",
      "[1, 2, 5, 3, 6, 7] 0\n",
      "[0, 1, 2, 5, 3, 6, 7] 0\n",
      "[0, 1, 2, 5, 3, 6, 7] -1\n"
     ]
    },
    {
     "ename": "ValueError",
     "evalue": "list.remove(x): x not in list",
     "output_type": "error",
     "traceback": [
      "\u001b[0;31m---------------------------------------------------------------------------\u001b[0m",
      "\u001b[0;31mValueError\u001b[0m                                Traceback (most recent call last)",
      "Cell \u001b[0;32mIn[20], line 2\u001b[0m\n\u001b[1;32m      1\u001b[0m \u001b[38;5;28mprint\u001b[39m(solution(\u001b[38;5;241m8\u001b[39m, \u001b[38;5;241m2\u001b[39m, [\u001b[38;5;124m\"\u001b[39m\u001b[38;5;124mD 2\u001b[39m\u001b[38;5;124m\"\u001b[39m, \u001b[38;5;124m\"\u001b[39m\u001b[38;5;124mC\u001b[39m\u001b[38;5;124m\"\u001b[39m, \u001b[38;5;124m\"\u001b[39m\u001b[38;5;124mU 3\u001b[39m\u001b[38;5;124m\"\u001b[39m, \u001b[38;5;124m\"\u001b[39m\u001b[38;5;124mC\u001b[39m\u001b[38;5;124m\"\u001b[39m, \u001b[38;5;124m\"\u001b[39m\u001b[38;5;124mD 4\u001b[39m\u001b[38;5;124m\"\u001b[39m, \u001b[38;5;124m\"\u001b[39m\u001b[38;5;124mC\u001b[39m\u001b[38;5;124m\"\u001b[39m, \u001b[38;5;124m\"\u001b[39m\u001b[38;5;124mU 2\u001b[39m\u001b[38;5;124m\"\u001b[39m, \u001b[38;5;124m\"\u001b[39m\u001b[38;5;124mZ\u001b[39m\u001b[38;5;124m\"\u001b[39m, \u001b[38;5;124m\"\u001b[39m\u001b[38;5;124mZ\u001b[39m\u001b[38;5;124m\"\u001b[39m]))\n\u001b[0;32m----> 2\u001b[0m \u001b[38;5;28mprint\u001b[39m(solution(\u001b[38;5;241m8\u001b[39m, \u001b[38;5;241m2\u001b[39m, [\u001b[38;5;124m\"\u001b[39m\u001b[38;5;124mD 2\u001b[39m\u001b[38;5;124m\"\u001b[39m, \u001b[38;5;124m\"\u001b[39m\u001b[38;5;124mC\u001b[39m\u001b[38;5;124m\"\u001b[39m, \u001b[38;5;124m\"\u001b[39m\u001b[38;5;124mU 3\u001b[39m\u001b[38;5;124m\"\u001b[39m, \u001b[38;5;124m\"\u001b[39m\u001b[38;5;124mC\u001b[39m\u001b[38;5;124m\"\u001b[39m, \u001b[38;5;124m\"\u001b[39m\u001b[38;5;124mD 4\u001b[39m\u001b[38;5;124m\"\u001b[39m, \u001b[38;5;124m\"\u001b[39m\u001b[38;5;124mC\u001b[39m\u001b[38;5;124m\"\u001b[39m, \u001b[38;5;124m\"\u001b[39m\u001b[38;5;124mU 2\u001b[39m\u001b[38;5;124m\"\u001b[39m, \u001b[38;5;124m\"\u001b[39m\u001b[38;5;124mZ\u001b[39m\u001b[38;5;124m\"\u001b[39m, \u001b[38;5;124m\"\u001b[39m\u001b[38;5;124mZ\u001b[39m\u001b[38;5;124m\"\u001b[39m, \u001b[38;5;124m\"\u001b[39m\u001b[38;5;124mU 1\u001b[39m\u001b[38;5;124m\"\u001b[39m, \u001b[38;5;124m\"\u001b[39m\u001b[38;5;124mC\u001b[39m\u001b[38;5;124m\"\u001b[39m]))\n",
      "Cell \u001b[0;32mIn[19], line 26\u001b[0m, in \u001b[0;36msolution\u001b[0;34m(n, k, cmd)\u001b[0m\n\u001b[1;32m     24\u001b[0m \u001b[38;5;66;03m# 행 삭제\u001b[39;00m\n\u001b[1;32m     25\u001b[0m \u001b[38;5;28;01melif\u001b[39;00m c \u001b[38;5;241m==\u001b[39m \u001b[38;5;124m\"\u001b[39m\u001b[38;5;124mC\u001b[39m\u001b[38;5;124m\"\u001b[39m:\n\u001b[0;32m---> 26\u001b[0m     n_list\u001b[38;5;241m.\u001b[39mremove(current)\n\u001b[1;32m     27\u001b[0m     stack_removed\u001b[38;5;241m.\u001b[39mappend(current)\n\u001b[1;32m     28\u001b[0m     \u001b[38;5;28;01mif\u001b[39;00m current \u001b[38;5;241m==\u001b[39m \u001b[38;5;28mlen\u001b[39m(n_list) \u001b[38;5;241m+\u001b[39m \u001b[38;5;241m1\u001b[39m:\n",
      "\u001b[0;31mValueError\u001b[0m: list.remove(x): x not in list"
     ]
    }
   ],
   "source": [
    "print(solution(8, 2, [\"D 2\", \"C\", \"U 3\", \"C\", \"D 4\", \"C\", \"U 2\", \"Z\", \"Z\"]))\n",
    "print(solution(8, 2, [\"D 2\", \"C\", \"U 3\", \"C\", \"D 4\", \"C\", \"U 2\", \"Z\", \"Z\", \"U 1\", \"C\"]))"
   ]
  },
  {
   "cell_type": "code",
   "execution_count": null,
   "metadata": {},
   "outputs": [],
   "source": []
  },
  {
   "cell_type": "code",
   "execution_count": null,
   "metadata": {},
   "outputs": [],
   "source": [
    "a = [i for i in range(5)]\n",
    "print(a)\n",
    "\n",
    "a.remove(2)\n",
    "print(a)\n",
    "\n",
    "index = 2\n",
    "a.insert(index, index)\n",
    "a.remove(index + 1)\n",
    "print(a)"
   ]
  },
  {
   "cell_type": "code",
   "execution_count": null,
   "metadata": {},
   "outputs": [],
   "source": [
    "s = \"ab cde\"\n",
    "print(len(s))\n",
    "\n",
    "print(s.split(\" \"))\n",
    "\n",
    "a = [0, 1, 2, 3, 4]\n",
    "a.insert(1, 5)\n",
    "print(a)"
   ]
  },
  {
   "cell_type": "code",
   "execution_count": null,
   "metadata": {},
   "outputs": [],
   "source": []
  }
 ],
 "metadata": {
  "kernelspec": {
   "display_name": "noname",
   "language": "python",
   "name": "python3"
  },
  "language_info": {
   "codemirror_mode": {
    "name": "ipython",
    "version": 3
   },
   "file_extension": ".py",
   "mimetype": "text/x-python",
   "name": "python",
   "nbconvert_exporter": "python",
   "pygments_lexer": "ipython3",
   "version": "3.11.0"
  }
 },
 "nbformat": 4,
 "nbformat_minor": 2
}
