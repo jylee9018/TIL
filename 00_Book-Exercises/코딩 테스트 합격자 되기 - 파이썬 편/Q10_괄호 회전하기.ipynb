{
 "cells": [
  {
   "cell_type": "code",
   "execution_count": 45,
   "metadata": {},
   "outputs": [],
   "source": [
    "def solution(s):\n",
    "    def string_rotate(s):\n",
    "        s_rotated = []\n",
    "        for i in range(len(s)):\n",
    "            s_temp = \"\"\n",
    "            for j in range(len(s)):\n",
    "                k = i + j\n",
    "                s_temp += s[k % len(s)]\n",
    "            s_rotated.append(s_temp)\n",
    "\n",
    "        return s_rotated\n",
    "\n",
    "    def string_stack_push(s):\n",
    "        stack1 = []\n",
    "        stack2 = []\n",
    "        stacks = []\n",
    "\n",
    "        for c in s:\n",
    "            if c == \"(\" or c == \"[\" or c == \"{\":\n",
    "                stack1.append(c)\n",
    "            else:\n",
    "                stack2.append(c)\n",
    "\n",
    "        stacks.append(stack1)\n",
    "        stacks.append(stack2)\n",
    "\n",
    "        # print(stacks)\n",
    "        return stacks\n",
    "\n",
    "    def string_compare(stacks):\n",
    "        count = 0\n",
    "        stacks_remained = []\n",
    "        while stacks[0]:\n",
    "            s1 = stacks[0].pop()\n",
    "            s2 = stacks[1].pop()\n",
    "            if (\n",
    "                (s1 == \"(\" and s2 == \")\")\n",
    "                or (s1 == \"[\" and s2 == \"]\")\n",
    "                or (s1 == \"{\" and s2 == \"}\")\n",
    "            ):\n",
    "                count = 1\n",
    "            else:\n",
    "                count = -1\n",
    "                stacks_remained.append(s2)\n",
    "\n",
    "        # print(count)\n",
    "        return count\n",
    "\n",
    "    # 시작\n",
    "    s_rotated = string_rotate(s)\n",
    "\n",
    "    result = []\n",
    "    for i in range(len(s_rotated)):\n",
    "        result.append(string_compare(string_stack_push(s_rotated[i])))\n",
    "    # print(result)\n",
    "\n",
    "    answer = len(result) - result.count(-1)\n",
    "\n",
    "    return answer"
   ]
  },
  {
   "cell_type": "code",
   "execution_count": 46,
   "metadata": {},
   "outputs": [
    {
     "name": "stdout",
     "output_type": "stream",
     "text": [
      "3\n",
      "2\n",
      "5\n"
     ]
    }
   ],
   "source": [
    "print(solution(\"[](){}\"))\n",
    "print(solution(\"}]()[{\"))\n",
    "print(solution(\"[](){}}]()[{\"))"
   ]
  },
  {
   "cell_type": "code",
   "execution_count": 39,
   "metadata": {},
   "outputs": [
    {
     "name": "stdout",
     "output_type": "stream",
     "text": [
      "1\n"
     ]
    }
   ],
   "source": [
    "a = [[\"[\", \"(\", \"{\"], [\"]\", \")\", \")\"]]\n",
    "\n",
    "count = 0\n",
    "index_end = a[0][len(a) - 1]\n",
    "while a[0]:\n",
    "    a1 = a[0].pop()\n",
    "    a2 = a[1].pop()\n",
    "    if (\n",
    "        (a1 == \"[\" and a2 == \"]\")\n",
    "        or (a1 == \"(\" and a2 == \")\")\n",
    "        or (a1 == \"{\" and a2 == \"}\")\n",
    "    ):\n",
    "        count += 1\n",
    "    else:\n",
    "        a[1].append(a2)\n",
    "\n",
    "print(count)"
   ]
  },
  {
   "cell_type": "markdown",
   "metadata": {},
   "source": [
    "> 교재 풀이\n"
   ]
  },
  {
   "cell_type": "code",
   "execution_count": null,
   "metadata": {},
   "outputs": [],
   "source": [
    "def solution(s):\n",
    "    answer = 0\n",
    "    n = len(s)\n",
    "    for i in range(n):\n",
    "        stack = []\n",
    "        for j in range(n):\n",
    "            c = s[i + j % n]\n",
    "            if c == \"(\" or c == \"[\" or c == \"{\":\n",
    "                stack.append(c)\n",
    "            else:\n",
    "                if not stack:\n",
    "                    break\n",
    "\n",
    "                if c == \")\" and stack[-1] == \"(\":\n",
    "                    stack.pop()\n",
    "                elif c == \"]\" and stack[-1] == \"[\":\n",
    "                    stack.pop()\n",
    "                elif c == \"{\" and stack[-1] == \"}\":\n",
    "                    stack.pop()\n",
    "                else:\n",
    "                    break\n",
    "        # for-else 구문. else문은 for문이 끝까지 실행되었을 때 동작함\n",
    "        else:\n",
    "            if not stack:\n",
    "                answer += 1\n",
    "\n",
    "    return answer"
   ]
  }
 ],
 "metadata": {
  "kernelspec": {
   "display_name": "noname",
   "language": "python",
   "name": "python3"
  },
  "language_info": {
   "codemirror_mode": {
    "name": "ipython",
    "version": 3
   },
   "file_extension": ".py",
   "mimetype": "text/x-python",
   "name": "python",
   "nbconvert_exporter": "python",
   "pygments_lexer": "ipython3",
   "version": "3.11.0"
  }
 },
 "nbformat": 4,
 "nbformat_minor": 2
}
