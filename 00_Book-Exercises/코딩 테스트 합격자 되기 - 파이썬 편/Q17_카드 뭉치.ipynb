{
 "cells": [
  {
   "cell_type": "code",
   "execution_count": null,
   "metadata": {},
   "outputs": [],
   "source": []
  },
  {
   "cell_type": "markdown",
   "metadata": {},
   "source": [
    "@20250221\n",
    "\n",
    "- 알고리즘은 방향성은 맞았으나 구현 실패\n",
    "- \\*\"Yes\" or \"No\"인지 판단하는 부분을 생각 못 함\n"
   ]
  },
  {
   "cell_type": "code",
   "execution_count": 12,
   "metadata": {},
   "outputs": [],
   "source": [
    "from collections import deque\n",
    "\n",
    "\n",
    "def solution(cards1, cards2, goal):\n",
    "    cards1 = deque(cards1)\n",
    "    cards2 = deque(cards2)\n",
    "    goal = deque(goal)\n",
    "\n",
    "    while goal:\n",
    "        if cards1 and cards1[0] == goal[0]:\n",
    "            cards1.popleft()\n",
    "            goal.popleft()\n",
    "        elif cards2 and cards2[0] == goal[0]:\n",
    "            cards2.popleft()\n",
    "            goal.popleft()\n",
    "        else:\n",
    "            break\n",
    "\n",
    "    return \"Yes\" if not goal else \"No\""
   ]
  },
  {
   "cell_type": "code",
   "execution_count": 16,
   "metadata": {},
   "outputs": [
    {
     "name": "stdout",
     "output_type": "stream",
     "text": [
      "Yes\n"
     ]
    }
   ],
   "source": [
    "cards1 = [\"i\", \"drink\", \"water\"]\n",
    "cards2 = [\"want\", \"to\"]\n",
    "goal = [\"i\", \"want\", \"to\", \"drink\", \"water\"]\n",
    "\n",
    "print(solution(cards1, cards2, goal))"
   ]
  },
  {
   "cell_type": "code",
   "execution_count": 17,
   "metadata": {},
   "outputs": [
    {
     "name": "stdout",
     "output_type": "stream",
     "text": [
      "No\n"
     ]
    }
   ],
   "source": [
    "cards1 = [\"i\", \"water\", \"drink\"]\n",
    "cards2 = [\"want\", \"to\"]\n",
    "goal = [\"i\", \"want\", \"to\", \"drink\", \"water\"]\n",
    "\n",
    "print(solution(cards1, cards2, goal))"
   ]
  },
  {
   "cell_type": "code",
   "execution_count": 15,
   "metadata": {},
   "outputs": [
    {
     "name": "stdout",
     "output_type": "stream",
     "text": [
      "deque([1, 2, 3, 4, 5])\n",
      "1\n",
      "<class 'int'>\n",
      "True\n",
      "deque([2, 3, 4, 5])\n"
     ]
    }
   ],
   "source": [
    "a = deque([1, 2, 3, 4, 5])\n",
    "print(a)\n",
    "\n",
    "current = a.popleft()\n",
    "print(current)\n",
    "print(type(current))\n",
    "\n",
    "if current == 1:\n",
    "    print(\"True\")\n",
    "    print(a)"
   ]
  }
 ],
 "metadata": {
  "kernelspec": {
   "display_name": "noname",
   "language": "python",
   "name": "python3"
  },
  "language_info": {
   "codemirror_mode": {
    "name": "ipython",
    "version": 3
   },
   "file_extension": ".py",
   "mimetype": "text/x-python",
   "name": "python",
   "nbconvert_exporter": "python",
   "pygments_lexer": "ipython3",
   "version": "3.11.0"
  }
 },
 "nbformat": 4,
 "nbformat_minor": 2
}
