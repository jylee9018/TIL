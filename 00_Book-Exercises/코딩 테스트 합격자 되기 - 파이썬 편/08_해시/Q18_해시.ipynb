{
 "cells": [
  {
   "cell_type": "code",
   "execution_count": 7,
   "metadata": {},
   "outputs": [
    {
     "name": "stdout",
     "output_type": "stream",
     "text": [
      "True\n",
      "False\n"
     ]
    }
   ],
   "source": [
    "import itertools\n",
    "\n",
    "def solutions(arr, target):\n",
    "    two_combinations = list(itertools.combinations(arr, 2))\n",
    "    \n",
    "    for value in two_combinations:\n",
    "        if target == value[0] + value[1]:\n",
    "            return True\n",
    "\n",
    "    return False\n",
    "\n",
    "print(solutions([1, 2, 3, 4, 8], 6))\n",
    "print(solutions([2, 3, 5, 9], 10))"
   ]
  },
  {
   "cell_type": "code",
   "execution_count": 24,
   "metadata": {},
   "outputs": [
    {
     "name": "stdout",
     "output_type": "stream",
     "text": [
      "['6102', '6120', '6012', '6021', '6210', '6201', '1602', '1620', '1062', '1026', '1260', '1206', '0612', '0621', '0162', '0126', '0261', '0216', '2610', '2601', '2160', '2106', '2061', '2016']\n"
     ]
    }
   ],
   "source": [
    "import itertools\n",
    "\n",
    "def solutions(numbers):\n",
    "    numbers_string = []\n",
    "    for number in numbers:\n",
    "        number = str(number)\n",
    "        if  len(number) > 1:\n",
    "            for i in range(len(number)):\n",
    "                numbers_string.append(number[i])\n",
    "        else:\n",
    "            numbers_string.append(number)\n",
    "    \n",
    "    numbers_permutations = list(itertools.permutations(numbers_string, len(numbers_string)))\n",
    "    \n",
    "    numbers_temp = []\n",
    "    for numbers in numbers_permutations:\n",
    "        number_string =''\n",
    "        for number in numbers:\n",
    "            number_string = number_string + number\n",
    "        \n",
    "        numbers_temp.append(number_string)\n",
    "\n",
    "    print(numbers_temp)\n",
    "\n",
    "\n",
    "solutions([6, 10, 2])"
   ]
  },
  {
   "cell_type": "code",
   "execution_count": 30,
   "metadata": {},
   "outputs": [
    {
     "name": "stdout",
     "output_type": "stream",
     "text": [
      "6210\n"
     ]
    }
   ],
   "source": [
    "import itertools\n",
    "\n",
    "def solutions(numbers):\n",
    "    numbers_string = []\n",
    "    for number in numbers:\n",
    "        numbers_string.append(str(number))\n",
    "    \n",
    "    numbers_permutations = list(itertools.permutations(numbers_string, len(numbers_string)))\n",
    "    \n",
    "    numbers_temp = []\n",
    "    for numbers in numbers_permutations:\n",
    "        number_string =''\n",
    "        for number in numbers:\n",
    "            number_string = number_string + number\n",
    "        \n",
    "        numbers_temp.append(number_string)\n",
    "\n",
    "    numbers_temp.sort(reverse=True)\n",
    "    answer = numbers_temp[0]\n",
    "\n",
    "    return answer\n",
    "\n",
    "\n",
    "print(solutions([6, 10, 2]))"
   ]
  },
  {
   "cell_type": "code",
   "execution_count": 31,
   "metadata": {},
   "outputs": [],
   "source": [
    "import sys\n",
    "\n",
    "name = list(input().split(\"-\"))\n",
    "\n",
    "name_abb = \"\"\n",
    "for word in name:\n",
    "    name_abb = name_abb + word[:1] "
   ]
  },
  {
   "cell_type": "code",
   "execution_count": 35,
   "metadata": {},
   "outputs": [
    {
     "data": {
      "text/plain": [
       "<map at 0x107f26740>"
      ]
     },
     "execution_count": 35,
     "metadata": {},
     "output_type": "execute_result"
    }
   ],
   "source": [
    "T = map(int, input().split())\n",
    "T"
   ]
  },
  {
   "cell_type": "code",
   "execution_count": null,
   "metadata": {},
   "outputs": [],
   "source": []
  }
 ],
 "metadata": {
  "kernelspec": {
   "display_name": "noname",
   "language": "python",
   "name": "python3"
  },
  "language_info": {
   "codemirror_mode": {
    "name": "ipython",
    "version": 3
   },
   "file_extension": ".py",
   "mimetype": "text/x-python",
   "name": "python",
   "nbconvert_exporter": "python",
   "pygments_lexer": "ipython3",
   "version": "3.11.0"
  }
 },
 "nbformat": 4,
 "nbformat_minor": 2
}
