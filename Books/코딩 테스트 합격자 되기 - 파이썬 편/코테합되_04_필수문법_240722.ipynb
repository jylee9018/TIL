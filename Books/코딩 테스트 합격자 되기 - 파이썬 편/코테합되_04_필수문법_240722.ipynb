{
 "cells": [
  {
   "cell_type": "code",
   "execution_count": 2,
   "metadata": {},
   "outputs": [
    {
     "name": "stdout",
     "output_type": "stream",
     "text": [
      "2.220446049250313e-16\n",
      "5.551115123125783e-17\n",
      "a와 b는 같은 값입니다.\n"
     ]
    }
   ],
   "source": [
    "import sys\n",
    "\n",
    "# 엡실론 출력\n",
    "print(sys.float_info.epsilon)\n",
    "\n",
    "# 부동소수점 수의 오차 검사\n",
    "a = 0.1 + 0.1 + 0.1\n",
    "b = 0.3\n",
    "\n",
    "print(a - b)\n",
    "if abs(a - b) < sys.float_info.epsilon:\n",
    "    print(\"a와 b는 같은 값입니다.\")\n",
    "else:\n",
    "    print(\"a와 b는 다른 값입니다.\")"
   ]
  },
  {
   "cell_type": "code",
   "execution_count": 4,
   "metadata": {},
   "outputs": [
    {
     "name": "stdout",
     "output_type": "stream",
     "text": [
      "[100, 400, 900, 1600, 2500]\n"
     ]
    }
   ],
   "source": [
    "num = [10, 20, 30, 40, 50]  # (1) 리스트 선언\n",
    "square = list(map(lambda x: x**2, num))  # (2) 람다식 넘기기\n",
    "\n",
    "print(square)  # 출력: [100, 400, 900, 1600, 2500]"
   ]
  },
  {
   "cell_type": "code",
   "execution_count": null,
   "metadata": {},
   "outputs": [],
   "source": []
  }
 ],
 "metadata": {
  "kernelspec": {
   "display_name": "noname",
   "language": "python",
   "name": "python3"
  },
  "language_info": {
   "codemirror_mode": {
    "name": "ipython",
    "version": 3
   },
   "file_extension": ".py",
   "mimetype": "text/x-python",
   "name": "python",
   "nbconvert_exporter": "python",
   "pygments_lexer": "ipython3",
   "version": "3.11.5"
  }
 },
 "nbformat": 4,
 "nbformat_minor": 2
}
