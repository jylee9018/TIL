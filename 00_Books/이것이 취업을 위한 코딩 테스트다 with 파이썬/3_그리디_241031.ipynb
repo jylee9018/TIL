{
 "cells": [
  {
   "cell_type": "markdown",
   "metadata": {},
   "source": [
    "예제 3-1. 거스름돈\n",
    "- 가장 큰 화폐 단위부터 돈을 거슬러 주는 것"
   ]
  },
  {
   "cell_type": "code",
   "execution_count": 1,
   "metadata": {},
   "outputs": [
    {
     "name": "stdout",
     "output_type": "stream",
     "text": [
      "6\n"
     ]
    }
   ],
   "source": [
    "n = 1260\n",
    "count = 0\n",
    "\n",
    "# 큰 단위의 화폐부터 차례대로 확인\n",
    "coin_types = [500, 100, 50, 10]\n",
    "\n",
    "for coin in coin_types:\n",
    "    count = count + (n // coin)\n",
    "    n = n % coin\n",
    "\n",
    "print(count)"
   ]
  },
  {
   "cell_type": "code",
   "execution_count": 2,
   "metadata": {},
   "outputs": [
    {
     "name": "stdout",
     "output_type": "stream",
     "text": [
      "3\n",
      "1\n"
     ]
    }
   ],
   "source": [
    "# //(몫), %(나머지) 연산자 복습\n",
    "\n",
    "a = 10\n",
    "b = 3\n",
    "\n",
    "print(a // b)  # a를 b로 나눈 몫\n",
    "print(a % b)  # a를 b로 나눈 나머지"
   ]
  },
  {
   "cell_type": "markdown",
   "metadata": {},
   "source": [
    "실전 2. 큰 수의 법칙 (풀이 시간: 30분)"
   ]
  },
  {
   "cell_type": "code",
   "execution_count": 3,
   "metadata": {},
   "outputs": [
    {
     "name": "stdout",
     "output_type": "stream",
     "text": [
      "46\n"
     ]
    }
   ],
   "source": [
    "# 다양한 수로 이루어진 배열이 있을 때 주어진 수들을 M번 더하여 가장 큰 수를 만든다.\n",
    "# 단, 배열의 특정한 인덱스(번호)에 해당하는 수가 연속하여 K번을 초과하여 더해질 수 없다.\n",
    "# N: 배열의 크기\n",
    "# M: 숫자가 더해지는 횟수\n",
    "# K: 숫자가 연속해서 최대 더해질 수 있는 횟수 (K < M)\n",
    "\n",
    "n_list = [2, 4, 5, 4, 6]\n",
    "M = 8\n",
    "K = 3\n",
    "\n",
    "answer = 0\n",
    "count = 0\n",
    "\n",
    "# 정렬\n",
    "n_list.sort(reverse=True)\n",
    "\n",
    "# 1번째 큰 수, 2번재 큰 수\n",
    "# n_list[0], n_list[1]\n",
    "while True:\n",
    "    if count >= M:\n",
    "        break\n",
    "\n",
    "    answer = answer + n_list[0] * K\n",
    "    count += K\n",
    "    answer = answer + n_list[1]\n",
    "    count += 1\n",
    "\n",
    "    # print(answer)\n",
    "    # print(count)\n",
    "\n",
    "print(answer)"
   ]
  },
  {
   "cell_type": "markdown",
   "metadata": {},
   "source": [
    "실전 3. 숫자 카드 게임"
   ]
  },
  {
   "cell_type": "code",
   "execution_count": 8,
   "metadata": {},
   "outputs": [
    {
     "name": "stdout",
     "output_type": "stream",
     "text": [
      "2\n"
     ]
    }
   ],
   "source": [
    "rows, cols = map(int, input().split())\n",
    "\n",
    "answer = 0\n",
    "for i in range(rows):\n",
    "    numbers = list(map(int, input().split()))\n",
    "    c_number = min(numbers)\n",
    "    answer = max(c_number, answer)\n",
    "\n",
    "print(answer)"
   ]
  },
  {
   "cell_type": "markdown",
   "metadata": {},
   "source": [
    "실전 4. 1이 될 때까지"
   ]
  },
  {
   "cell_type": "code",
   "execution_count": 16,
   "metadata": {},
   "outputs": [
    {
     "name": "stdout",
     "output_type": "stream",
     "text": [
      "3\n"
     ]
    }
   ],
   "source": [
    "# n, k = map(int, input().split())\n",
    "\n",
    "n = 25\n",
    "k = 5\n",
    "\n",
    "answer = 0\n",
    "while True:\n",
    "    if n == 1:\n",
    "        break\n",
    "\n",
    "    if n % k == 0:\n",
    "        n = n // k\n",
    "        answer += 1\n",
    "\n",
    "    else:\n",
    "        n = n - 1\n",
    "        answer += 1\n",
    "\n",
    "print(answer)"
   ]
  },
  {
   "cell_type": "code",
   "execution_count": 22,
   "metadata": {},
   "outputs": [
    {
     "name": "stdout",
     "output_type": "stream",
     "text": [
      "[2, 6, 10, 14, 18]\n"
     ]
    }
   ],
   "source": [
    "# map 함수 연습\n",
    "# map(func, *iterables) -> map object\n",
    "\n",
    "\n",
    "def sum(a, b):\n",
    "    # print(f\"a: {a}, b: {b}\")\n",
    "    return a + b\n",
    "\n",
    "\n",
    "list1 = [1, 3, 5, 7, 9]\n",
    "list2 = [1, 3, 5, 7, 9]\n",
    "\n",
    "answer = list(map(sum, list1, list2))\n",
    "print(answer)"
   ]
  }
 ],
 "metadata": {
  "kernelspec": {
   "display_name": "noname",
   "language": "python",
   "name": "python3"
  },
  "language_info": {
   "codemirror_mode": {
    "name": "ipython",
    "version": 3
   },
   "file_extension": ".py",
   "mimetype": "text/x-python",
   "name": "python",
   "nbconvert_exporter": "python",
   "pygments_lexer": "ipython3",
   "version": "3.11.0"
  }
 },
 "nbformat": 4,
 "nbformat_minor": 2
}
