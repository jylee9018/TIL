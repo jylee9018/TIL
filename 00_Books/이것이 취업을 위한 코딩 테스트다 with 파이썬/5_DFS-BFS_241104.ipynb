{
 "cells": [
  {
   "cell_type": "code",
   "execution_count": 7,
   "metadata": {},
   "outputs": [
    {
     "name": "stdout",
     "output_type": "stream",
     "text": [
      "[1, 2, 3, 4, 6]\n",
      "[6, 4, 3, 2, 1]\n"
     ]
    }
   ],
   "source": [
    "# 스택 - 리스트 구현\n",
    "stack = []\n",
    "\n",
    "stack.append(1)\n",
    "stack.append(2)\n",
    "stack.append(3)\n",
    "stack.append(4)\n",
    "stack.append(5)\n",
    "stack.pop()\n",
    "stack.append(6)\n",
    "stack.append(7)\n",
    "stack.pop()\n",
    "\n",
    "print(stack)\n",
    "print(stack[::-1])"
   ]
  },
  {
   "cell_type": "code",
   "execution_count": 8,
   "metadata": {},
   "outputs": [
    {
     "name": "stdout",
     "output_type": "stream",
     "text": [
      "120\n",
      "120\n"
     ]
    }
   ],
   "source": [
    "def factorial_iterative(n):\n",
    "    result = 1\n",
    "    for i in range(1, n + 1):\n",
    "        result = result * i\n",
    "    return result\n",
    "\n",
    "\n",
    "def factorial_recursive(n):\n",
    "    if n <= 1:\n",
    "        return 1\n",
    "    return n * factorial_recursive(n - 1)\n",
    "\n",
    "\n",
    "print(factorial_iterative(5))\n",
    "print(factorial_recursive(5))"
   ]
  },
  {
   "cell_type": "markdown",
   "metadata": {},
   "source": [
    "### 탐색 알고리즘 DFS/BFS"
   ]
  },
  {
   "cell_type": "markdown",
   "metadata": {},
   "source": [
    "- DFS(Depth-First Search, 깊이 우선 탐색)\n",
    "  - 가장 깊은 노드까지 방문한 후에 더 이상 방문할 노드가 없으면 최근 방문한 노드로 돌아온 다음, 해당 노드에서 방문할 노드가 있는지 확인한다."
   ]
  },
  {
   "cell_type": "code",
   "execution_count": 9,
   "metadata": {},
   "outputs": [
    {
     "name": "stdout",
     "output_type": "stream",
     "text": [
      "dict_keys([0, 1, 4, 2, 5, 6, 7, 3, 8, 9])\n"
     ]
    }
   ],
   "source": [
    "def dfs_recursive(curr_v):\n",
    "    # 방문\n",
    "    visited[curr_v] = True\n",
    "\n",
    "    # 다음 방문\n",
    "    for next_v in graph[curr_v]:\n",
    "        if next_v not in visited:\n",
    "            dfs_recursive(next_v)\n",
    "\n",
    "\n",
    "graph = {\n",
    "    0: [1, 2, 3],\n",
    "    1: [0, 4],\n",
    "    2: [0, 4],\n",
    "    3: [0, 7, 8],\n",
    "    4: [1, 2, 5, 6],\n",
    "    5: [4],\n",
    "    6: [4, 7],\n",
    "    7: [3, 6],\n",
    "    8: [3, 9],\n",
    "    9: [8],\n",
    "}\n",
    "\n",
    "visited = {}\n",
    "dfs_recursive(0)\n",
    "\n",
    "print(visited.keys())"
   ]
  },
  {
   "cell_type": "code",
   "execution_count": 10,
   "metadata": {},
   "outputs": [
    {
     "name": "stdout",
     "output_type": "stream",
     "text": [
      "dict_keys([0, 1, 4, 2, 5, 6, 7, 3, 8, 9])\n"
     ]
    }
   ],
   "source": [
    "def dfs_recursive(curr_v):\n",
    "    # 방문\n",
    "    visited[curr_v] = True\n",
    "\n",
    "    # 다음 방문\n",
    "    for next_v in graph[curr_v]:\n",
    "        if next_v not in visited:\n",
    "            dfs_recursive(next_v)\n",
    "\n",
    "\n",
    "graph = {\n",
    "    0: [1, 2, 3],\n",
    "    1: [0, 4],\n",
    "    2: [0, 4],\n",
    "    3: [0, 7, 8],\n",
    "    4: [1, 2, 5, 6],\n",
    "    5: [4],\n",
    "    6: [4, 7],\n",
    "    7: [3, 6],\n",
    "    8: [3, 9],\n",
    "    9: [8],\n",
    "}\n",
    "\n",
    "visited = {}\n",
    "dfs_recursive(0)\n",
    "\n",
    "print(visited.keys())"
   ]
  },
  {
   "cell_type": "code",
   "execution_count": 2,
   "metadata": {},
   "outputs": [
    {
     "name": "stdout",
     "output_type": "stream",
     "text": [
      "dict_keys([0, 1, 2, 3, 4, 7, 8, 5, 6, 9])\n"
     ]
    }
   ],
   "source": [
    "from collections import deque\n",
    "\n",
    "\n",
    "def bfs(graph, start_v):\n",
    "    q = deque()\n",
    "    q.append(start_v)\n",
    "    visited[start_v] = True\n",
    "\n",
    "    while q:\n",
    "        curr_v = q.popleft()\n",
    "        for next_v in graph[curr_v]:\n",
    "            if next_v not in visited:\n",
    "                q.append(next_v)\n",
    "                visited[next_v] = True\n",
    "\n",
    "\n",
    "graph = {\n",
    "    0: [1, 2, 3],\n",
    "    1: [0, 4],\n",
    "    2: [0, 4],\n",
    "    3: [0, 7, 8],\n",
    "    4: [1, 2, 5, 6],\n",
    "    5: [4],\n",
    "    6: [4, 7],\n",
    "    7: [3, 6],\n",
    "    8: [3, 9],\n",
    "    9: [8],\n",
    "}\n",
    "\n",
    "visited = {}\n",
    "bfs(graph, start_v=0)\n",
    "\n",
    "print(visited.keys())"
   ]
  },
  {
   "cell_type": "markdown",
   "metadata": {},
   "source": [
    "실전 문제 3. 음료수 얼려 먹기"
   ]
  },
  {
   "cell_type": "code",
   "execution_count": 12,
   "metadata": {},
   "outputs": [
    {
     "ename": "ValueError",
     "evalue": "not enough values to unpack (expected 2, got 0)",
     "output_type": "error",
     "traceback": [
      "\u001b[0;31m---------------------------------------------------------------------------\u001b[0m",
      "\u001b[0;31mValueError\u001b[0m                                Traceback (most recent call last)",
      "Cell \u001b[0;32mIn[12], line 1\u001b[0m\n\u001b[0;32m----> 1\u001b[0m n, m \u001b[38;5;241m=\u001b[39m \u001b[38;5;28mmap\u001b[39m(\u001b[38;5;28mint\u001b[39m, \u001b[38;5;28minput\u001b[39m()\u001b[38;5;241m.\u001b[39msplit())\n\u001b[1;32m      3\u001b[0m graph \u001b[38;5;241m=\u001b[39m []\n\u001b[1;32m      4\u001b[0m \u001b[38;5;28;01mfor\u001b[39;00m _ \u001b[38;5;129;01min\u001b[39;00m \u001b[38;5;28mrange\u001b[39m(n):\n",
      "\u001b[0;31mValueError\u001b[0m: not enough values to unpack (expected 2, got 0)"
     ]
    }
   ],
   "source": [
    "n, m = map(int, input().split())\n",
    "\n",
    "graph = []\n",
    "for _ in range(n):\n",
    "    row = list(input().split())\n",
    "    graph.append(row)\n",
    "\n",
    "print(graph)"
   ]
  },
  {
   "cell_type": "code",
   "execution_count": null,
   "metadata": {},
   "outputs": [],
   "source": [
    "def dfs(x, y):\n",
    "    if x <= -1 or x >= n or y <= -1 or y >= m:\n",
    "        return False\n",
    "\n",
    "    if graph[x][y] == 0:\n",
    "        graph[x][y] = 1\n",
    "\n",
    "        dfs(x, y + 1)\n",
    "        dfs(x, y - 1)\n",
    "        dfs(x + 1, y)\n",
    "        dfs(x - 1, y)\n",
    "\n",
    "        return True\n",
    "\n",
    "    return False\n",
    "\n",
    "\n",
    "n = 4\n",
    "m = 5\n",
    "graph = [[0, 0, 1, 1, 0], [0, 0, 0, 1, 1], [1, 1, 1, 1, 1], [0, 0, 0, 0, 0]]\n",
    "\n",
    "\n",
    "result = 0\n",
    "for i in range(n):\n",
    "    for j in range(m):\n",
    "        if dfs(i, j) == True:\n",
    "            result += 1\n",
    "\n",
    "print(result)"
   ]
  },
  {
   "cell_type": "markdown",
   "metadata": {},
   "source": [
    "실전문제 4. 미로 탈출"
   ]
  },
  {
   "cell_type": "code",
   "execution_count": null,
   "metadata": {},
   "outputs": [],
   "source": [
    "# 최소의 거리 > BFS(큐)\n",
    "\n",
    "from collections import deque\n",
    "\n",
    "\n",
    "def bfs(i, j):\n",
    "    q = deque()\n",
    "    q.append(graph[i][j])\n",
    "\n",
    "    while q:\n",
    "        curr_v = q.popleft()\n",
    "        if curr_v == 0:\n",
    "            continue\n",
    "        curr_v"
   ]
  },
  {
   "cell_type": "code",
   "execution_count": null,
   "metadata": {},
   "outputs": [],
   "source": [
    "n = 5\n",
    "m = 6\n",
    "\n",
    "graph = [\n",
    "    [1, 0, 1, 0, 1, 0],\n",
    "    [1, 1, 1, 1, 1, 1],\n",
    "    [0, 0, 0, 0, 0, 1],\n",
    "    [1, 1, 1, 1, 1, 1],\n",
    "    [1, 1, 1, 1, 1, 1],\n",
    "]"
   ]
  },
  {
   "cell_type": "code",
   "execution_count": null,
   "metadata": {},
   "outputs": [],
   "source": [
    "def bfs(x, y):\n",
    "    q = deque()\n",
    "    q.append(graph[x][y])\n",
    "\n",
    "    while q:\n",
    "        curr_v = q.popleft()\n",
    "        if curr_v == 0:\n",
    "            continue\n",
    "        visited[x][y] = True\n",
    "\n",
    "\n",
    "x = 0\n",
    "y = 0\n",
    "\n",
    "dx = [0, 0, -1, 1]\n",
    "dy = [-1, 1, 0, 0]\n",
    "\n",
    "for i in range(4):\n",
    "    if x <= -1 or x > n or y <= -1 or y < m:\n",
    "        break\n",
    "    nx = x + dx[i]\n",
    "    ny = y + dy[i]\n",
    "    bfs(nx, ny)\n",
    "\n",
    "\n",
    "n = 5\n",
    "m = 6\n",
    "visited = [[False] * n] * m\n",
    "bfs(0, 0)"
   ]
  },
  {
   "cell_type": "code",
   "execution_count": null,
   "metadata": {},
   "outputs": [],
   "source": [
    "def solution(x, y):\n",
    "    if x <= -1 or x >= n or y <= -1 or y >= m:\n",
    "        return False\n",
    "\n",
    "    if graph[x][y] == 0:\n",
    "        graph[x][y] = 1\n",
    "\n",
    "        solution(x, y - 1)  # 상\n",
    "        solution(x, y + 1)  # 하\n",
    "        solution(x - 1, y)  # 좌\n",
    "        solution(x + 1, y)  # 우\n",
    "        return True\n",
    "\n",
    "    return False\n",
    "\n",
    "\n",
    "# n = 4\n",
    "# m = 5\n",
    "# graph = [[0, 0, 1, 1, 0], [0, 0, 0, 1, 1], [1, 1, 1, 1, 1], [0, 0, 0, 0, 0]]\n",
    "\n",
    "n, m = map(int, input().split())\n",
    "\n",
    "graph = []\n",
    "for _ in range(n):\n",
    "    row = list(map(int, input().split()))\n",
    "    graph.append(row)\n",
    "\n",
    "\n",
    "result = 0\n",
    "for i in range(n):\n",
    "    for j in range(m):\n",
    "        if solution(i, j) == True:\n",
    "            result += 1\n",
    "\n",
    "print(result)"
   ]
  },
  {
   "cell_type": "code",
   "execution_count": 3,
   "metadata": {},
   "outputs": [
    {
     "name": "stdout",
     "output_type": "stream",
     "text": [
      "10\n"
     ]
    }
   ],
   "source": [
    "from collections import deque\n",
    "\n",
    "# graph = []\n",
    "# n, m = map(int, input().split())\n",
    "\n",
    "# for _ in range(n):\n",
    "#     graph.appned(list(map(int, input().split())))\n",
    "\n",
    "n = 5\n",
    "m = 6\n",
    "graph = [\n",
    "    [1, 0, 1, 0, 1, 0],\n",
    "    [1, 1, 1, 1, 1, 1],\n",
    "    [0, 0, 0, 0, 0, 1],\n",
    "    [1, 1, 1, 1, 1, 1],\n",
    "    [1, 1, 1, 1, 1, 1],\n",
    "]\n",
    "\n",
    "\n",
    "dx = [-1, 1, 0, 0]\n",
    "dy = [0, 0, -1, 1]\n",
    "\n",
    "\n",
    "def solution(x, y):\n",
    "    q = deque()\n",
    "    q.append((x, y))\n",
    "\n",
    "    while q:\n",
    "        x, y = q.popleft()\n",
    "\n",
    "        for i in range(4):\n",
    "            nx = x + dx[i]\n",
    "            ny = y + dy[i]\n",
    "\n",
    "            if nx <= -1 or nx >= n or ny <= -1 or ny >= m:\n",
    "                continue\n",
    "\n",
    "            if graph[nx][ny] == 0:\n",
    "                continue\n",
    "\n",
    "            if graph[nx][ny] == 1:\n",
    "                graph[nx][ny] = graph[x][y] + 1\n",
    "                q.append((nx, ny))\n",
    "\n",
    "    return graph[n - 1][m - 1]\n",
    "\n",
    "\n",
    "print(solution(0, 0))"
   ]
  }
 ],
 "metadata": {
  "kernelspec": {
   "display_name": "noname",
   "language": "python",
   "name": "python3"
  },
  "language_info": {
   "codemirror_mode": {
    "name": "ipython",
    "version": 3
   },
   "file_extension": ".py",
   "mimetype": "text/x-python",
   "name": "python",
   "nbconvert_exporter": "python",
   "pygments_lexer": "ipython3",
   "version": "3.11.0"
  }
 },
 "nbformat": 4,
 "nbformat_minor": 2
}
