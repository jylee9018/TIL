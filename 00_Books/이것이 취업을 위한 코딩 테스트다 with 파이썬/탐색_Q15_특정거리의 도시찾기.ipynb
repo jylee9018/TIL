{
 "cells": [
  {
   "cell_type": "code",
   "execution_count": null,
   "metadata": {},
   "outputs": [],
   "source": [
    "from collections import deque\n",
    "\n",
    "\n",
    "def bfs(graph, start_v):\n",
    "    q = deque()\n",
    "    q.append(start_v)\n",
    "    visited[start_v] = True\n",
    "\n",
    "    while q:\n",
    "        curr_v = q.popleft()\n",
    "        for next_v in graph[curr_v]:\n",
    "            if next_v not in visited:\n",
    "                q.append(next_v)\n",
    "                visited[next_v] = True\n",
    "\n",
    "\n",
    "# graph = {\n",
    "#     0: [1, 2, 3],\n",
    "#     1: [0, 4],\n",
    "#     2: [0, 4],\n",
    "#     3: [0, 7, 8],\n",
    "#     4: [1, 2, 5, 6],\n",
    "#     5: [4],\n",
    "#     6: [4, 7],\n",
    "#     7: [3, 6],\n",
    "#     8: [3, 9],\n",
    "#     9: [8],\n",
    "# }\n",
    "\n",
    "graph = {0: [1], 1: [2, 3], 2: [1, 3, 4], 3: [1], 4: [1]}\n",
    "\n",
    "visited = {}\n",
    "bfs(graph, start_v=0)\n",
    "\n",
    "print(visited.keys())"
   ]
  },
  {
   "cell_type": "code",
   "execution_count": null,
   "metadata": {},
   "outputs": [],
   "source": []
  },
  {
   "cell_type": "code",
   "execution_count": null,
   "metadata": {},
   "outputs": [],
   "source": [
    "from collections import deque\n",
    "\n",
    "n = 4\n",
    "m = 4\n",
    "k = 2\n",
    "x = 1\n",
    "\n",
    "graph = [[1, 2], [1, 3], [2, 3], [2, 4]]\n",
    "\n",
    "\n",
    "def solution(start_v):\n",
    "    q = deque()\n",
    "    visited[start_v] = 1\n",
    "\n",
    "    for next_v in graph[start_v]:\n",
    "        if next_v not in visited:\n",
    "            visited[next_v] = visited[start_v] + 1\n",
    "            print(visited)\n",
    "\n",
    "    solution(start_v + 1)\n",
    "\n",
    "\n",
    "visited = {}\n",
    "print(solution(1))"
   ]
  },
  {
   "cell_type": "code",
   "execution_count": 20,
   "metadata": {},
   "outputs": [
    {
     "name": "stdout",
     "output_type": "stream",
     "text": [
      "[[], [2, 3], [3, 4], [], []]\n",
      "[-1, 0, 1, 1, 2]\n",
      "4\n"
     ]
    }
   ],
   "source": [
    "from collections import deque\n",
    "\n",
    "# n, m, k, x = map(int(input().split()))\n",
    "n = 4\n",
    "m = 4\n",
    "k = 2\n",
    "x = 1\n",
    "\n",
    "graph = [[] for _ in range(n + 1)]\n",
    "\n",
    "for _ in range(m):\n",
    "    # input: [1, 2], [1, 3], [2, 3], [2, 4]\n",
    "    a, b = map(int, input().split())\n",
    "    graph[a].append(b)\n",
    "\n",
    "    distance = [-1] * (n + 1)\n",
    "    distance[x] = 0\n",
    "\n",
    "print(graph)  # [[], [2, 3], [3, 4], [], []]\n",
    "\n",
    "q = deque([x])\n",
    "while q:\n",
    "    now = q.popleft()\n",
    "\n",
    "    for next_node in graph[now]:\n",
    "        if distance[next_node] == -1:\n",
    "            distance[next_node] = distance[now] + 1\n",
    "            q.append(next_node)\n",
    "\n",
    "print(distance)\n",
    "\n",
    "check = False\n",
    "for i in range(1, n + 1):\n",
    "    if distance[i] == k:\n",
    "        print(i)\n",
    "        check = True\n",
    "\n",
    "if check == False:\n",
    "    print(-1)"
   ]
  }
 ],
 "metadata": {
  "kernelspec": {
   "display_name": "noname",
   "language": "python",
   "name": "python3"
  },
  "language_info": {
   "codemirror_mode": {
    "name": "ipython",
    "version": 3
   },
   "file_extension": ".py",
   "mimetype": "text/x-python",
   "name": "python",
   "nbconvert_exporter": "python",
   "pygments_lexer": "ipython3",
   "version": "3.11.0"
  }
 },
 "nbformat": 4,
 "nbformat_minor": 2
}
