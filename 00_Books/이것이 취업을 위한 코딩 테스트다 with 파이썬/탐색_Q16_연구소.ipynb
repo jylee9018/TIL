{
 "cells": [
  {
   "cell_type": "code",
   "execution_count": 1,
   "metadata": {},
   "outputs": [
    {
     "name": "stdout",
     "output_type": "stream",
     "text": [
      "1/5\n"
     ]
    }
   ],
   "source": [
    "from fractions import Fraction\n",
    "\n",
    "a = Fraction(1, 5)\n",
    "print(a)"
   ]
  },
  {
   "cell_type": "code",
   "execution_count": 2,
   "metadata": {},
   "outputs": [
    {
     "name": "stdout",
     "output_type": "stream",
     "text": [
      "1\n",
      "5\n"
     ]
    }
   ],
   "source": [
    "print(a.numerator)\n",
    "print(a.denominator)"
   ]
  },
  {
   "cell_type": "code",
   "execution_count": 3,
   "metadata": {},
   "outputs": [
    {
     "name": "stdout",
     "output_type": "stream",
     "text": [
      "1/5\n"
     ]
    }
   ],
   "source": [
    "b = Fraction(\"1/5\")\n",
    "print(b)"
   ]
  },
  {
   "cell_type": "code",
   "execution_count": 17,
   "metadata": {},
   "outputs": [
    {
     "data": {
      "text/plain": [
       "4"
      ]
     },
     "execution_count": 17,
     "metadata": {},
     "output_type": "execute_result"
    }
   ],
   "source": [
    "def solution(array):\n",
    "    answer = []\n",
    "\n",
    "    count = {}\n",
    "    for a in array:\n",
    "        if a not in count.keys():\n",
    "            count[a] = 1\n",
    "        else:\n",
    "            count[a] = count[a] + 1\n",
    "\n",
    "    max_count = max(count.values())\n",
    "\n",
    "    for key, value in count.items():\n",
    "        if value == max_count:\n",
    "            answer.append(key)\n",
    "\n",
    "    if len(answer) > 1:\n",
    "        return -1\n",
    "\n",
    "    return answer[0]\n",
    "\n",
    "\n",
    "solution([1, 2, 3, 3, 4, 4, 4])"
   ]
  },
  {
   "cell_type": "code",
   "execution_count": 19,
   "metadata": {},
   "outputs": [
    {
     "name": "stdout",
     "output_type": "stream",
     "text": [
      "5\n"
     ]
    }
   ],
   "source": [
    "a = 10\n",
    "b = 15\n",
    "\n",
    "result = 0\n",
    "for i in range(max(a, b), 0, -1):\n",
    "    if a % i == 0 and b % i == 0:\n",
    "        result = i\n",
    "        break\n",
    "\n",
    "print(result)"
   ]
  }
 ],
 "metadata": {
  "kernelspec": {
   "display_name": "noname",
   "language": "python",
   "name": "python3"
  },
  "language_info": {
   "codemirror_mode": {
    "name": "ipython",
    "version": 3
   },
   "file_extension": ".py",
   "mimetype": "text/x-python",
   "name": "python",
   "nbconvert_exporter": "python",
   "pygments_lexer": "ipython3",
   "version": "3.11.0"
  }
 },
 "nbformat": 4,
 "nbformat_minor": 2
}
