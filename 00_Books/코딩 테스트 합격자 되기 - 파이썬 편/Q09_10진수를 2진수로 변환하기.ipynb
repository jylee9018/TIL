{
 "cells": [
  {
   "cell_type": "code",
   "execution_count": 43,
   "metadata": {},
   "outputs": [],
   "source": [
    "def solution(number):\n",
    "    stack = list()\n",
    "    \n",
    "    for _ in range(int(number // 2)):\n",
    "        stack.append(str(number % 2))\n",
    "        if number == 1:\n",
    "            break\n",
    "        else:\n",
    "            number = number // 2\n",
    "\n",
    "    answer = ''\n",
    "    while stack:\n",
    "        answer += stack.pop()\n",
    "    \n",
    "    return answer"
   ]
  },
  {
   "cell_type": "code",
   "execution_count": 44,
   "metadata": {},
   "outputs": [
    {
     "name": "stdout",
     "output_type": "stream",
     "text": [
      "1010\n",
      "11011\n",
      "11000000111001\n"
     ]
    }
   ],
   "source": [
    "print(solution(10))\n",
    "print(solution(27))\n",
    "print(solution(12345))"
   ]
  },
  {
   "cell_type": "code",
   "execution_count": null,
   "metadata": {},
   "outputs": [],
   "source": [
    "2 10\n",
    "2  5  0\n",
    "2  2  1\n",
    "   1  0"
   ]
  },
  {
   "cell_type": "code",
   "execution_count": 30,
   "metadata": {},
   "outputs": [
    {
     "data": {
      "text/plain": [
       "'abcde'"
      ]
     },
     "execution_count": 30,
     "metadata": {},
     "output_type": "execute_result"
    }
   ],
   "source": [
    "''.join(['a', 'b', 'c', 'd', 'e'])"
   ]
  }
 ],
 "metadata": {
  "kernelspec": {
   "display_name": "noname",
   "language": "python",
   "name": "python3"
  },
  "language_info": {
   "codemirror_mode": {
    "name": "ipython",
    "version": 3
   },
   "file_extension": ".py",
   "mimetype": "text/x-python",
   "name": "python",
   "nbconvert_exporter": "python",
   "pygments_lexer": "ipython3",
   "version": "3.11.0"
  }
 },
 "nbformat": 4,
 "nbformat_minor": 2
}
