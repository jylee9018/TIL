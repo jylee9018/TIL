{
 "cells": [
  {
   "cell_type": "code",
   "execution_count": 10,
   "metadata": {},
   "outputs": [],
   "source": [
    "def solution(answers):\n",
    "    patterns = [[1, 2, 3, 4, 5],\n",
    "                [2, 1, 2, 3, 2, 4, 2, 5],\n",
    "                [3, 3, 1, 1, 2, 2, 4, 4, 5, 5]]\n",
    "\n",
    "    def pattern_answer(pattern):\n",
    "        pattern_answer = []\n",
    "        n = len(answers) // len(pattern)\n",
    "        m = len(answers) % len(pattern)\n",
    "\n",
    "        if len(answers) <= len(pattern):\n",
    "            return pattern[:len(answers)]\n",
    "\n",
    "        pattern_answer = pattern * n\n",
    "        pattern_answer = pattern_answer + pattern[:m - 1]\n",
    "\n",
    "        return pattern_answer\n",
    "\n",
    "\n",
    "    def compare_answer(pattern_answer, answers):\n",
    "        count = 0\n",
    "        for i in range(len(pattern_answer)):\n",
    "            if pattern_answer[i] == answers[i]:\n",
    "                count += 1\n",
    "        \n",
    "        return count\n",
    "\n",
    "\n",
    "    result = {}\n",
    "    for i in range(3):\n",
    "        student_answer = pattern_answer(patterns[i])\n",
    "        # print(student_answer)\n",
    "\n",
    "        student_answer_corrected = compare_answer(student_answer, answers)\n",
    "        # print(student_answer_corrected)\n",
    "\n",
    "        if student_answer_corrected != 0:\n",
    "            result[i + 1] = student_answer_corrected\n",
    "    # print(result)\n",
    "    \n",
    "    result_sorted = sorted(result, key=lambda x: result[x], reverse=True)\n",
    "    # print(result_sorted)\n",
    "\n",
    "    return result_sorted"
   ]
  },
  {
   "cell_type": "code",
   "execution_count": 11,
   "metadata": {},
   "outputs": [
    {
     "name": "stdout",
     "output_type": "stream",
     "text": [
      "[1]\n",
      "[1, 2, 3]\n"
     ]
    }
   ],
   "source": [
    "print(solution([1, 2, 3, 4, 5]))\n",
    "print(solution([1, 3, 2, 4, 2]))"
   ]
  },
  {
   "cell_type": "code",
   "execution_count": null,
   "metadata": {},
   "outputs": [],
   "source": [
    "a = [1, 2, 3]\n",
    "b = [4, 5, 6]\n",
    "\n",
    "c = []\n",
    "c.append(a)\n",
    "c.append(b)\n",
    "\n",
    "print(c)\n",
    "print(c[0])"
   ]
  },
  {
   "cell_type": "code",
   "execution_count": null,
   "metadata": {},
   "outputs": [],
   "source": [
    "a = [1, 2, 3, 4, 5]\n",
    "b = [x + 1 for x in range(5)]\n",
    "\n",
    "print(a)\n",
    "print(b)"
   ]
  },
  {
   "cell_type": "code",
   "execution_count": 22,
   "metadata": {},
   "outputs": [],
   "source": [
    "def solution(answers):\n",
    "    patterns = [[1, 2, 3, 4, 5],\n",
    "                [2, 1, 2, 3, 2, 4, 2, 5],\n",
    "                [3, 3, 1, 1, 2, 2, 4, 4, 5, 5]]\n",
    "    \n",
    "    scores = [0] * 3\n",
    "    for i, answer in enumerate(answers):\n",
    "        # patterns = pattern[0], pattern[1], pattern[2] --> List()\n",
    "        for j, pattern in enumerate(patterns):\n",
    "            if answer == pattern[i % len(pattern)]:\n",
    "                scores[j] += 1\n",
    "    # print(scores)\n",
    "\n",
    "    highest_score = max(scores)\n",
    "\n",
    "    student_numbers = []\n",
    "    for i, score in enumerate(scores):\n",
    "        if score == highest_score:\n",
    "            student_numbers.append(i + 1)\n",
    "    \n",
    "    return student_numbers"
   ]
  },
  {
   "cell_type": "code",
   "execution_count": 23,
   "metadata": {},
   "outputs": [
    {
     "name": "stdout",
     "output_type": "stream",
     "text": [
      "[1]\n"
     ]
    }
   ],
   "source": [
    "print(solution([1, 2, 3, 4, 5]))"
   ]
  }
 ],
 "metadata": {
  "kernelspec": {
   "display_name": "noname",
   "language": "python",
   "name": "python3"
  },
  "language_info": {
   "codemirror_mode": {
    "name": "ipython",
    "version": 3
   },
   "file_extension": ".py",
   "mimetype": "text/x-python",
   "name": "python",
   "nbconvert_exporter": "python",
   "pygments_lexer": "ipython3",
   "version": "3.11.0"
  }
 },
 "nbformat": 4,
 "nbformat_minor": 2
}
