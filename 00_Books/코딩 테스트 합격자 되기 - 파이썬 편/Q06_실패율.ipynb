{
 "cells": [
  {
   "cell_type": "code",
   "execution_count": 55,
   "metadata": {},
   "outputs": [],
   "source": [
    "def solution(n, stages):\n",
    "    \n",
    "    # 각 스테이지별 실패율 구하기\n",
    "    fails = {}\n",
    "    for i in range(1, n + 1):\n",
    "        fails[i] = 0\n",
    "        for stage in stages:\n",
    "            if stage <= i:\n",
    "                fails[i] += 1\n",
    "        fails[i] = fails[i] / len(stages)\n",
    "        \n",
    "        for _ in range(len(stages)):\n",
    "            if i in stages:\n",
    "                stages.remove(i)\n",
    "        \n",
    "    result = sorted(fails, key=lambda x: fails[x], reverse=True)\n",
    "\n",
    "    return result"
   ]
  },
  {
   "cell_type": "code",
   "execution_count": null,
   "metadata": {},
   "outputs": [],
   "source": [
    "print(solution(5, [2, 1, 2, 6, 2, 4, 3, 3]))"
   ]
  },
  {
   "cell_type": "markdown",
   "metadata": {},
   "source": [
    "→ 시간복잡도 = $O(N^2)$\n"
   ]
  },
  {
   "cell_type": "code",
   "execution_count": null,
   "metadata": {},
   "outputs": [],
   "source": [
    "a = [1, 2, 3, 4, 5]\n",
    "a.remove(1)\n",
    "print(a)"
   ]
  },
  {
   "cell_type": "code",
   "execution_count": null,
   "metadata": {},
   "outputs": [],
   "source": [
    "a = {}\n",
    "for i in range(5):\n",
    "    a[i] = i\n",
    "\n",
    "print(a)"
   ]
  },
  {
   "cell_type": "code",
   "execution_count": null,
   "metadata": {},
   "outputs": [],
   "source": [
    "b = [1, 2, 3, 4, 5, 6, 7]\n",
    "\n",
    "for i in range(1, 3 + 1):\n",
    "    b.remove(i)\n",
    "\n",
    "print(b)"
   ]
  },
  {
   "cell_type": "code",
   "execution_count": 2,
   "metadata": {},
   "outputs": [],
   "source": [
    "def solution(N, stages):\n",
    "    # 스테이지별 도전자 수를 구함\n",
    "    challenger = [0] * (N + 2)\n",
    "    for stage in stages:\n",
    "        challenger[stage] += 1\n",
    "\n",
    "    # 스테이지별 실패한 사용자 수 계산\n",
    "    fails = {}\n",
    "    total = len(stages)\n",
    "\n",
    "    # 각 스테이지를 순회하며, 실패율 계산\n",
    "    for i in range(1, N + 1):\n",
    "        if challenger[i] == 0:\n",
    "            fails[i] = 0\n",
    "        else:\n",
    "            fails[i] = challenger[i] / total\n",
    "            total -= challenger[i]\n",
    "    \n",
    "    result = sorted(fails, key=lambda x : fails[x], reverse=True)\n",
    "\n",
    "    return result\n"
   ]
  },
  {
   "cell_type": "code",
   "execution_count": 3,
   "metadata": {},
   "outputs": [
    {
     "name": "stdout",
     "output_type": "stream",
     "text": [
      "[3, 4, 2, 1, 5]\n"
     ]
    }
   ],
   "source": [
    "print(solution(5, [2, 1, 2, 6, 2, 4, 3, 3]))"
   ]
  },
  {
   "cell_type": "code",
   "execution_count": null,
   "metadata": {},
   "outputs": [],
   "source": []
  }
 ],
 "metadata": {
  "kernelspec": {
   "display_name": "noname",
   "language": "python",
   "name": "python3"
  },
  "language_info": {
   "codemirror_mode": {
    "name": "ipython",
    "version": 3
   },
   "file_extension": ".py",
   "mimetype": "text/x-python",
   "name": "python",
   "nbconvert_exporter": "python",
   "pygments_lexer": "ipython3",
   "version": "3.11.0"
  }
 },
 "nbformat": 4,
 "nbformat_minor": 2
}
