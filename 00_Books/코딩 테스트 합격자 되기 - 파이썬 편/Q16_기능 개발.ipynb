{
 "cells": [
  {
   "cell_type": "markdown",
   "metadata": {},
   "source": [
    "❌\n"
   ]
  },
  {
   "cell_type": "code",
   "execution_count": 5,
   "metadata": {},
   "outputs": [
    {
     "name": "stdout",
     "output_type": "stream",
     "text": [
      "deque([0, 0, 0])\n",
      "days: deque([7, 0, 0])\n",
      "days: deque([7, 5, 0])\n",
      "days: deque([7, 5, 9])\n",
      "[2, 1]\n"
     ]
    }
   ],
   "source": [
    "from collections import deque\n",
    "\n",
    "\n",
    "def solution(progresses, speeds):\n",
    "    days = deque([0 for _ in range(len(progresses))])\n",
    "    print(days)\n",
    "    for i in range(len(progresses)):\n",
    "        days[i] = (100 - progresses[i]) // speeds[i]\n",
    "        if (100 - progresses[i]) % speeds[i] != 0:\n",
    "            days[i] += days[i] + 1\n",
    "        print(\"days:\", days)\n",
    "\n",
    "    answer = []\n",
    "    count = 0\n",
    "    max_day = days[0]  # 초기화\n",
    "\n",
    "    for i in range(len(days)):\n",
    "        if days[i] <= max_day:\n",
    "            count += 1\n",
    "        else:\n",
    "            answer.append(count)\n",
    "            count = 1\n",
    "            max_day = days[i]\n",
    "\n",
    "    answer.append(count)\n",
    "    return answer\n",
    "\n",
    "\n",
    "print(solution([93, 30, 55], [1, 30, 5]))"
   ]
  },
  {
   "cell_type": "code",
   "execution_count": null,
   "metadata": {},
   "outputs": [],
   "source": []
  },
  {
   "cell_type": "code",
   "execution_count": null,
   "metadata": {},
   "outputs": [],
   "source": [
    "a = 10\n",
    "b = 3\n",
    "\n",
    "print(a / b)\n",
    "print(a // b)"
   ]
  },
  {
   "cell_type": "code",
   "execution_count": null,
   "metadata": {},
   "outputs": [],
   "source": [
    "a = [1, 2, 3, 4, 5]\n",
    "b = [6, 7, 8, 9, 10]\n",
    "c = deque()\n",
    "\n",
    "c.append(a)\n",
    "c.append(b)\n",
    "\n",
    "\n",
    "print(c)"
   ]
  },
  {
   "cell_type": "code",
   "execution_count": null,
   "metadata": {},
   "outputs": [],
   "source": [
    "d = deque()"
   ]
  }
 ],
 "metadata": {
  "kernelspec": {
   "display_name": "noname",
   "language": "python",
   "name": "python3"
  },
  "language_info": {
   "codemirror_mode": {
    "name": "ipython",
    "version": 3
   },
   "file_extension": ".py",
   "mimetype": "text/x-python",
   "name": "python",
   "nbconvert_exporter": "python",
   "pygments_lexer": "ipython3",
   "version": "3.11.0"
  }
 },
 "nbformat": 4,
 "nbformat_minor": 2
}
