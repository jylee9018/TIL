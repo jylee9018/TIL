{
 "cells": [
  {
   "cell_type": "code",
   "execution_count": 1,
   "metadata": {},
   "outputs": [],
   "source": [
    "def solution(board, moves):\n",
    "    result = 0\n",
    "    bascket = []\n",
    "\n",
    "    # 이중 리스트 선언: board -> stack\n",
    "    board_stack = [[] for _ in range(len(board))]\n",
    "    for i in range(len(board)):\n",
    "        for j in range(len(board)):\n",
    "            if board[j][i] != 0:\n",
    "                board_stack[i].append(board[j][i])\n",
    "    # print(board_stack)\n",
    "\n",
    "    for i, move in enumerate(moves):\n",
    "        if bascket and (board_stack[move - 1][0] == bascket[-1]):\n",
    "            bascket.pop()\n",
    "            result += 1\n",
    "        else:\n",
    "            bascket.append(board_stack[move - 1][0])\n",
    "\n",
    "        if board_stack[move - 1]:\n",
    "            board_stack[move - 1] = board_stack[move - 1][1:]\n",
    "            if not board_stack[move - 1]:\n",
    "                board_stack[move - 1].append(0)\n",
    "\n",
    "        print(bascket)\n",
    "\n",
    "    return result * 2"
   ]
  },
  {
   "cell_type": "code",
   "execution_count": 2,
   "metadata": {},
   "outputs": [
    {
     "name": "stdout",
     "output_type": "stream",
     "text": [
      "[4]\n",
      "[4, 3]\n",
      "[4, 3, 1]\n",
      "[4, 3]\n",
      "[4]\n",
      "[4, 2]\n",
      "[4, 2, 0]\n",
      "[4, 2, 0, 4]\n",
      "4\n"
     ]
    }
   ],
   "source": [
    "board = [\n",
    "    [0, 0, 0, 0, 0],\n",
    "    [0, 0, 1, 0, 3],\n",
    "    [0, 2, 5, 0, 1],\n",
    "    [4, 2, 4, 4, 2],\n",
    "    [3, 5, 1, 3, 1],\n",
    "]\n",
    "moves = [1, 5, 3, 5, 1, 2, 1, 4]\n",
    "print(solution(board, moves))"
   ]
  },
  {
   "cell_type": "code",
   "execution_count": null,
   "metadata": {},
   "outputs": [],
   "source": []
  },
  {
   "cell_type": "code",
   "execution_count": null,
   "metadata": {},
   "outputs": [],
   "source": [
    "stack = [[] for _ in range(5)]\n",
    "print(stack)"
   ]
  }
 ],
 "metadata": {
  "kernelspec": {
   "display_name": "noname",
   "language": "python",
   "name": "python3"
  },
  "language_info": {
   "codemirror_mode": {
    "name": "ipython",
    "version": 3
   },
   "file_extension": ".py",
   "mimetype": "text/x-python",
   "name": "python",
   "nbconvert_exporter": "python",
   "pygments_lexer": "ipython3",
   "version": "3.11.0"
  }
 },
 "nbformat": 4,
 "nbformat_minor": 2
}
