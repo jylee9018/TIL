{
 "cells": [
  {
   "cell_type": "markdown",
   "metadata": {},
   "source": [
    "❌\n",
    "⭕️(해설지에서 힌트를 얻음)\n"
   ]
  },
  {
   "cell_type": "code",
   "execution_count": null,
   "metadata": {},
   "outputs": [],
   "source": [
    "def solution(s):\n",
    "    stack = []\n",
    "    for c in s:\n",
    "        if stack and c == stack[-1]:\n",
    "            stack.pop()\n",
    "        else:\n",
    "            stack.append(c)\n",
    "        # print(stack)\n",
    "\n",
    "    # print(stack)\n",
    "    if not stack:\n",
    "        answer = 1\n",
    "    else:\n",
    "        answer = 0\n",
    "\n",
    "    return answer\n",
    "    # return int(not stack)"
   ]
  },
  {
   "cell_type": "code",
   "execution_count": 2,
   "metadata": {},
   "outputs": [
    {
     "name": "stdout",
     "output_type": "stream",
     "text": [
      "1\n",
      "0\n"
     ]
    }
   ],
   "source": [
    "print(solution(\"baabaa\"))\n",
    "print(solution(\"cdcd\"))"
   ]
  },
  {
   "cell_type": "code",
   "execution_count": null,
   "metadata": {},
   "outputs": [],
   "source": []
  },
  {
   "cell_type": "code",
   "execution_count": null,
   "metadata": {},
   "outputs": [
    {
     "name": "stdout",
     "output_type": "stream",
     "text": [
      "a\n",
      "aabbccddee bbccddee\n",
      "aabbccddee bbccddee\n",
      "aabbccddee\n",
      "bbccddee\n"
     ]
    }
   ],
   "source": [
    "# 리스트 원소 제거를 replace(s[0], \"\") 해볼까?\n",
    "# > s[0]과 동일한 원소를 모두 제거하므로 원하지 않은 동작을 함\n",
    "\n",
    "s = \"aabbccddee\"\n",
    "\n",
    "print(s[0])\n",
    "a = s.replace(s[0], \"\")\n",
    "print(s, a)\n",
    "a = s.replace(s[1], \"\")\n",
    "print(s, a)\n",
    "\n",
    "print(s)\n",
    "print(a)"
   ]
  },
  {
   "cell_type": "code",
   "execution_count": 4,
   "metadata": {},
   "outputs": [
    {
     "name": "stdout",
     "output_type": "stream",
     "text": [
      "baabaa bb\n",
      "baabaa bb\n",
      "bb bb\n",
      "bb \n",
      "bb \n",
      " \n"
     ]
    }
   ],
   "source": [
    "s = \"baabaa\"\n",
    "a = \"\"\n",
    "while s:\n",
    "\n",
    "    for i in range(len(s) - 1):\n",
    "        if s[i] == s[i + 1]:\n",
    "            a = s.replace(s[i], \"\")\n",
    "            print(s, a)\n",
    "            a = s.replace(s[i + 1], \"\")\n",
    "            print(s, a)\n",
    "            s = a\n",
    "            print(s, a)\n",
    "            break"
   ]
  }
 ],
 "metadata": {
  "kernelspec": {
   "display_name": "noname",
   "language": "python",
   "name": "python3"
  },
  "language_info": {
   "codemirror_mode": {
    "name": "ipython",
    "version": 3
   },
   "file_extension": ".py",
   "mimetype": "text/x-python",
   "name": "python",
   "nbconvert_exporter": "python",
   "pygments_lexer": "ipython3",
   "version": "3.11.0"
  }
 },
 "nbformat": 4,
 "nbformat_minor": 2
}
