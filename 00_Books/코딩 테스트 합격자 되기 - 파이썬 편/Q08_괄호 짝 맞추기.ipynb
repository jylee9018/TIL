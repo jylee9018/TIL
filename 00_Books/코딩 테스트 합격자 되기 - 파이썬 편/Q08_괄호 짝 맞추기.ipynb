{
 "cells": [
  {
   "cell_type": "code",
   "execution_count": 1,
   "metadata": {},
   "outputs": [],
   "source": [
    "def solution(string):\n",
    "    stack = list()\n",
    "    for s in string:\n",
    "        if s == \"(\":\n",
    "            stack.append(\"(\")\n",
    "        elif s == \")\":\n",
    "            if stack:\n",
    "                stack.pop()\n",
    "            else:\n",
    "                return False\n",
    "    \n",
    "    if stack:\n",
    "        return False\n",
    "\n",
    "    return True"
   ]
  },
  {
   "cell_type": "code",
   "execution_count": 2,
   "metadata": {},
   "outputs": [
    {
     "name": "stdout",
     "output_type": "stream",
     "text": [
      "True\n",
      "False\n"
     ]
    }
   ],
   "source": [
    "print(solution(\"(())()\"))\n",
    "print(solution(\"((())()\"))"
   ]
  },
  {
   "cell_type": "code",
   "execution_count": null,
   "metadata": {},
   "outputs": [],
   "source": []
  }
 ],
 "metadata": {
  "kernelspec": {
   "display_name": "noname",
   "language": "python",
   "name": "python3"
  },
  "language_info": {
   "codemirror_mode": {
    "name": "ipython",
    "version": 3
   },
   "file_extension": ".py",
   "mimetype": "text/x-python",
   "name": "python",
   "nbconvert_exporter": "python",
   "pygments_lexer": "ipython3",
   "version": "3.11.0"
  }
 },
 "nbformat": 4,
 "nbformat_minor": 2
}
