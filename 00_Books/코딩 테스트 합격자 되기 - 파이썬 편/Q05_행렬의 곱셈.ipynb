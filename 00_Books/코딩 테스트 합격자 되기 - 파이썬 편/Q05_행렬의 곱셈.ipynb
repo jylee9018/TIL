{
 "cells": [
  {
   "cell_type": "markdown",
   "metadata": {},
   "source": [
    "❌"
   ]
  },
  {
   "cell_type": "code",
   "execution_count": 13,
   "metadata": {},
   "outputs": [],
   "source": [
    "def solution(arr1, arr2):\n",
    "\n",
    "    r1, c1 = len(arr1), len(arr1[0])\n",
    "    r2, c2 = len(arr2), len(arr2[0])\n",
    "\n",
    "    ans = [[0] * c2 for _ in range(r1)]\n",
    "\n",
    "    for i in range(r1):\n",
    "        for j in range(c2):\n",
    "            for k in range(c1):\n",
    "                ans[i][j] += arr1[i][k] * arr2[k][j]\n",
    "\n",
    "    return ans"
   ]
  },
  {
   "cell_type": "code",
   "execution_count": 14,
   "metadata": {},
   "outputs": [
    {
     "name": "stdout",
     "output_type": "stream",
     "text": [
      "[[15, 15], [15, 15], [15, 15]]\n"
     ]
    }
   ],
   "source": [
    "arr1 = [[1, 4], [3, 2], [4, 1]]\n",
    "arr2 = [[3, 3], [3, 3]]\n",
    "\n",
    "print(solution(arr1, arr2))"
   ]
  },
  {
   "cell_type": "code",
   "execution_count": null,
   "metadata": {},
   "outputs": [],
   "source": [
    "(2 * 2) * (2 * 2) = (2 * 2)\n",
    "\n",
    "arr1[0][0] * arr2[0][0] + arr1[0][1] * arr2[1][0] = arr3[0][0]\n",
    "arr1[0][0] * arr2[0][1] + arr1[0][1] * arr2[1][1] = arr3[0][1]\n"
   ]
  },
  {
   "cell_type": "code",
   "execution_count": null,
   "metadata": {},
   "outputs": [],
   "source": [
    "a11 a12 * b11 b12 = c11=a11*b11+a12*b21  c12=a11*b12+a12*b22\n",
    "a21 a22   b21 b22   c21=a21*b11+a22*b21  c21=a21*b12+a22*b22  "
   ]
  }
 ],
 "metadata": {
  "kernelspec": {
   "display_name": "noname",
   "language": "python",
   "name": "python3"
  },
  "language_info": {
   "codemirror_mode": {
    "name": "ipython",
    "version": 3
   },
   "file_extension": ".py",
   "mimetype": "text/x-python",
   "name": "python",
   "nbconvert_exporter": "python",
   "pygments_lexer": "ipython3",
   "version": "3.11.0"
  }
 },
 "nbformat": 4,
 "nbformat_minor": 2
}
