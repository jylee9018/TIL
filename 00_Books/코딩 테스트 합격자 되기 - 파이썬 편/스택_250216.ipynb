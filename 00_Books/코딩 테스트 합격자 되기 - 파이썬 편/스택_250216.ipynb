{
 "cells": [
  {
   "cell_type": "code",
   "execution_count": null,
   "metadata": {},
   "outputs": [],
   "source": [
    "stack = []\n",
    "max_size = 10\n",
    "\n",
    "\n",
    "def isFull(stack):\n",
    "    return len(stack) == max_size\n",
    "\n",
    "\n",
    "def isEmpty(stack):\n",
    "    return len(stack) == 0\n",
    "\n",
    "\n",
    "def push(stack, item):\n",
    "    if isFull(stack):\n",
    "        print(\"스택이 가득 찼습니다.\")\n",
    "    else:\n",
    "        stack.append(item)\n",
    "        print(\"스택에 데이터가 추가되었습니다.\")\n",
    "\n",
    "\n",
    "def pop(stack):\n",
    "    if isEmpty(stack):\n",
    "        print(\"스택이 비었습니다.\")\n",
    "        return None\n",
    "    else:\n",
    "        return stack.pop()"
   ]
  }
 ],
 "metadata": {
  "kernelspec": {
   "display_name": "noname",
   "language": "python",
   "name": "python3"
  },
  "language_info": {
   "name": "python",
   "version": "3.11.0"
  }
 },
 "nbformat": 4,
 "nbformat_minor": 2
}
