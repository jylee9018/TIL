{
 "cells": [
  {
   "cell_type": "markdown",
   "metadata": {},
   "source": [
    "# CHAPTER 2. 자연어와 단어의 분산 표현"
   ]
  },
  {
   "cell_type": "markdown",
   "metadata": {},
   "source": [
    "## 2.1 자연어 처리란\n",
    "- 자연어(Natural Language)\n",
    "- 자연어 처리(Natural Language Processing, NLP)"
   ]
  },
  {
   "cell_type": "markdown",
   "metadata": {},
   "source": [
    "### 2.1.1 단어의 의미\n",
    "- 문자\n",
    "- 단어\n",
    "- 자연어를 컴퓨터에게 이해시키기 위해 '단어의 의미'를 이해 시키는 것이 중요하다.\n",
    "  - 시소러스를 활용한 기법: 단어의 의미를 사람이 정의하는 기법\n",
    "  - 통계 기반 기법\n",
    "  - 추론 기반 기법(word2vec)"
   ]
  },
  {
   "cell_type": "markdown",
   "metadata": {},
   "source": [
    "## 2.2 시소러스\n",
    "- 시소러스: 유의어 사전, 뜻이 같은 단어(동의어)나 뜻이 비슷한 단어(유의어)가 한 그룹으로 분류되어 있음\n",
    "  - 단어 사이의 '상위와 하위' 혹은 '전체와 부분' 등 세세한 관계까지 정의해 둔 경우가 있음.\n",
    "  - 각 단어의 관계를 그래프 구조로 정의"
   ]
  },
  {
   "cell_type": "markdown",
   "metadata": {},
   "source": [
    "### 2.2.1 WordNet\n",
    "- 자연어 처리 분야에서 가장 유명한 시소러스\n",
    "- 유의어를 얻거나 '단어 네트워크'를 이용할 수 있다.\n",
    "  - 수많은 단어에 대해 동의어와 계층 구조 등의 관계가 정의되어 있다.\n",
    "- 단어 네트워크를 사용해 단어 사이의 유사도를 구할 수 있다."
   ]
  },
  {
   "cell_type": "markdown",
   "metadata": {},
   "source": [
    "### 2.2.2 시소러스의 문제점"
   ]
  },
  {
   "cell_type": "markdown",
   "metadata": {},
   "source": [
    "- 시대 변화에 대응하기 어렵다.\n",
    "  - 신조어\n",
    "  - 시대에 따라 언어의 의미가 변한다.\n",
    "- 사람을 쓰는 비용이 크다.\n",
    "  - 현존하는 영어 단어의 수는 1,000만개가 넘는데 이 방대한 단어들 모두에 대해 단어 사이의 관계를 정의하려면 엄청난 인적 비용이 발생한다.\n",
    "  - WordNet에 등록되어 있는 단어: 20만개 이상\n",
    "- 단어의 미묘한 차이를 표현할 수 없다."
   ]
  },
  {
   "cell_type": "markdown",
   "metadata": {},
   "source": [
    "## 2.3 통계 기반 기법"
   ]
  },
  {
   "cell_type": "markdown",
   "metadata": {},
   "source": [
    "- 말뭉치(Corpus)\n",
    "  - 대량의 텍스트 데이터\n",
    "  - 맹목적으로 수집된 텍스트 데이터가 아닌 자연어 처리 연구나 애플리케이션을 염두에 두고 수집된 텍스트 데이터"
   ]
  },
  {
   "cell_type": "markdown",
   "metadata": {},
   "source": [
    "### 2.3.1 파이썬으로 말뭉치 전처리하기"
   ]
  },
  {
   "cell_type": "code",
   "execution_count": 3,
   "metadata": {},
   "outputs": [
    {
     "name": "stdout",
     "output_type": "stream",
     "text": [
      "you say goodbye and i say hello .\n",
      "['you', 'say', 'goodbye', 'and', 'i', 'say', 'hello', '.']\n"
     ]
    }
   ],
   "source": [
    "text = \"You say goodbye and I say hello.\"\n",
    "\n",
    "text = text.lower()\n",
    "text = text.replace(\".\", \" .\")\n",
    "print(text)\n",
    "\n",
    "# 단어 단위로 분리\n",
    "words1 = text.split(\" \")\n",
    "print(words1)"
   ]
  },
  {
   "cell_type": "code",
   "execution_count": 4,
   "metadata": {},
   "outputs": [
    {
     "name": "stdout",
     "output_type": "stream",
     "text": [
      "['you', 'say', 'goodbye', 'and', 'i', 'say', 'hello', '']\n"
     ]
    }
   ],
   "source": [
    "# 정규표현식\n",
    "import re\n",
    "\n",
    "text = \"You say goodbye and I say hello.\"\n",
    "\n",
    "text = text.lower()\n",
    "words2 = re.split(\"\\W+?\", text)\n",
    "print(words2)"
   ]
  },
  {
   "cell_type": "code",
   "execution_count": 5,
   "metadata": {},
   "outputs": [
    {
     "name": "stdout",
     "output_type": "stream",
     "text": [
      "{'you': 0, 'say': 1, 'goodbye': 2, 'and': 3, 'i': 4, 'hello': 5, '.': 6}\n",
      "{0: 'you', 1: 'say', 2: 'goodbye', 3: 'and', 4: 'i', 5: 'hello', 6: '.'}\n"
     ]
    }
   ],
   "source": [
    "word_to_id = {}\n",
    "id_to_word = {}\n",
    "\n",
    "for word in words1:\n",
    "    if word not in word_to_id:\n",
    "        new_id = len(word_to_id)\n",
    "        word_to_id[word] = new_id\n",
    "        id_to_word[new_id] = word\n",
    "\n",
    "print(word_to_id)\n",
    "print(id_to_word)"
   ]
  },
  {
   "cell_type": "code",
   "execution_count": 6,
   "metadata": {},
   "outputs": [
    {
     "name": "stdout",
     "output_type": "stream",
     "text": [
      "5\n",
      "say\n"
     ]
    }
   ],
   "source": [
    "print(word_to_id[\"hello\"])\n",
    "print(id_to_word[1])"
   ]
  },
  {
   "cell_type": "code",
   "execution_count": 7,
   "metadata": {},
   "outputs": [
    {
     "name": "stdout",
     "output_type": "stream",
     "text": [
      "[0, 1, 2, 3, 4, 1, 5, 6]\n",
      "[0 1 2 3 4 1 5 6]\n"
     ]
    }
   ],
   "source": [
    "import numpy as np\n",
    "\n",
    "corpus = [word_to_id[w] for w in words1]  # 리스트 컴프리핸션(내포)\n",
    "print(corpus)\n",
    "\n",
    "corpus = np.array(corpus)\n",
    "print(corpus)"
   ]
  },
  {
   "cell_type": "code",
   "execution_count": 8,
   "metadata": {},
   "outputs": [],
   "source": [
    "def preprocess(text):\n",
    "    text = text.lower()\n",
    "    text = text.replace(\".\", \" .\")\n",
    "\n",
    "    words = text.split(\" \")\n",
    "\n",
    "    word_to_id = {}\n",
    "    id_to_word = {}\n",
    "    for word in words:\n",
    "        if word not in word_to_id:\n",
    "            new_id = len(word_to_id)\n",
    "            word_to_id[word] = new_id\n",
    "            id_to_word[new_id] = word\n",
    "\n",
    "    corpus = np.array([word_to_id[w] for w in words])\n",
    "\n",
    "    return corpus, word_to_id, id_to_word"
   ]
  },
  {
   "cell_type": "code",
   "execution_count": 9,
   "metadata": {},
   "outputs": [
    {
     "name": "stdout",
     "output_type": "stream",
     "text": [
      "(array([0, 1, 2, 3, 4, 1, 5, 6]), {'you': 0, 'say': 1, 'goodbye': 2, 'and': 3, 'i': 4, 'hello': 5, '.': 6}, {0: 'you', 1: 'say', 2: 'goodbye', 3: 'and', 4: 'i', 5: 'hello', 6: '.'})\n"
     ]
    }
   ],
   "source": [
    "text = \"You say goodbye and I say hello.\"\n",
    "print(preprocess(text))"
   ]
  },
  {
   "cell_type": "markdown",
   "metadata": {},
   "source": [
    "### 2.3.2 단어의 분산 표현\n",
    "- 단어를 벡터로 표현\n",
    "- 단어의 분산 표현은 단어를 고정 길이의 밀집 벡터(Dense Vector)로 표현한다.\n",
    "  - 밀집 벡터: 대부분의 원소가 0이 아닌 실수인 벡터"
   ]
  },
  {
   "cell_type": "markdown",
   "metadata": {},
   "source": [
    "### 2.3.3 분포 가설(Distributinal Hypothesis)\n",
    "- '단어의 의미는 주변 단어에 의해 형성된다.'\n",
    "  - 단어 자체에는 의미가 없고, 그 단어가 사용된 맥락(Context)이 의미를 형성한다.\n",
    "  - 예) \"I drink beer\", \"We drink wine\"처럼 \"drink\" 주변에는 음료가 등장하기 쉽다.\n",
    "- 윈도우 크기(Window Size)\n",
    "  - 맥락: 특정 단어를 중심에 둔 그 주변 단어를 뜻함\n",
    "  - 윈도우 크기: 맥락의 크기(주변 단어를 몇 개나 포함할지)\n",
    "    - 예) 윈도우 크기가 1이면 좌우 한 단어씩, 윈도우 크기가 2이면 좌우 두 단어씩 맥락에 포함된다."
   ]
  },
  {
   "cell_type": "markdown",
   "metadata": {},
   "source": [
    "### 2.3.4 동시발생 행렬\n",
    "- 모든 단어에 대해 동시발생하는 단어를 정리한 것(벡터, 행렬)\n",
    "- 예) 문장 \"You say goodbye and I say hello.\" (단어 수: 총 7개), 윈도우 크기 1"
   ]
  },
  {
   "cell_type": "code",
   "execution_count": 10,
   "metadata": {},
   "outputs": [
    {
     "name": "stdout",
     "output_type": "stream",
     "text": [
      "[0 1 2 3 4 1 5 6]\n",
      "{0: 'you', 1: 'say', 2: 'goodbye', 3: 'and', 4: 'i', 5: 'hello', 6: '.'}\n"
     ]
    }
   ],
   "source": [
    "import sys\n",
    "\n",
    "sys.path.append(\"..\")\n",
    "import numpy as np\n",
    "\n",
    "text = \"You say goodbye and I say hello.\"\n",
    "corpus, word_to_id, id_to_word = preprocess(text)\n",
    "\n",
    "print(corpus)\n",
    "print(id_to_word)"
   ]
  },
  {
   "cell_type": "code",
   "execution_count": 11,
   "metadata": {},
   "outputs": [],
   "source": [
    "# 동시발생 행렬\n",
    "# - 단어의 의미적 관계 반영: 발생빈도를 통해\n",
    "C = np.array(\n",
    "    [\n",
    "        # you, say, goodbye, and, i, hello, .\n",
    "        [0, 1, 0, 0, 0, 0, 0],  # you\n",
    "        [1, 0, 1, 0, 1, 1, 0],  # say\n",
    "        [0, 1, 0, 1, 0, 0, 0],  # goodbye\n",
    "        [0, 0, 1, 0, 1, 0, 0],  # and\n",
    "        [0, 1, 0, 1, 0, 0, 0],  # i\n",
    "        [0, 1, 0, 0, 0, 0, 1],  # hello\n",
    "        [0, 0, 0, 0, 0, 1, 0],  # .\n",
    "    ],\n",
    "    dtype=np.int32,\n",
    ")"
   ]
  },
  {
   "cell_type": "code",
   "execution_count": 12,
   "metadata": {},
   "outputs": [
    {
     "name": "stdout",
     "output_type": "stream",
     "text": [
      "[0 1 0 0 0 0 0]\n",
      "[1 0 1 0 1 1 0]\n",
      "[0 1 0 1 0 0 0]\n"
     ]
    }
   ],
   "source": [
    "print(C[0])  # ID가 0인 단어의 벡터 표현\n",
    "print(C[1])  # ID가 1인 단어의 벡터 표현\n",
    "print(C[word_to_id[\"goodbye\"]])  # 단어 \"goodbye\"의 벡터 표현"
   ]
  },
  {
   "cell_type": "code",
   "execution_count": 13,
   "metadata": {},
   "outputs": [],
   "source": [
    "def create_co_matrix(corpus, vocab_size, window_size=1):\n",
    "    corpus_size = len(corpus)\n",
    "    co_matrix = np.zeros((vocab_size, vocab_size), dtype=np.int32)\n",
    "\n",
    "    for idx, word_id in enumerate(corpus):\n",
    "        for i in range(1, window_size + 1):\n",
    "            left_idx = idx - i\n",
    "            right_idx = idx + i\n",
    "\n",
    "            if left_idx >= 0:\n",
    "                left_word_id = corpus[left_idx]\n",
    "                co_matrix[word_id, left_word_id] += 1\n",
    "\n",
    "            if right_idx < corpus_size:\n",
    "                right_word_id = corpus[right_idx]\n",
    "                co_matrix[word_id, right_word_id] += 1\n",
    "\n",
    "    return co_matrix"
   ]
  },
  {
   "cell_type": "markdown",
   "metadata": {},
   "source": [
    "### 2.3.5 벡터 간 유사도\n",
    "- 코사인 유사도\n",
    "  - 분자: 벡터의 내적, 분모: 각 벡터의 L2 노름(벡터의 크기)\n",
    "  - 각 벡터를 정규화(단위 벡터화)하고 내적을 구하는 것\n",
    "    - 단위 벡터: 크기가 1인 벡터\n",
    "  - → '두 벡터가 가리키는 방향이 얼마나 비슷한가'\n",
    "    - 값의 범위: -1 ~ 1\n",
    "      - 1: 두 벡터가 같은 방향일 때\n",
    "      - 0: 두 벡터가 직교일 때\n",
    "      - -1: 두 벡터가 반대 방향일 때\n",
    "  - 코사인 유사도는 벡터를 정규화하여 계산되므로, 각 벡터의 크기는 무시하고 벡터의 방향에 초점을 맞춘다.\n",
    "$$\n",
    "\\begin{align*}\n",
    "similarity(\\mathbf x,  \\mathbf y)&=\\frac{\\mathbf x \\cdot \\mathbf y}{\\lVert \\mathbf x \\rVert \\lVert \\mathbf y \\rVert}\n",
    "\\\\&=\\frac{x_1y_1+\\cdots+x_ny_n}{\\sqrt{x_1^2+\\cdots+x_n^2}\\sqrt{y_1^2+\\cdots+y_n^2}}\n",
    "\\\\&=\\frac{\\mathbf x}{\\lVert \\mathbf x \\rVert}\\cdot \\frac{\\mathbf y}{\\lVert \\mathbf y \\rVert}\n",
    "\\end{align*}\n",
    "$$"
   ]
  },
  {
   "cell_type": "markdown",
   "metadata": {},
   "source": [
    "> 행벡터의 의미와 벡터의 내적 (by. 공돌이의 수학정리노트)\n",
    "- 벡터의 내적은 기하학적으로 한 벡터에서 다른 벡터로의 정사영이다.\n",
    "- 임의의 두 벡터 $\\vec{v_1}$과 $\\vec{v_2}$에 대하여 두 벡터의 사잇각이 $\\theta$라면 벡터의 내적은 다음과 같이 계산된다.\n",
    "$$\n",
    "\\vec{v_1}\\cdot\\vec{v_2}=\\lVert\\vec{v_1}\\rVert\\lVert\\vec{v_2}\\rVert cos\\theta\n",
    "$$"
   ]
  },
  {
   "attachments": {
    "image.png": {
     "image/png": "[encoded data removed]"
    }
   },
   "cell_type": "markdown",
   "metadata": {},
   "source": [
    "![image.png](attachment:image.png)"
   ]
  },
  {
   "cell_type": "markdown",
   "metadata": {},
   "source": [
    "$$\n",
    "cos\\theta=\\frac{\\vec{v_1}\\cdot\\vec{v_2}}{\\lVert\\vec{v_1}\\rVert\\lVert\\vec{v_2}\\rVert}\n",
    "$$"
   ]
  },
  {
   "cell_type": "code",
   "execution_count": 14,
   "metadata": {},
   "outputs": [],
   "source": [
    "def cos_similarity(x, y):\n",
    "    nx = x / np.sqrt(np.sum(x**2))  # x의 정규화\n",
    "    ny = y / np.sqrt(np.sum(y**2))  # y의 정규화\n",
    "    return np.dot(nx, ny)\n",
    "\n",
    "\n",
    "def cos_similarity(x, y, eps=1e-8):\n",
    "    nx = x / np.sqrt(np.sum(x**2) + eps)  # x의 정규화\n",
    "    ny = y / np.sqrt(np.sum(y**2) + eps)  # y의 정규화\n",
    "    return np.dot(nx, ny)"
   ]
  },
  {
   "cell_type": "code",
   "execution_count": 15,
   "metadata": {},
   "outputs": [
    {
     "name": "stdout",
     "output_type": "stream",
     "text": [
      "0.7071067758832467\n"
     ]
    }
   ],
   "source": [
    "import sys\n",
    "\n",
    "sys.path.append(\"..\")\n",
    "\n",
    "text = \"You say goodbye and I say hello.\"\n",
    "corpus, word_to_id, id_to_word = preprocess(text)\n",
    "vocab_size = len(word_to_id)\n",
    "C = create_co_matrix(corpus, vocab_size)\n",
    "\n",
    "c0 = C[word_to_id[\"you\"]]  # \"you\"의 단어 벡터\n",
    "c1 = C[word_to_id[\"i\"]]  # \"i\"의 단어 벡터\n",
    "print(cos_similarity(c0, c1))"
   ]
  },
  {
   "cell_type": "markdown",
   "metadata": {},
   "source": [
    "### 2.3.6 유사 단어의 랭킹 표시"
   ]
  },
  {
   "cell_type": "code",
   "execution_count": 20,
   "metadata": {},
   "outputs": [],
   "source": [
    "def most_similar(query, word_to_id, id_to_word, word_matrix, top=5):\n",
    "    # 1. 검색어를 꺼낸다.\n",
    "    # - 검색어의 단어 벡터를 꺼낸다.\n",
    "    if query not in word_to_id:\n",
    "        print(\"%s(을)를 찾을 수 없습니다.\" % query)\n",
    "        return\n",
    "\n",
    "    print(\"\\n[query] \" + query)\n",
    "    query_id = word_to_id[query]\n",
    "    query_vec = word_matrix[query_id]\n",
    "\n",
    "    # 2. 코사인 유사도 계산\n",
    "    # - 검색어의 단어 벡터와 다른 모든 단어 벡터와의 코사인 유사도를 각각 구한다.\n",
    "    vocab_size = len(id_to_word)\n",
    "    similarity = np.zeros(vocab_size)\n",
    "    for i in range(vocab_size):\n",
    "        similarity[i] = cos_similarity(word_matrix[i], query_vec)\n",
    "\n",
    "    # 3. 코사인 유사도를 기준으로 내림차순으로 출력\n",
    "    # - 계산한 코사인 유사도 결과를 기준으로 값이 높은 순서대로 출력한다.\n",
    "    count = 0\n",
    "    for i in (-1 * similarity).argsort():\n",
    "        if id_to_word[i] == query:\n",
    "            continue\n",
    "        print(\" %s: %s\" % (id_to_word[i], similarity[i]))\n",
    "\n",
    "        count += 1\n",
    "        if count >= top:\n",
    "            return"
   ]
  },
  {
   "cell_type": "code",
   "execution_count": 18,
   "metadata": {},
   "outputs": [
    {
     "name": "stdout",
     "output_type": "stream",
     "text": [
      "[1 2 0]\n",
      "[0 2 1]\n"
     ]
    }
   ],
   "source": [
    "# argsort() 메서드는 넘파이 배열의 원소를 오름차순으로 정렬. (반환값은 배열의 인덱스)\n",
    "x = np.array([100, -20, 2])\n",
    "print(x.argsort())\n",
    "print((-x).argsort())"
   ]
  },
  {
   "cell_type": "code",
   "execution_count": 19,
   "metadata": {},
   "outputs": [
    {
     "name": "stdout",
     "output_type": "stream",
     "text": [
      "\n",
      "[query] you\n",
      " goodbye: 0.7071067758832467\n",
      " i: 0.7071067758832467\n",
      " hello: 0.7071067758832467\n",
      " say: 0.0\n",
      " and: 0.0\n"
     ]
    }
   ],
   "source": [
    "import sys\n",
    "\n",
    "sys.path.append(\"..\")\n",
    "\n",
    "text = \"You say goodbye and I say hello.\"\n",
    "corpus, word_to_id, id_to_word = preprocess(text)\n",
    "vocab_size = len(word_to_id)\n",
    "C = create_co_matrix(corpus, vocab_size)\n",
    "\n",
    "most_similar(\"you\", word_to_id, id_to_word, C, top=5)"
   ]
  },
  {
   "cell_type": "markdown",
   "metadata": {},
   "source": [
    "## 2.4 통계 기반 기법 개선하기"
   ]
  },
  {
   "cell_type": "markdown",
   "metadata": {},
   "source": [
    "### 2.4.1 상호정보량\n",
    "- 점별 상호정보량(Pointwise Mutual Information, PMI)"
   ]
  },
  {
   "cell_type": "code",
   "execution_count": null,
   "metadata": {},
   "outputs": [],
   "source": []
  },
  {
   "cell_type": "code",
   "execution_count": null,
   "metadata": {},
   "outputs": [],
   "source": []
  }
 ],
 "metadata": {
  "kernelspec": {
   "display_name": "py38-torch",
   "language": "python",
   "name": "python3"
  },
  "language_info": {
   "codemirror_mode": {
    "name": "ipython",
    "version": 3
   },
   "file_extension": ".py",
   "mimetype": "text/x-python",
   "name": "python",
   "nbconvert_exporter": "python",
   "pygments_lexer": "ipython3",
   "version": "3.8.19"
  }
 },
 "nbformat": 4,
 "nbformat_minor": 2
}
