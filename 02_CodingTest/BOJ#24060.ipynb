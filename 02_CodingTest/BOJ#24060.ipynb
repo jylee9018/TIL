{
 "cells": [
  {
   "cell_type": "code",
   "execution_count": 50,
   "id": "d62efdad",
   "metadata": {},
   "outputs": [
    {
     "name": "stdout",
     "output_type": "stream",
     "text": [
      "3\n"
     ]
    }
   ],
   "source": [
    "# 배열을 반씩 나누는 재귀 함수\n",
    "def merge_sort(array, p, r):\n",
    "    # 종료 조건: 1개짜리 배열이 되었을 때\n",
    "    if p == r:\n",
    "        return\n",
    "    \n",
    "    q = (p + r) // 2\n",
    "    \n",
    "    merge_sort(array, p, q)\n",
    "    merge_sort(array, q + 1, r)\n",
    "    merge(array, p, q, r)\n",
    "\n",
    "\n",
    "def merge(array, p, q, r):\n",
    "    i = p       # 좌 리스트 시작 인덱스  \n",
    "    j = q + 1   # 우 리스트 시작 인덱스\n",
    "    \n",
    "    tmp = []\n",
    "    global K\n",
    "    global count\n",
    "    while (i <= q) and (j <= r):\n",
    "        # 오름차순 정렬\n",
    "        if array[i] <= array[j]:\n",
    "            tmp.append(array[i])\n",
    "            i += 1\n",
    "        else:\n",
    "            tmp.append(array[j])\n",
    "            j += 1\n",
    "\n",
    "    while i <= q:\n",
    "        tmp.append(array[i])\n",
    "        i += 1\n",
    "    \n",
    "    while j <= r:\n",
    "        tmp.append(array[j])\n",
    "        j += 1\n",
    "    \n",
    "    for i in range(len(tmp)):\n",
    "        array[p + i] = tmp[i]\n",
    "        # print(array)\n",
    "        \n",
    "        count += 1\n",
    "        if count == K:\n",
    "            print(array[p + i])\n",
    "            break\n",
    "\n",
    "\n",
    "N, K = map(int, input().split())\n",
    "A = list(map(int, input().split()))\n",
    "# # 입력 예시\n",
    "# N, K = 5, 7\n",
    "# A = [4, 5, 1, 3, 2]\n",
    "\n",
    "count = 0\n",
    "merge_sort(A, 0, len(A) - 1)\n",
    "\n",
    "# 저장 횟수가 K보다 작으면 -1 출력\n",
    "if count < K:\n",
    "    print(-1)"
   ]
  },
  {
   "cell_type": "code",
   "execution_count": null,
   "id": "d983a5d0",
   "metadata": {},
   "outputs": [],
   "source": []
  },
  {
   "cell_type": "code",
   "execution_count": 1,
   "id": "69b62d6e",
   "metadata": {},
   "outputs": [
    {
     "data": {
      "text/plain": [
       "2"
      ]
     },
     "execution_count": 1,
     "metadata": {},
     "output_type": "execute_result"
    }
   ],
   "source": [
    "(0 + 5) // 2"
   ]
  },
  {
   "cell_type": "code",
   "execution_count": null,
   "id": "d61bcd8e",
   "metadata": {},
   "outputs": [],
   "source": []
  }
 ],
 "metadata": {
  "kernelspec": {
   "display_name": "noname",
   "language": "python",
   "name": "python3"
  },
  "language_info": {
   "codemirror_mode": {
    "name": "ipython",
    "version": 3
   },
   "file_extension": ".py",
   "mimetype": "text/x-python",
   "name": "python",
   "nbconvert_exporter": "python",
   "pygments_lexer": "ipython3",
   "version": "3.11.0"
  }
 },
 "nbformat": 4,
 "nbformat_minor": 5
}
