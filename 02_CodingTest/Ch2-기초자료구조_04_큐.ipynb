{
 "cells": [
  {
   "cell_type": "markdown",
   "metadata": {},
   "source": [
    "BOJ #18258. 큐2\n",
    "\n",
    "- https://boj.kr/18258\n"
   ]
  },
  {
   "cell_type": "code",
   "execution_count": 17,
   "metadata": {},
   "outputs": [
    {
     "name": "stdout",
     "output_type": "stream",
     "text": [
      "['push 1', 'push 2', 'front', 'back', 'size', 'empty', 'pop', 'pop', 'pop', 'size', 'empty', 'pop', 'push 3', 'empty', 'front']\n"
     ]
    }
   ],
   "source": [
    "commands_string = \"\"\"15\n",
    "push 1\n",
    "push 2\n",
    "front\n",
    "back\n",
    "size\n",
    "empty\n",
    "pop\n",
    "pop\n",
    "pop\n",
    "size\n",
    "empty\n",
    "pop\n",
    "push 3\n",
    "empty\n",
    "front\"\"\"\n",
    "\n",
    "commands = list(commands_string.split(\"\\n\"))[1:]\n",
    "print(commands)"
   ]
  },
  {
   "cell_type": "code",
   "execution_count": 18,
   "metadata": {},
   "outputs": [
    {
     "name": "stdout",
     "output_type": "stream",
     "text": [
      "1\n",
      "2\n",
      "2\n",
      "0\n",
      "1\n",
      "2\n",
      "-1\n",
      "0\n",
      "1\n",
      "-1\n",
      "0\n",
      "3\n"
     ]
    }
   ],
   "source": [
    "from collections import deque\n",
    "\n",
    "# N = input()\n",
    "\n",
    "# commands = []\n",
    "# for i in range(N):\n",
    "#     commands.append(input())\n",
    "\n",
    "q = deque()\n",
    "for command in commands:\n",
    "    if \" \" in command:\n",
    "        q.append(int(command[-1]))\n",
    "\n",
    "    if command == \"pop\":\n",
    "        if q:\n",
    "            print(q.popleft())\n",
    "        else:\n",
    "            print(\"-1\")\n",
    "    elif command == \"size\":\n",
    "        print(len(q))\n",
    "    elif command == \"empty\":\n",
    "        if q:\n",
    "            print(\"0\")\n",
    "        else:\n",
    "            print(\"1\")\n",
    "    elif command == \"front\":\n",
    "        if q:\n",
    "            print(q[0])\n",
    "        else:\n",
    "            print(\"-1\")\n",
    "    elif command == \"back\":\n",
    "        if q:\n",
    "            print(q[-1])\n",
    "        else:\n",
    "            print(\"-1\")"
   ]
  },
  {
   "cell_type": "code",
   "execution_count": 19,
   "metadata": {},
   "outputs": [
    {
     "ename": "TypeError",
     "evalue": "'str' object cannot be interpreted as an integer",
     "output_type": "error",
     "traceback": [
      "\u001b[0;31m---------------------------------------------------------------------------\u001b[0m",
      "\u001b[0;31mTypeError\u001b[0m                                 Traceback (most recent call last)",
      "Cell \u001b[0;32mIn[19], line 6\u001b[0m\n\u001b[1;32m      3\u001b[0m N \u001b[38;5;241m=\u001b[39m \u001b[38;5;28minput\u001b[39m()\n\u001b[1;32m      5\u001b[0m commands \u001b[38;5;241m=\u001b[39m []\n\u001b[0;32m----> 6\u001b[0m \u001b[38;5;28;01mfor\u001b[39;00m i \u001b[38;5;129;01min\u001b[39;00m \u001b[38;5;28mrange\u001b[39m(N):\n\u001b[1;32m      7\u001b[0m     commands\u001b[38;5;241m.\u001b[39mappend(\u001b[38;5;28minput\u001b[39m())\n\u001b[1;32m      9\u001b[0m q \u001b[38;5;241m=\u001b[39m deque()\n",
      "\u001b[0;31mTypeError\u001b[0m: 'str' object cannot be interpreted as an integer"
     ]
    }
   ],
   "source": [
    "from collections import deque\n",
    "\n",
    "N = input()  # Error: input() 입력 받을 시 주의할 것 - 숫자인지 문자열인지 확인할 것\n",
    "\n",
    "commands = []\n",
    "for i in range(N):\n",
    "    commands.append(input())\n",
    "\n",
    "q = deque()\n",
    "for command in commands:\n",
    "    if \" \" in command:\n",
    "        q.append(int(command[-1]))\n",
    "\n",
    "    if command == \"pop\":\n",
    "        if q:\n",
    "            print(q.popleft())\n",
    "        else:\n",
    "            print(\"-1\")\n",
    "    elif command == \"size\":\n",
    "        print(len(q))\n",
    "    elif command == \"empty\":\n",
    "        if q:\n",
    "            print(\"0\")\n",
    "        else:\n",
    "            print(\"1\")\n",
    "    elif command == \"front\":\n",
    "        if q:\n",
    "            print(q[0])\n",
    "        else:\n",
    "            print(\"-1\")\n",
    "    elif command == \"back\":\n",
    "        if q:\n",
    "            print(q[-1])\n",
    "        else:\n",
    "            print(\"-1\")"
   ]
  },
  {
   "cell_type": "markdown",
   "metadata": {},
   "source": [
    "→ 런타임 에러 (TypeError)\n",
    "\n",
    "- input() 입력 받을 시 주의할 것: 숫자인지 문자열인지 확인\n"
   ]
  },
  {
   "cell_type": "code",
   "execution_count": 20,
   "metadata": {},
   "outputs": [
    {
     "name": "stdout",
     "output_type": "stream",
     "text": [
      "1\n"
     ]
    }
   ],
   "source": [
    "from collections import deque\n",
    "\n",
    "N = int(input())\n",
    "\n",
    "commands = []\n",
    "for i in range(N):\n",
    "    commands.append(input())\n",
    "\n",
    "q = deque()\n",
    "for command in commands:\n",
    "    if \" \" in command:\n",
    "        q.append(command[-1])\n",
    "\n",
    "    if command == \"pop\":\n",
    "        if q:\n",
    "            print(q.popleft())\n",
    "        else:\n",
    "            print(\"-1\")\n",
    "    elif command == \"size\":\n",
    "        print(len(q))\n",
    "    elif command == \"empty\":\n",
    "        if q:\n",
    "            print(\"0\")\n",
    "        else:\n",
    "            print(\"1\")\n",
    "    elif command == \"front\":\n",
    "        if q:\n",
    "            print(q[0])\n",
    "        else:\n",
    "            print(\"-1\")\n",
    "    elif command == \"back\":\n",
    "        if q:\n",
    "            print(q[-1])\n",
    "        else:\n",
    "            print(\"-1\")"
   ]
  },
  {
   "cell_type": "markdown",
   "metadata": {},
   "source": [
    "→ 시간 초과\n",
    "\n",
    "- → for 문과 관계? X\n",
    "- → input() (*느림) vs. sys.stdin.readline() (*빠름)\n",
    "\n",
    "---\n",
    "\n",
    "import sys\n",
    "\n",
    "sys.stdin.readline().split()\n"
   ]
  },
  {
   "cell_type": "code",
   "execution_count": null,
   "metadata": {},
   "outputs": [],
   "source": [
    "import sys\n",
    "from collections import deque\n",
    "\n",
    "N = int(input())\n",
    "\n",
    "q = deque()\n",
    "for _ in range(N):\n",
    "    # command = input()\n",
    "\n",
    "    # 입력받은 command의 형태의 주의할 것\n",
    "    # - sys.stdin.readline()을 통해 입력받을 시, 개행문자(\\n)가 포함되어 있음을 인지할 것!\n",
    "    # - split()을 통해 공백을 제거 및 리스트로 변환됨을 인지할 것!\n",
    "    command = sys.stdin.readline().split()\n",
    "\n",
    "    if command[0] == \"push\":\n",
    "        q.append(command[-1])\n",
    "\n",
    "    elif command[0] == \"pop\":\n",
    "        if len(q) != 0:\n",
    "            print(q.popleft())\n",
    "        else:\n",
    "            print(\"-1\")\n",
    "    elif command[0] == \"size\":\n",
    "        print(len(q))\n",
    "    elif command[0] == \"empty\":\n",
    "        if len(q) != 0:\n",
    "            print(\"0\")\n",
    "        else:\n",
    "            print(\"1\")\n",
    "    elif command[0] == \"front\":\n",
    "        if len(q) != 0:\n",
    "            print(q[0])\n",
    "        else:\n",
    "            print(\"-1\")\n",
    "    elif command[0] == \"back\":\n",
    "        if len(q) != 0:\n",
    "            print(q[-1])\n",
    "        else:\n",
    "            print(\"-1\")"
   ]
  },
  {
   "cell_type": "markdown",
   "metadata": {},
   "source": [
    "sys.stdin은 터미널에서 실행할 수 있는 모듈입니다. sys.stdin은 표준 입력 스트림을 나타내며, 주로 터미널에서 사용자 입력을 읽는 데 사용됩니다. sys.stdin.readline()은 한 줄의 입력을 읽고, 개행 문자(\\n)를 포함한 문자열을 반환합니다.\n",
    "\n",
    "Jupyter Notebook에서는 sys.stdin을 사용하여 입력을 받을 수 없기 때문에, 터미널에서 실행해야 합니다. 터미널에서 실행할 때는 다음과 같은 방식으로 코드를 작성할 수 있습니다:\n"
   ]
  },
  {
   "cell_type": "code",
   "execution_count": null,
   "metadata": {},
   "outputs": [],
   "source": [
    "a = [1, 2, 3]\n",
    "\n",
    "if a:\n",
    "    print(\"Queue is not empty!\")\n",
    "else:\n",
    "    print(\"Queue is empty!\")\n",
    "\n",
    "if len(a) != 0:\n",
    "    print(\"Queue is not empty!\")\n",
    "else:\n",
    "    print(\"Queue is empty!\")"
   ]
  },
  {
   "cell_type": "markdown",
   "metadata": {},
   "source": [
    "BOJ #2164. 카드 2\n",
    "\n",
    "- https://boj.kr/2164\n"
   ]
  },
  {
   "cell_type": "code",
   "execution_count": 22,
   "metadata": {},
   "outputs": [
    {
     "name": "stdout",
     "output_type": "stream",
     "text": [
      "4\n"
     ]
    }
   ],
   "source": [
    "from collections import deque\n",
    "\n",
    "N = int(input())\n",
    "\n",
    "q = deque([i for i in range(1, N + 1)])\n",
    "\n",
    "while q:\n",
    "    if len(q) == 1:\n",
    "        break\n",
    "    q.popleft()\n",
    "    q.append(q.popleft())\n",
    "\n",
    "print(q[0])"
   ]
  },
  {
   "cell_type": "code",
   "execution_count": 25,
   "metadata": {},
   "outputs": [
    {
     "name": "stdout",
     "output_type": "stream",
     "text": [
      "4\n"
     ]
    }
   ],
   "source": [
    "from collections import deque\n",
    "\n",
    "N = int(input())\n",
    "q = deque(list(range(1, N + 1)))\n",
    "\n",
    "drop = True\n",
    "\n",
    "while len(q) > 1:\n",
    "    if drop:\n",
    "        q.popleft()\n",
    "        drop = False\n",
    "    else:\n",
    "        x = q.popleft()\n",
    "        q.append(x)\n",
    "        drop = True\n",
    "\n",
    "print(q[0])"
   ]
  },
  {
   "cell_type": "code",
   "execution_count": null,
   "metadata": {},
   "outputs": [],
   "source": []
  }
 ],
 "metadata": {
  "kernelspec": {
   "display_name": "noname",
   "language": "python",
   "name": "python3"
  },
  "language_info": {
   "codemirror_mode": {
    "name": "ipython",
    "version": 3
   },
   "file_extension": ".py",
   "mimetype": "text/x-python",
   "name": "python",
   "nbconvert_exporter": "python",
   "pygments_lexer": "ipython3",
   "version": "3.11.0"
  }
 },
 "nbformat": 4,
 "nbformat_minor": 2
}
