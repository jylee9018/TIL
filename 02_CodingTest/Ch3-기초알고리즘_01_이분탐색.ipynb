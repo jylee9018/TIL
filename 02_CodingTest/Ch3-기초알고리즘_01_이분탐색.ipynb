{
 "cells": [
  {
   "cell_type": "markdown",
   "metadata": {},
   "source": [
    "BJO #2512. 예산\n",
    "(https://boj.kr/2512)\n"
   ]
  },
  {
   "cell_type": "code",
   "execution_count": null,
   "metadata": {},
   "outputs": [
    {
     "ename": "TypeError",
     "evalue": "int() argument must be a string, a bytes-like object or a real number, not 'list'",
     "output_type": "error",
     "traceback": [
      "\u001b[0;31m---------------------------------------------------------------------------\u001b[0m",
      "\u001b[0;31mTypeError\u001b[0m                                 Traceback (most recent call last)",
      "Cell \u001b[0;32mIn[37], line 2\u001b[0m\n\u001b[1;32m      1\u001b[0m N \u001b[38;5;241m=\u001b[39m \u001b[38;5;28mint\u001b[39m(\u001b[38;5;28minput\u001b[39m())\n\u001b[0;32m----> 2\u001b[0m array \u001b[38;5;241m=\u001b[39m \u001b[38;5;28mlist\u001b[39m(\u001b[38;5;28mint\u001b[39m(\u001b[38;5;28minput\u001b[39m()\u001b[38;5;241m.\u001b[39msplit()))\n\u001b[1;32m      3\u001b[0m M \u001b[38;5;241m=\u001b[39m \u001b[38;5;28mint\u001b[39m(\u001b[38;5;28minput\u001b[39m())\n",
      "\u001b[0;31mTypeError\u001b[0m: int() argument must be a string, a bytes-like object or a real number, not 'list'"
     ]
    }
   ],
   "source": [
    "N = int(input())\n",
    "array = list(map(int, input().split()))\n",
    "M = int(input())"
   ]
  },
  {
   "cell_type": "code",
   "execution_count": 36,
   "metadata": {},
   "outputs": [
    {
     "name": "stdout",
     "output_type": "stream",
     "text": [
      "127\n"
     ]
    }
   ],
   "source": [
    "N = 4\n",
    "array = [120, 110, 140, 150]\n",
    "M = 485\n",
    "\n",
    "# N = 5\n",
    "# array = [70, 80, 30, 40, 100]\n",
    "# M = 450\n",
    "\n",
    "array.sort()\n",
    "\n",
    "total = 0\n",
    "for i in range(len(array)):\n",
    "    total += array[i]\n",
    "\n",
    "if total <= M:\n",
    "    print(array[-1])\n",
    "else:\n",
    "    buget_limitted = M // len(array)\n",
    "    bugets = []\n",
    "    for i in range(len(array)):\n",
    "        if array[i] <= buget_limitted:\n",
    "            M -= array[i]\n",
    "            bugets.append(array[i])\n",
    "        else:\n",
    "            if i != (len(array) - 1):\n",
    "                buget_limitted = M // (len(array) - i)\n",
    "            M -= buget_limitted\n",
    "            bugets.append(buget_limitted)\n",
    "\n",
    "    print(max(bugets))"
   ]
  },
  {
   "cell_type": "markdown",
   "metadata": {},
   "source": [
    "> 이분탐색\n",
    "\n",
    "- 탐색 범위: [0, 150]\n"
   ]
  },
  {
   "cell_type": "code",
   "execution_count": 39,
   "metadata": {},
   "outputs": [
    {
     "name": "stdout",
     "output_type": "stream",
     "text": [
      "127\n"
     ]
    }
   ],
   "source": [
    "N = int(input())\n",
    "jibang = list(map(int, input().split()))\n",
    "budget = int(input())\n",
    "\n",
    "left = 0\n",
    "right = max(jibang)\n",
    "\n",
    "while left <= right:\n",
    "    middle = (left + right) // 2\n",
    "\n",
    "    sum = 0\n",
    "    for i in range(N):\n",
    "        sum += min(middle, jibang[i])\n",
    "\n",
    "    if sum <= budget:\n",
    "        answer = middle\n",
    "        left = middle + 1\n",
    "    else:\n",
    "        right = middle - 1\n",
    "\n",
    "print(answer)"
   ]
  },
  {
   "cell_type": "markdown",
   "metadata": {},
   "source": [
    "BJO #2343. 기타레슨\n",
    "\n",
    "- https://boj.kr/2343\n"
   ]
  },
  {
   "cell_type": "code",
   "execution_count": 1,
   "metadata": {},
   "outputs": [],
   "source": [
    "N, M = map(int, input().split())\n",
    "array = list(map(int, input().split()))"
   ]
  },
  {
   "cell_type": "code",
   "execution_count": 6,
   "metadata": {},
   "outputs": [],
   "source": [
    "N = 9\n",
    "M = 3\n",
    "array = [i for i in range(1, 10)]"
   ]
  },
  {
   "cell_type": "code",
   "execution_count": 10,
   "metadata": {},
   "outputs": [
    {
     "name": "stdout",
     "output_type": "stream",
     "text": [
      "17\n"
     ]
    }
   ],
   "source": [
    "# 탐색 대상: 블루레이 용량\n",
    "# 탐색 범위: [영상 길이의 최대값, 영상 길이의 합]\n",
    "left = max(array)\n",
    "\n",
    "result = 0\n",
    "for i in array:\n",
    "    result += i\n",
    "right = result\n",
    "# right = sum(array)\n",
    "\n",
    "\n",
    "answer = -1\n",
    "while left <= right:\n",
    "    middle = (left + right) // 2\n",
    "\n",
    "    blueray_num = 1\n",
    "    remain = middle\n",
    "\n",
    "    sum = 0\n",
    "    for i in range(N):\n",
    "        if remain < array[i]:\n",
    "            blueray_num += 1\n",
    "            remain = middle\n",
    "\n",
    "        remain -= array[i]\n",
    "\n",
    "    if blueray_num <= M:\n",
    "        answer = middle\n",
    "        right = middle - 1\n",
    "    else:\n",
    "        left = middle + 1\n",
    "\n",
    "print(answer)"
   ]
  }
 ],
 "metadata": {
  "kernelspec": {
   "display_name": "noname",
   "language": "python",
   "name": "python3"
  },
  "language_info": {
   "codemirror_mode": {
    "name": "ipython",
    "version": 3
   },
   "file_extension": ".py",
   "mimetype": "text/x-python",
   "name": "python",
   "nbconvert_exporter": "python",
   "pygments_lexer": "ipython3",
   "version": "3.11.0"
  }
 },
 "nbformat": 4,
 "nbformat_minor": 2
}
