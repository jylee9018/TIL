{
 "cells": [
  {
   "cell_type": "code",
   "execution_count": 9,
   "id": "963f225b",
   "metadata": {},
   "outputs": [
    {
     "name": "stdout",
     "output_type": "stream",
     "text": [
      "[1, 2, 3, 4, 5]\n"
     ]
    }
   ],
   "source": [
    "def solution(array):\n",
    "    array.sort()\n",
    "    \n",
    "    return array\n",
    "\n",
    "array = [1, 5, 3, 2, 4]\n",
    "print(solution(array))"
   ]
  },
  {
   "cell_type": "code",
   "execution_count": 10,
   "id": "ce442e76",
   "metadata": {},
   "outputs": [
    {
     "name": "stdout",
     "output_type": "stream",
     "text": [
      "[1, 2, 3, 4, 5]\n"
     ]
    }
   ],
   "source": [
    "def solution(array):\n",
    "    array_sorted = sorted(array)\n",
    "    \n",
    "    return array_sorted\n",
    "\n",
    "array = [1, 5, 3, 2, 4]\n",
    "print(solution(array))"
   ]
  },
  {
   "cell_type": "code",
   "execution_count": null,
   "id": "a6bb220a",
   "metadata": {},
   "outputs": [],
   "source": [
    "# 버블 정렬"
   ]
  },
  {
   "cell_type": "markdown",
   "id": "07c8e14e",
   "metadata": {},
   "source": [
    "### List.sort() vs. sorted(List)\n",
    "- List.sort(key=len, reverse=True)\n",
    "- array_sorted = sorted(List, key=len, reverse=True)"
   ]
  },
  {
   "cell_type": "code",
   "execution_count": 5,
   "id": "7382ea83",
   "metadata": {},
   "outputs": [
    {
     "name": "stdout",
     "output_type": "stream",
     "text": [
      "[5, 4, 3, 2, 1]\n"
     ]
    }
   ],
   "source": [
    "numbers = [1, 2, 3, 4, 5]\n",
    "\n",
    "numbers.sort(reverse=True)\n",
    "print(numbers)"
   ]
  },
  {
   "cell_type": "code",
   "execution_count": 6,
   "id": "104f7be3",
   "metadata": {},
   "outputs": [
    {
     "name": "stdout",
     "output_type": "stream",
     "text": [
      "[5, 4, 3, 2, 1]\n"
     ]
    }
   ],
   "source": [
    "sorted(numbers)\n",
    "print(numbers)"
   ]
  },
  {
   "cell_type": "code",
   "execution_count": 7,
   "id": "171f5ce2",
   "metadata": {},
   "outputs": [
    {
     "name": "stdout",
     "output_type": "stream",
     "text": [
      "[1, 2, 3, 4, 5]\n"
     ]
    }
   ],
   "source": [
    "numbers_sorted = sorted(numbers)\n",
    "print(numbers_sorted)"
   ]
  },
  {
   "cell_type": "code",
   "execution_count": null,
   "id": "2d84956b",
   "metadata": {},
   "outputs": [],
   "source": []
  }
 ],
 "metadata": {
  "kernelspec": {
   "display_name": "noname",
   "language": "python",
   "name": "python3"
  },
  "language_info": {
   "codemirror_mode": {
    "name": "ipython",
    "version": 3
   },
   "file_extension": ".py",
   "mimetype": "text/x-python",
   "name": "python",
   "nbconvert_exporter": "python",
   "pygments_lexer": "ipython3",
   "version": "3.11.0"
  }
 },
 "nbformat": 4,
 "nbformat_minor": 5
}
