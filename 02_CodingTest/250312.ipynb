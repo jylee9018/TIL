{
 "cells": [
  {
   "cell_type": "markdown",
   "metadata": {},
   "source": [
    "https://www.acmicpc.net/problem/2480"
   ]
  },
  {
   "cell_type": "code",
   "execution_count": 4,
   "metadata": {},
   "outputs": [
    {
     "name": "stdout",
     "output_type": "stream",
     "text": [
      "600\n"
     ]
    }
   ],
   "source": [
    "array = list(map(int, input().split()))\n",
    "# array = [6, 2, 5]\n",
    "a = array[0]\n",
    "b = array[1]\n",
    "c = array[2]\n",
    "\n",
    "if a == b == c:\n",
    "    answer = 10000 + a * 1000\n",
    "elif (a == b) or (a == c):\n",
    "    answer = 1000 + a * 100\n",
    "elif (b == c):\n",
    "    answer = 1000 + b * 100\n",
    "else:\n",
    "    answer = max(array) * 100\n",
    "    \n",
    "print(answer)"
   ]
  },
  {
   "cell_type": "code",
   "execution_count": 6,
   "metadata": {},
   "outputs": [
    {
     "name": "stdout",
     "output_type": "stream",
     "text": [
      "5\n"
     ]
    }
   ],
   "source": [
    "a, b, c, d, e = 1, 2, 3, 4, 5\n",
    "\n",
    "print(max(a, b, c, d, e))"
   ]
  },
  {
   "cell_type": "code",
   "execution_count": 1,
   "metadata": {},
   "outputs": [
    {
     "name": "stdout",
     "output_type": "stream",
     "text": [
      "Case # 1 :  3\n",
      "Case # 2 :  5\n",
      "Case # 3 :  9\n"
     ]
    }
   ],
   "source": [
    "case = int(input())\n",
    "\n",
    "for i in range(1, case + 1):\n",
    "    A, B = map(int, input().split())\n",
    "    print(\"Case #\", i, \": \", A + B)"
   ]
  },
  {
   "cell_type": "code",
   "execution_count": 16,
   "metadata": {},
   "outputs": [
    {
     "name": "stdout",
     "output_type": "stream",
     "text": [
      "3 1 4 2 5 "
     ]
    }
   ],
   "source": [
    "N, M = map(int, input().split())\n",
    "baskets = [i for i in range(N + 1)]\n",
    "\n",
    "for _ in range(M):\n",
    "    i, j = map(int, input().split())\n",
    "    \n",
    "    temp = baskets[j]\n",
    "    baskets[j] = baskets[i]\n",
    "    baskets[i] = temp\n",
    "    \n",
    "for i in range(1, len(baskets)):\n",
    "    print(baskets[i], end=\" \")\n",
    "    "
   ]
  },
  {
   "cell_type": "code",
   "execution_count": null,
   "metadata": {},
   "outputs": [
    {
     "name": "stdout",
     "output_type": "stream",
     "text": [
      "0\n"
     ]
    }
   ],
   "source": [
    "numbers = [0] * 30\n",
    "\n",
    "for _ in range(28):\n",
    "    n = int(input())\n",
    "    numbers[n - 1] = 1\n",
    "\n",
    "count = 1\n",
    "for i in range(30):\n",
    "    if numbers[i] == 0:\n",
    "        print(i + 1)\n",
    "        count += 1\n",
    "        if count == 2:\n",
    "            break"
   ]
  },
  {
   "cell_type": "code",
   "execution_count": 18,
   "metadata": {},
   "outputs": [
    {
     "name": "stdout",
     "output_type": "stream",
     "text": [
      "7\n"
     ]
    }
   ],
   "source": [
    "answers = set()\n",
    "for _ in range(10):\n",
    "    n = int(input())\n",
    "    answers.add(n % 42)\n",
    "\n",
    "print(len(answers))"
   ]
  }
 ],
 "metadata": {
  "kernelspec": {
   "display_name": "noname",
   "language": "python",
   "name": "python3"
  },
  "language_info": {
   "codemirror_mode": {
    "name": "ipython",
    "version": 3
   },
   "file_extension": ".py",
   "mimetype": "text/x-python",
   "name": "python",
   "nbconvert_exporter": "python",
   "pygments_lexer": "ipython3",
   "version": "3.11.0"
  }
 },
 "nbformat": 4,
 "nbformat_minor": 2
}
