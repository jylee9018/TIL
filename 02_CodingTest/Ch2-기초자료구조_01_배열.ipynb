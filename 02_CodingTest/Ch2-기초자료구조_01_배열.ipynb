{
 "cells": [
  {
   "cell_type": "markdown",
   "metadata": {},
   "source": [
    "백준 온라인 저지. 5597번.\n"
   ]
  },
  {
   "cell_type": "code",
   "execution_count": 3,
   "metadata": {},
   "outputs": [],
   "source": [
    "input_list = [\n",
    "    3,\n",
    "    1,\n",
    "    4,\n",
    "    5,\n",
    "    7,\n",
    "    9,\n",
    "    6,\n",
    "    10,\n",
    "    11,\n",
    "    12,\n",
    "    13,\n",
    "    14,\n",
    "    15,\n",
    "    16,\n",
    "    17,\n",
    "    18,\n",
    "    19,\n",
    "    20,\n",
    "    21,\n",
    "    22,\n",
    "    23,\n",
    "    24,\n",
    "    25,\n",
    "    26,\n",
    "    27,\n",
    "    28,\n",
    "    29,\n",
    "    30,\n",
    "]"
   ]
  },
  {
   "cell_type": "code",
   "execution_count": 9,
   "metadata": {},
   "outputs": [
    {
     "name": "stdout",
     "output_type": "stream",
     "text": [
      "2\n",
      "8\n"
     ]
    }
   ],
   "source": [
    "# array = []\n",
    "# for _ in range(28):\n",
    "#     array.append(int(input()))\n",
    "array = input_list\n",
    "\n",
    "result = [0] * 31\n",
    "\n",
    "for i, e in enumerate(array):\n",
    "    result[e] = 1\n",
    "\n",
    "answer = []\n",
    "not_submitted = []\n",
    "for i, e in enumerate(result):\n",
    "    if e == 0:\n",
    "        not_submitted.append(i)\n",
    "\n",
    "not_submitted.sort()\n",
    "\n",
    "# for i, e in enumerate(not_submitted):\n",
    "#     print(e)\n",
    "print(not_submitted[1])\n",
    "print(not_submitted[2])"
   ]
  },
  {
   "cell_type": "markdown",
   "metadata": {},
   "source": [
    "백준 온라인 저지. 3052번.\n"
   ]
  },
  {
   "cell_type": "code",
   "execution_count": 17,
   "metadata": {},
   "outputs": [
    {
     "name": "stdout",
     "output_type": "stream",
     "text": [
      "[42, 84, 252, 420, 840, 126, 42, 84, 420, 126]\n",
      "[0]\n",
      "1\n"
     ]
    }
   ],
   "source": [
    "input_list = [42, 84, 252, 420, 840, 126, 42, 84, 420, 126]\n",
    "\n",
    "\n",
    "array = input_list\n",
    "answer = []\n",
    "print(array)\n",
    "for i in range(10):\n",
    "    # array.append(int(input()))\n",
    "    temp = array[i] % 42\n",
    "    if temp not in answer:\n",
    "        answer.append(temp)\n",
    "\n",
    "print(answer)\n",
    "print(len(answer))"
   ]
  },
  {
   "cell_type": "code",
   "execution_count": null,
   "metadata": {},
   "outputs": [],
   "source": [
    "check = [0] * 42\n",
    "\n",
    "for i in range(10):\n",
    "    n = int(input())\n",
    "    check[n % 42] = 1\n",
    "\n",
    "sum = 0\n",
    "for i in range(42):\n",
    "    sum += check[i]\n",
    "\n",
    "print(sum)"
   ]
  }
 ],
 "metadata": {
  "kernelspec": {
   "display_name": "noname",
   "language": "python",
   "name": "python3"
  },
  "language_info": {
   "codemirror_mode": {
    "name": "ipython",
    "version": 3
   },
   "file_extension": ".py",
   "mimetype": "text/x-python",
   "name": "python",
   "nbconvert_exporter": "python",
   "pygments_lexer": "ipython3",
   "version": "3.11.0"
  }
 },
 "nbformat": 4,
 "nbformat_minor": 2
}
