{
 "cells": [
  {
   "cell_type": "markdown",
   "metadata": {},
   "source": [
    "숫자 1과 2만 사용해서, 덧셈으로 숫자 3을 만드는 모든 조합의 수 구하기.\n",
    "- 순서가 다르면 다른 방법으로 간주합니다."
   ]
  },
  {
   "cell_type": "code",
   "execution_count": 3,
   "metadata": {},
   "outputs": [
    {
     "name": "stdout",
     "output_type": "stream",
     "text": [
      "[1, 1, 1]\n",
      "[1, 2]\n",
      "[2, 1]\n"
     ]
    }
   ],
   "source": [
    "# 두 가지 경우가 있다.\n",
    "# 1) 1을 더한다.\n",
    "# 2) 2를 더한다.\n",
    "\n",
    "def dfs(total, path):\n",
    "    if total == target:\n",
    "        print(path)\n",
    "        return\n",
    "    if total > target:\n",
    "        return\n",
    "    \n",
    "    dfs(total + 1, path + [1])\n",
    "    dfs(total + 2, path + [2])\n",
    "    \n",
    "target = 3\n",
    "dfs(0, [])"
   ]
  },
  {
   "cell_type": "markdown",
   "metadata": {},
   "source": [
    "숫자 1과 2만 사용해서, 덧셈으로 숫자 target을 만드는 모든 조합의 수 구하기.\n",
    "- 순서가 다르면 다른 방법으로 간주합니다."
   ]
  },
  {
   "cell_type": "code",
   "execution_count": 14,
   "metadata": {},
   "outputs": [
    {
     "name": "stdout",
     "output_type": "stream",
     "text": [
      "3\n"
     ]
    }
   ],
   "source": [
    "count = 0\n",
    "def dfs(total):\n",
    "    global count # 전역 변수 명시!\n",
    "    if total == target:\n",
    "        count += 1\n",
    "        return\n",
    "    if total > target:\n",
    "        return\n",
    "    \n",
    "    dfs(total + 1)\n",
    "    dfs(total + 2)\n",
    "\n",
    "target = 3\n",
    "dfs(0)\n",
    "print(count)"
   ]
  },
  {
   "cell_type": "markdown",
   "metadata": {},
   "source": [
    "정수 배열 numbers가 주어지고,\n",
    "각 숫자 앞에 + 또는 -를 붙여서\n",
    "모든 합 중에서 target이 되는 방법의 수를 구하자."
   ]
  },
  {
   "cell_type": "code",
   "execution_count": 1,
   "metadata": {},
   "outputs": [
    {
     "name": "stdout",
     "output_type": "stream",
     "text": [
      "5\n"
     ]
    }
   ],
   "source": [
    "count = 0\n",
    "def dfs(total, index):\n",
    "    global count\n",
    "    if index == len(numbers):\n",
    "        if total == target:\n",
    "            count += 1\n",
    "        \n",
    "        return\n",
    "    \n",
    "    dfs(total + numbers[index], index + 1)\n",
    "    dfs(total - numbers[index], index + 1)\n",
    "\n",
    "numbers = [1, 1, 1, 1, 1]\n",
    "target = 3\n",
    "  \n",
    "dfs(0, 0)\n",
    "print(count)"
   ]
  },
  {
   "cell_type": "code",
   "execution_count": 10,
   "metadata": {},
   "outputs": [
    {
     "name": "stdout",
     "output_type": "stream",
     "text": [
      "3\n"
     ]
    }
   ],
   "source": [
    "dx = [0, 0, -1, 1]\n",
    "dy = [1, -1, 0, 0]\n",
    "\n",
    "def dfs(x, y):\n",
    "    if y < 0 or y >= len(grid) or x < 0 or x >= len(grid[0]):\n",
    "        return\n",
    "    if grid[y][x] == \"0\":\n",
    "        return\n",
    "    \n",
    "    grid[y][x] = \"0\"\n",
    "    \n",
    "    for i in range(4):\n",
    "        nx = x + dx[i]\n",
    "        ny = y + dy[i]\n",
    "        dfs(ny, nx)\n",
    "        \n",
    "grid = [\n",
    "  [\"1\",\"1\",\"0\",\"0\",\"0\"],\n",
    "  [\"1\",\"1\",\"0\",\"0\",\"0\"],\n",
    "  [\"0\",\"0\",\"1\",\"0\",\"0\"],\n",
    "  [\"0\",\"0\",\"0\",\"1\",\"1\"]\n",
    "]\n",
    "\n",
    "count = 0\n",
    "for y in range(len(grid)):\n",
    "    for x in range(len(grid[0])):\n",
    "        if grid[y][x] == \"1\":\n",
    "            dfs(y, x)\n",
    "            count += 1\n",
    "            \n",
    "print(count)"
   ]
  },
  {
   "cell_type": "code",
   "execution_count": null,
   "metadata": {},
   "outputs": [],
   "source": []
  },
  {
   "cell_type": "code",
   "execution_count": 19,
   "metadata": {},
   "outputs": [
    {
     "name": "stdout",
     "output_type": "stream",
     "text": [
      "3\n"
     ]
    }
   ],
   "source": [
    "from collections import deque\n",
    "\n",
    "q = deque()\n",
    "\n",
    "# [상, 하, 좌, 우] 이동\n",
    "dr = [0, 0, -1, 1]\n",
    "dc = [-1, 1, 0, 0]\n",
    "\n",
    "def bfs(row, col, grid):\n",
    "    q.append((row, col))\n",
    "    grid[row][col] = \"0\"  # 방문 처리는 큐에 넣은 후!\n",
    "\n",
    "    while(q):\n",
    "        current_row, current_col = q.popleft()\n",
    "        \n",
    "        # 뱡문 등록\n",
    "        for i in range(4):\n",
    "            new_row = current_row + dr[i]\n",
    "            new_col = current_col + dc[i]\n",
    "            \n",
    "            if 0 <= new_row < len(grid) and 0 <= new_col < len(grid[0]):\n",
    "                if grid[new_row][new_col] == \"1\":\n",
    "                    q.append((new_row, new_col))\n",
    "                    grid[new_row][new_col] = \"0\"  # 방문 처리는 큐에 넣은 후!\n",
    "\n",
    "grid = [\n",
    "    [\"1\",\"1\",\"0\",\"0\",\"0\"],\n",
    "    [\"1\",\"1\",\"0\",\"0\",\"0\"],\n",
    "    [\"0\",\"0\",\"1\",\"0\",\"0\"],\n",
    "    [\"0\",\"0\",\"0\",\"1\",\"1\"]\n",
    "]\n",
    "\n",
    "count = 0\n",
    "for r in range(len(grid)):\n",
    "    for c in range(len(grid[0])):\n",
    "        if grid[r][c] == \"1\":\n",
    "            bfs(r, c, grid)\n",
    "            count += 1\n",
    "\n",
    "print(count)"
   ]
  },
  {
   "cell_type": "code",
   "execution_count": 20,
   "metadata": {},
   "outputs": [
    {
     "name": "stdout",
     "output_type": "stream",
     "text": [
      "3\n"
     ]
    }
   ],
   "source": [
    "from collections import deque\n",
    "\n",
    "# 방향 벡터: 상, 하, 좌, 우\n",
    "DIRECTIONS = [(-1, 0), (1, 0), (0, -1), (0, 1)]\n",
    "\n",
    "def bfs(start_row, start_col, grid):\n",
    "    queue = deque()\n",
    "    queue.append((start_row, start_col))\n",
    "    grid[start_row][start_col] = \"0\"  # 방문 처리\n",
    "\n",
    "    while queue:\n",
    "        row, col = queue.popleft()\n",
    "\n",
    "        for dr, dc in DIRECTIONS:\n",
    "            new_row, new_col = row + dr, col + dc\n",
    "\n",
    "            # 유효 범위 내에서 육지('1')인 경우\n",
    "            if (\n",
    "                0 <= new_row < len(grid) and\n",
    "                0 <= new_col < len(grid[0]) and\n",
    "                grid[new_row][new_col] == \"1\"\n",
    "            ):\n",
    "                queue.append((new_row, new_col))\n",
    "                grid[new_row][new_col] = \"0\"  # 방문 처리\n",
    "\n",
    "def count_islands(grid):\n",
    "    if not grid or not grid[0]:\n",
    "        return 0\n",
    "\n",
    "    island_count = 0\n",
    "    rows, cols = len(grid), len(grid[0])\n",
    "\n",
    "    for row in range(rows):\n",
    "        for col in range(cols):\n",
    "            if grid[row][col] == \"1\":\n",
    "                bfs(row, col, grid)\n",
    "                island_count += 1\n",
    "\n",
    "    return island_count\n",
    "\n",
    "# 테스트용 입력\n",
    "grid = [\n",
    "    [\"1\", \"1\", \"0\", \"0\", \"0\"],\n",
    "    [\"1\", \"1\", \"0\", \"0\", \"0\"],\n",
    "    [\"0\", \"0\", \"1\", \"0\", \"0\"],\n",
    "    [\"0\", \"0\", \"0\", \"1\", \"1\"]\n",
    "]\n",
    "\n",
    "# 결과 출력\n",
    "print(count_islands(grid))  # 출력: 3"
   ]
  },
  {
   "cell_type": "markdown",
   "metadata": {},
   "source": [
    "### 🟡 1단계: 가장 큰 섬의 넓이 구하기\n",
    "문제 이름: Max Area of Island\n",
    "유형: BFS / DFS\n",
    "유사 문제: LeetCode 695\n",
    "\n",
    "❓ 문제 설명\n",
    "2D grid가 주어집니다. 1은 육지, 0은 바다입니다.\n",
    "하나의 섬을 이루는 연결된 1의 개수(넓이)를 구하고,\n",
    "그중 가장 큰 섬의 넓이를 반환하세요.\n",
    "\n",
    "✅ 입력 예시\n",
    "python\n",
    "실행\n",
    "복사\n",
    "grid = [\n",
    "  [0,0,1,0,0],\n",
    "  [0,1,1,1,0],\n",
    "  [0,0,1,0,0],\n",
    "  [1,0,0,0,0]\n",
    "]\n",
    "✅ 출력 예시\n",
    "복사\n",
    "5\n",
    "💡 힌트\n",
    "BFS로 연결된 1을 모두 탐색하면서 카운트 누적\n",
    "최대값 갱신"
   ]
  },
  {
   "cell_type": "code",
   "execution_count": 40,
   "metadata": {},
   "outputs": [
    {
     "name": "stdout",
     "output_type": "stream",
     "text": [
      "5\n"
     ]
    }
   ],
   "source": [
    "from collections import deque\n",
    "\n",
    "grid = [\n",
    "  [0,0,1,0,0],\n",
    "  [0,1,1,1,0],\n",
    "  [0,0,1,0,0],\n",
    "  [1,0,0,0,0]\n",
    "]\n",
    "\n",
    "DIRECTIONS = [(-1, 0), (1, 0), (0, -1), (0, 1)] # 상, 하, 좌, 우\n",
    "\n",
    "def bfs(row, col, grid):\n",
    "    q = deque()\n",
    "    q.append((row, col))\n",
    "    grid[row][col] = 0\n",
    "    size = 1\n",
    "    \n",
    "    while q:\n",
    "        row, col = q.popleft()\n",
    "        \n",
    "        for dr, dc in DIRECTIONS:\n",
    "            new_row, new_col = row + dr, col + dc\n",
    "            \n",
    "            if 0 <= new_row < len(grid) and 0 <= new_col < len(grid[0]):\n",
    "                if grid[new_row][new_col] == 1:\n",
    "                    q.append((new_row, new_col))\n",
    "                    grid[new_row][new_col] = 0\n",
    "                    size += 1\n",
    "    \n",
    "    return size\n",
    "\n",
    "max_size = 0                    \n",
    "for r in range(len(grid)):\n",
    "    for c in range(len(grid[0])):\n",
    "        if grid[r][c] == 1:\n",
    "            current_size = bfs(r, c, grid)\n",
    "            if max_size < current_size:\n",
    "                max_size = current_size\n",
    "\n",
    "print(max_size)"
   ]
  }
 ],
 "metadata": {
  "kernelspec": {
   "display_name": "noname",
   "language": "python",
   "name": "python3"
  },
  "language_info": {
   "codemirror_mode": {
    "name": "ipython",
    "version": 3
   },
   "file_extension": ".py",
   "mimetype": "text/x-python",
   "name": "python",
   "nbconvert_exporter": "python",
   "pygments_lexer": "ipython3",
   "version": "3.11.0"
  }
 },
 "nbformat": 4,
 "nbformat_minor": 2
}
