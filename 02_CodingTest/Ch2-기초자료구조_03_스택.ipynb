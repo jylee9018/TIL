{
 "cells": [
  {
   "cell_type": "markdown",
   "metadata": {},
   "source": [
    "- 백준 온라인 저지 #10773 제로\n",
    "  - https://boj.kr/10773\n"
   ]
  },
  {
   "cell_type": "code",
   "execution_count": null,
   "metadata": {},
   "outputs": [],
   "source": [
    "k = int(input())\n",
    "\n",
    "stack = []\n",
    "for _ in range(k):\n",
    "    n = int(input())\n",
    "    if n == 0:\n",
    "        stack.pop()\n",
    "        # stack.pop(-1), stack.pop(index)\n",
    "    else:\n",
    "        stack.append(n)\n",
    "\n",
    "print(sum(stack))"
   ]
  },
  {
   "cell_type": "code",
   "execution_count": null,
   "metadata": {},
   "outputs": [],
   "source": [
    "a = [1, 2, 3]\n",
    "print(a)\n",
    "print(sum(a))\n",
    "\n",
    "a.pop(0)\n",
    "print(a)"
   ]
  },
  {
   "cell_type": "code",
   "execution_count": null,
   "metadata": {},
   "outputs": [],
   "source": [
    "a = int(input())\n",
    "\n",
    "print(a, type(3))"
   ]
  },
  {
   "cell_type": "code",
   "execution_count": null,
   "metadata": {},
   "outputs": [],
   "source": [
    "# map 객체 반환 → list(map(int, input())\n",
    "b = map(int, input())\n",
    "c = list(map(int, input()))\n",
    "\n",
    "\n",
    "print(b, type(b))\n",
    "print(c, type(c))"
   ]
  },
  {
   "cell_type": "code",
   "execution_count": null,
   "metadata": {},
   "outputs": [],
   "source": [
    "d = list(map(int, input().split()))\n",
    "\n",
    "print(d, type(d))"
   ]
  },
  {
   "cell_type": "markdown",
   "metadata": {},
   "source": [
    "- 백준 온라인 저지 #4949 균형잡힌 세상\n",
    "  - https://boj.kr/4949\n"
   ]
  },
  {
   "cell_type": "code",
   "execution_count": null,
   "metadata": {},
   "outputs": [],
   "source": [
    "stack = []\n",
    "result = []\n",
    "while True:\n",
    "    s = input()\n",
    "    if s == \".\":\n",
    "        break\n",
    "\n",
    "    for c in s:\n",
    "        if c == \"(\" or c == \"]\":\n",
    "            stack.append(c)\n",
    "        elif c == \")\":\n",
    "            if stack:\n",
    "                if stack[-1] == \"(\":\n",
    "                    stack.pop(-1)\n",
    "        elif c == \"]\":\n",
    "            if stack:\n",
    "                if stack[-1] == \"[\":\n",
    "                    stack.pop(-1)\n",
    "\n",
    "if stack:\n",
    "    result.append(\"no\")\n",
    "else:\n",
    "    result.append(\"yes\")\n",
    "\n",
    "for r in result:\n",
    "    print(r)"
   ]
  },
  {
   "cell_type": "code",
   "execution_count": 21,
   "metadata": {},
   "outputs": [],
   "source": [
    "user_input = \"\"\"So when I die (the [first] I will see in (heaven) is a score list).\n",
    "[ first in ] ( first out ).\n",
    "Half Moon tonight (At least it is better than no Moon at all].\n",
    "A rope may form )( a trail in a maze.\n",
    "Help( I[m being held prisoner in a fortune cookie factory)].\n",
    "([ (([( [ ] ) ( ) (( ))] )) ]).\n",
    " .\n",
    ".\n",
    "\"\"\""
   ]
  },
  {
   "cell_type": "code",
   "execution_count": 24,
   "metadata": {},
   "outputs": [
    {
     "name": "stdout",
     "output_type": "stream",
     "text": [
      "['So when I die (the [first] I will see in (heaven) is a score list).', '[ first in ] ( first out ).', 'Half Moon tonight (At least it is better than no Moon at all].', 'A rope may form )( a trail in a maze.', 'Help( I[m being held prisoner in a fortune cookie factory)].', '([ (([( [ ] ) ( ) (( ))] )) ]).', ' .', '.', '']\n",
      "yes\n",
      "yes\n",
      "no\n",
      "no\n",
      "no\n",
      "no\n",
      "yes\n",
      "yes\n"
     ]
    }
   ],
   "source": [
    "s_list = list(user_input.split(\"\\n\"))\n",
    "print(s_list)\n",
    "\n",
    "result = []\n",
    "for s in s_list:\n",
    "    if s == \".\":\n",
    "        break\n",
    "\n",
    "    stack = []\n",
    "    for c in s:\n",
    "        if c == \"(\" or c == \"[\":\n",
    "            stack.append(c)\n",
    "        elif c == \")\":\n",
    "            if stack:\n",
    "                if stack[-1] == \"(\":\n",
    "                    stack.pop(-1)\n",
    "            else:\n",
    "                result.append(\"no\")\n",
    "        elif c == \"]\":\n",
    "            if stack:\n",
    "                if stack[-1] == \"[\":\n",
    "                    stack.pop(-1)\n",
    "            else:\n",
    "                result.append(\"no\")\n",
    "\n",
    "    if stack:\n",
    "        result.append(\"no\")\n",
    "    else:\n",
    "        result.append(\"yes\")\n",
    "\n",
    "for r in result:\n",
    "    print(r)"
   ]
  },
  {
   "cell_type": "code",
   "execution_count": null,
   "metadata": {},
   "outputs": [],
   "source": [
    "result = []\n",
    "while True:\n",
    "    s = input()\n",
    "    if s == \".\":\n",
    "        break\n",
    "\n",
    "    stack = []\n",
    "    for c in s:\n",
    "        if c == \"(\" or c == \"[\":\n",
    "            stack.append(c)\n",
    "        elif c == \")\":\n",
    "            if stack:\n",
    "                if stack[-1] == \"(\":\n",
    "                    stack.pop(-1)\n",
    "                else:\n",
    "                    stack.append(\"no\")\n",
    "            else:\n",
    "                stack.append(\"no\")\n",
    "        elif c == \"]\":\n",
    "            if stack:\n",
    "                if stack[-1] == \"[\":\n",
    "                    stack.pop(-1)\n",
    "                else:\n",
    "                    stack.append(\"no\")\n",
    "            else:\n",
    "                stack.append(\"no\")\n",
    "\n",
    "    if stack:\n",
    "        result.append(\"no\")\n",
    "    else:\n",
    "        result.append(\"yes\")\n",
    "\n",
    "for r in result:\n",
    "    print(r)"
   ]
  },
  {
   "cell_type": "markdown",
   "metadata": {},
   "source": [
    "> 풀이\n"
   ]
  },
  {
   "cell_type": "code",
   "execution_count": null,
   "metadata": {},
   "outputs": [
    {
     "name": "stdout",
     "output_type": "stream",
     "text": [
      "no\n",
      "yes\n",
      "yes\n",
      "no\n"
     ]
    }
   ],
   "source": [
    "while True:\n",
    "    s = input()\n",
    "    if s == \".\":\n",
    "        break\n",
    "\n",
    "    stack = []\n",
    "    balanced = True\n",
    "\n",
    "    for i in range(len(s)):\n",
    "        if s[i] == \"(\" or s[i] == \"[\":\n",
    "            stack.append(s[i])\n",
    "\n",
    "        if s[i] == \")\":\n",
    "            if len(stack) == 0:\n",
    "                balanced = False\n",
    "                break\n",
    "\n",
    "            last = stack.pop(-1)\n",
    "            if last != \"(\":\n",
    "                balanced = False\n",
    "                break\n",
    "\n",
    "        if s[i] == \"]\":\n",
    "            if len(stack) == 0:\n",
    "                balanced = False\n",
    "                break\n",
    "\n",
    "            last = stack.pop(-1)\n",
    "            if last != \"[\":\n",
    "                balanced = False\n",
    "                break\n",
    "\n",
    "    if len(stack) != 0:\n",
    "        balanced = False\n",
    "\n",
    "    if balanced:\n",
    "        print(\"yes\")\n",
    "    else:\n",
    "        print(\"no\")"
   ]
  },
  {
   "cell_type": "code",
   "execution_count": null,
   "metadata": {},
   "outputs": [],
   "source": []
  }
 ],
 "metadata": {
  "kernelspec": {
   "display_name": "noname",
   "language": "python",
   "name": "python3"
  },
  "language_info": {
   "codemirror_mode": {
    "name": "ipython",
    "version": 3
   },
   "file_extension": ".py",
   "mimetype": "text/x-python",
   "name": "python",
   "nbconvert_exporter": "python",
   "pygments_lexer": "ipython3",
   "version": "3.11.0"
  }
 },
 "nbformat": 4,
 "nbformat_minor": 2
}
