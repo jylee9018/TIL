{
 "cells": [
  {
   "cell_type": "markdown",
   "metadata": {},
   "source": []
  },
  {
   "cell_type": "code",
   "execution_count": null,
   "metadata": {},
   "outputs": [
    {
     "name": "stdout",
     "output_type": "stream",
     "text": [
      "32\n"
     ]
    }
   ],
   "source": [
    "from itertools import permutations\n",
    "\n",
    "def solution(N, T):\n",
    "    orders = list(permutations(T, N))\n",
    "    \n",
    "    answers = []\n",
    "    for order in orders:\n",
    "        tmp, total = 0, 0\n",
    "        for i in range(N):\n",
    "            tmp += order[i]\n",
    "            total += tmp\n",
    "        answers.append(total)\n",
    "    \n",
    "    answer = min(answers)\n",
    "    \n",
    "    return answer\n",
    "            \n",
    "\n",
    "N = int(input())\n",
    "T = list(map(int, input().split()))\n",
    "print(solution(N, T))"
   ]
  },
  {
   "cell_type": "code",
   "execution_count": 16,
   "metadata": {},
   "outputs": [
    {
     "name": "stdout",
     "output_type": "stream",
     "text": [
      "54321\n"
     ]
    }
   ],
   "source": [
    "def reverse_number_stack(n):\n",
    "    n = list(str(n))\n",
    "    answer = \"\"\n",
    "    for i in range(len(n)):\n",
    "        answer += n.pop()\n",
    "    \n",
    "    return answer\n",
    "\n",
    "print(reverse_number_stack(12345))  # → 54321"
   ]
  },
  {
   "cell_type": "code",
   "execution_count": 17,
   "metadata": {},
   "outputs": [
    {
     "name": "stdout",
     "output_type": "stream",
     "text": [
      "1\n",
      "2\n",
      "3\n",
      "4\n",
      "5\n"
     ]
    }
   ],
   "source": [
    "from collections import deque\n",
    "\n",
    "def process_queue(people):\n",
    "    q = deque(people)\n",
    "    while q:\n",
    "        print(q.popleft())\n",
    "    \n",
    "\n",
    "process_queue([1, 2, 3, 4, 5])"
   ]
  },
  {
   "cell_type": "code",
   "execution_count": null,
   "metadata": {},
   "outputs": [],
   "source": [
    "from collections import deque\n",
    "\n",
    "def printer_queue(priorities, location):\n",
    "    queue = deque([(i, p) for i, p in enumerate(priorities)])  # (문서번호, 중요도)\n",
    "    order = 0  # 인쇄 순서\n",
    "\n",
    "    while queue:\n",
    "        current = queue.popleft()\n",
    "        # 여기에 핵심 로직 작성\n",
    "\n",
    "    return order\n",
    "\n",
    "print(printer_queue([2, 1, 3, 2], 2))  # 출력: 1\n",
    "print(printer_queue([1, 1, 9, 1, 1, 1], 0))  # 출력: 5"
   ]
  }
 ],
 "metadata": {
  "kernelspec": {
   "display_name": "noname",
   "language": "python",
   "name": "python3"
  },
  "language_info": {
   "codemirror_mode": {
    "name": "ipython",
    "version": 3
   },
   "file_extension": ".py",
   "mimetype": "text/x-python",
   "name": "python",
   "nbconvert_exporter": "python",
   "pygments_lexer": "ipython3",
   "version": "3.11.0"
  }
 },
 "nbformat": 4,
 "nbformat_minor": 2
}
