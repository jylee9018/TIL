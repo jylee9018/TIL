{
 "cells": [
  {
   "cell_type": "code",
   "execution_count": 3,
   "id": "4f124cab",
   "metadata": {},
   "outputs": [
    {
     "name": "stdout",
     "output_type": "stream",
     "text": [
      "12008760\n"
     ]
    }
   ],
   "source": [
    "import itertools\n",
    "numbers = [i for i in range(1, 230 + 1)]\n",
    "\n",
    "answer = list(itertools.permutations(numbers, 3))\n",
    "\n",
    "# print(answer)\n",
    "print(len(answer))"
   ]
  },
  {
   "cell_type": "markdown",
   "id": "88da23d1",
   "metadata": {},
   "source": []
  },
  {
   "cell_type": "code",
   "execution_count": 4,
   "id": "8d85b3b9",
   "metadata": {},
   "outputs": [
    {
     "name": "stdout",
     "output_type": "stream",
     "text": [
      "12008760\n"
     ]
    }
   ],
   "source": [
    "print(230 * 229 * 228)"
   ]
  },
  {
   "cell_type": "code",
   "execution_count": 6,
   "id": "26b3517c",
   "metadata": {},
   "outputs": [
    {
     "ename": "SyntaxError",
     "evalue": "unterminated string literal (detected at line 1) (1552911940.py, line 1)",
     "output_type": "error",
     "traceback": [
      "\u001b[0;36m  Cell \u001b[0;32mIn[6], line 1\u001b[0;36m\u001b[0m\n\u001b[0;31m    print(r'Hello'World')\u001b[0m\n\u001b[0m                       ^\u001b[0m\n\u001b[0;31mSyntaxError\u001b[0m\u001b[0;31m:\u001b[0m unterminated string literal (detected at line 1)\n"
     ]
    }
   ],
   "source": [
    "print(r'Hello'World')"
   ]
  },
  {
   "cell_type": "code",
   "execution_count": null,
   "id": "33eb2816",
   "metadata": {},
   "outputs": [
    {
     "name": "stdout",
     "output_type": "stream",
     "text": [
      "[0]\n",
      "[2, 1]\n",
      "[3, 4, 5]\n",
      "[0, 2, 1]\n",
      "[4, 3]\n",
      "[5]\n",
      "[0]\n",
      "[3, 4, 1, 2]\n",
      "[5]\n",
      "[0, 3]\n",
      "[4]\n",
      "[1, 2, 5]\n",
      "3 4 1 2 5 "
     ]
    }
   ],
   "source": [
    "from collections import deque\n",
    "    \n",
    "# def reverse_numbers(i, j, numbers):\n",
    "#     numbers_f = []\n",
    "#     numbers_b = []\n",
    "#     numbers_m = []\n",
    "#     flag = False\n",
    "#     for index in range(len(numbers)):\n",
    "#         if index < i:\n",
    "#             numbers_f.append(numbers[index])\n",
    "#         if index > j:\n",
    "#             numbers_b.append(numbers[index])\n",
    "#         if (i <= index <= j) and (flag == False):\n",
    "#             flag = True\n",
    "#             for k in range(i, j + 1):\n",
    "#                 numbers_m.append(numbers[k])\n",
    "#             numbers_m.reverse()\n",
    "#     return numbers_f + numbers_m + numbers_b\n",
    "        \n",
    "        \n",
    "# N, M = map(int, input().split())\n",
    "# numbers = [i for i in range(N + 1)]\n",
    "\n",
    "# for _ in range(M):\n",
    "#     i, j = map(int, input().split())\n",
    "#     numbers = reverse_numbers(i, j, numbers)\n",
    "\n",
    "# for index in range(1, len(numbers)):\n",
    "#     print(numbers[index], end=\" \")"
   ]
  },
  {
   "cell_type": "code",
   "execution_count": 18,
   "id": "ff5d9500",
   "metadata": {},
   "outputs": [
    {
     "name": "stdout",
     "output_type": "stream",
     "text": [
      "[5, 4, 3, 2, 1]\n",
      "None\n"
     ]
    }
   ],
   "source": [
    "numbers = [i for i in range(1, 5 + 1)]\n",
    "numbers_reversed = numbers.reverse()\n",
    "\n",
    "print(numbers)\n",
    "print(numbers_reversed)"
   ]
  },
  {
   "cell_type": "code",
   "execution_count": null,
   "id": "61cc6683",
   "metadata": {},
   "outputs": [
    {
     "name": "stdout",
     "output_type": "stream",
     "text": [
      "75.0\n"
     ]
    }
   ],
   "source": [
    "N = int(input())\n",
    "numbers = list(map(int, input().split()))\n",
    "    \n",
    "M = max(numbers)\n",
    "\n",
    "numbers_manuplated = []\n",
    "for i in range(len(numbers)):\n",
    "    numbers_manuplated.append(numbers[i] / M * 100)\n",
    "\n",
    "# 파이썬에서는 평균을 구하는 내장 함수가 없다!\n",
    "average = sum(numbers_manuplated) / len(numbers)\n",
    "\n",
    "# import statistics\n",
    "# average = statistics.mean(numbers_manuplated)\n",
    "\n",
    "# import numpy as np\n",
    "# average = np.mean(numbers)\n",
    "print(answer)"
   ]
  },
  {
   "cell_type": "code",
   "execution_count": 18,
   "id": "2a3bd4f4",
   "metadata": {},
   "outputs": [
    {
     "ename": "NameError",
     "evalue": "name 'avg' is not defined",
     "output_type": "error",
     "traceback": [
      "\u001b[0;31m---------------------------------------------------------------------------\u001b[0m",
      "\u001b[0;31mNameError\u001b[0m                                 Traceback (most recent call last)",
      "Cell \u001b[0;32mIn[18], line 1\u001b[0m\n\u001b[0;32m----> 1\u001b[0m avg([\u001b[38;5;241m1\u001b[39m, \u001b[38;5;241m2\u001b[39m, \u001b[38;5;241m3\u001b[39m])\n",
      "\u001b[0;31mNameError\u001b[0m: name 'avg' is not defined"
     ]
    }
   ],
   "source": [
    "avg([1, 2, 3])"
   ]
  },
  {
   "cell_type": "code",
   "execution_count": null,
   "id": "aef9607e",
   "metadata": {},
   "outputs": [
    {
     "name": "stdout",
     "output_type": "stream",
     "text": [
      "    *\n",
      "   ***\n",
      "  *****\n",
      " *******\n",
      "*********\n",
      " *******\n",
      "  *****\n",
      "   ***\n",
      "    *\n"
     ]
    }
   ],
   "source": [
    "# N = int(input())\n",
    "\n",
    "# numbers_f = []\n",
    "# numbers_b = []\n",
    "# for i in range(1, N + 1):\n",
    "#     numbers_f.append(2 * i - 1)\n",
    "# for i in range(N - 1, 0, -1):\n",
    "#     numbers_b.append(2 * i - 1)\n",
    "\n",
    "# space = N - 1\n",
    "# for number in numbers_f:\n",
    "#     print(\" \" * (space) + \"*\" * number)\n",
    "#     space = space - 1\n",
    "\n",
    "# space = 1\n",
    "# for number in numbers_b:\n",
    "#     print(\" \" * (space) + \"*\" * number)\n",
    "#     space = space + 1"
   ]
  },
  {
   "cell_type": "code",
   "execution_count": 33,
   "id": "216113f1",
   "metadata": {},
   "outputs": [
    {
     "name": "stdout",
     "output_type": "stream",
     "text": [
      "    *\n",
      "   ***\n",
      "  *****\n",
      " *******\n",
      "*********\n",
      " *******\n",
      "  *****\n",
      "   ***\n",
      "    *\n"
     ]
    }
   ],
   "source": [
    "N = int(input())\n",
    "\n",
    "# 위쪽 삼각형\n",
    "for i in range(1, N + 1):\n",
    "    print(\" \" * (N - i) + \"*\" * (2 * i - 1))\n",
    "\n",
    "# 아래쪽 삼각형\n",
    "for i in range(N - 1, 0, -1):\n",
    "    print(\" \" * (N - i) + \"*\" * (2 * i - 1))"
   ]
  },
  {
   "cell_type": "code",
   "execution_count": null,
   "id": "3b5f124f",
   "metadata": {},
   "outputs": [
    {
     "name": "stdout",
     "output_type": "stream",
     "text": [
      "1\n"
     ]
    }
   ],
   "source": [
    "# word = input()\n",
    "    \n",
    "# def check_word(word):\n",
    "#     for i in range(len(word) // 2):\n",
    "#         if word[i] != word[len(word) - 1 - i]:\n",
    "#             return False\n",
    "#     return True\n",
    "\n",
    "# # if not check_word(word):\n",
    "# #     print(0)\n",
    "# # else:\n",
    "# #     print(1)\n",
    "# print(1 if check_word(word) else 0)"
   ]
  },
  {
   "cell_type": "code",
   "execution_count": 47,
   "id": "1ca10d58",
   "metadata": {},
   "outputs": [
    {
     "name": "stdout",
     "output_type": "stream",
     "text": [
      "1\n"
     ]
    }
   ],
   "source": [
    "word = input()\n",
    "\n",
    "print(1 if word[::] == word[::-1] else 0)"
   ]
  },
  {
   "cell_type": "code",
   "execution_count": null,
   "id": "a1a5a034",
   "metadata": {},
   "outputs": [],
   "source": [
    "word = input()\n",
    "\n",
    "def check_word(word):\n",
    "    for i in range(len(word) // 2):\n",
    "        if word[i] != word[len(word) - i - 1]:\n",
    "            return False\n",
    "    return True\n",
    "\n",
    "print(1 if check_word(word) else 0)"
   ]
  },
  {
   "cell_type": "code",
   "execution_count": null,
   "id": "f872eee3",
   "metadata": {},
   "outputs": [
    {
     "name": "stdout",
     "output_type": "stream",
     "text": [
      "?\n"
     ]
    }
   ],
   "source": [
    "# word = input().upper()\n",
    "\n",
    "# word_count = dict()\n",
    "# for i in range(len(word)):\n",
    "#     if word[i] not in word_count:\n",
    "#         word_count[word[i]] = 0\n",
    "#     word_count[word[i]] += 1\n",
    "\n",
    "# answer = []\n",
    "# max_count_value = max(word_count.values())\n",
    "# for c in word_count.keys():\n",
    "#     if word_count[c] == max_count_value:\n",
    "#         answer.append(c)\n",
    "\n",
    "# if len(answer) > 1:\n",
    "#     print(\"?\")\n",
    "# else:\n",
    "#     print(answer[0])"
   ]
  },
  {
   "cell_type": "code",
   "execution_count": null,
   "id": "77b85774",
   "metadata": {},
   "outputs": [
    {
     "name": "stdout",
     "output_type": "stream",
     "text": [
      "B\n"
     ]
    }
   ],
   "source": [
    "# dict.get()을 활용하여 보다 간단히 카운트가 가능하다.\n",
    "word = input().upper()\n",
    "word_count = {}\n",
    "\n",
    "for c in word:\n",
    "    word_count[c] = word_count.get(c, 0) + 1\n",
    "\n",
    "max_count = max(word_count.values())\n",
    "common = [k for k, v in word_count.items() if v == max_count]\n",
    "\n",
    "print(\"?\" if len(common) > 1 else common[0])"
   ]
  },
  {
   "cell_type": "code",
   "execution_count": null,
   "id": "394d3488",
   "metadata": {},
   "outputs": [
    {
     "name": "stdout",
     "output_type": "stream",
     "text": [
      "[('W', 3), ('D', 1)]\n",
      "W\n"
     ]
    }
   ],
   "source": [
    "from collections import Counter\n",
    "\n",
    "word = input().upper()\n",
    "\n",
    "count = Counter(word)\n",
    "most_common = count.most_common()\n",
    "\n",
    "if len(most_common) > 1 and most_common[0][1] == most_common[1][1]:\n",
    "    print(\"?\")\n",
    "else:\n",
    "    print(most_common[0][0])"
   ]
  },
  {
   "cell_type": "code",
   "execution_count": null,
   "id": "f9d130b1",
   "metadata": {},
   "outputs": [
    {
     "name": "stdout",
     "output_type": "stream",
     "text": [
      "3\n"
     ]
    }
   ],
   "source": [
    "# word = input()\n",
    "word = \"dz=ak\"\n",
    "\n",
    "idx, cnt = 0, 0\n",
    "while idx < len(word):\n",
    "    if (word[idx] == \"c\") or (word[idx] == \"d\") or (word[idx] == \"l\") or ((word[idx] == \"j\")) or (word[idx] == \"s\") or (word[idx] == \"z\"):\n",
    "        if (word[idx + 1] == \"=\") or (word[idx + 1] == \"-\") or (word[idx + 1] == \"j\"):\n",
    "            idx_step = 2\n",
    "            cnt_step = 1  \n",
    "        elif (word[idx + 1] == \"z\") and (word[idx + 2] == \"=\"):\n",
    "            idx_step = 3\n",
    "            cnt_step = 1   \n",
    "        else:\n",
    "            idx_step = 1\n",
    "            cnt_step = 1\n",
    "    else:\n",
    "        idx_step = 1\n",
    "        cnt_step = 1\n",
    "    idx += idx_step\n",
    "    cnt += cnt_step\n",
    "print(cnt)"
   ]
  },
  {
   "cell_type": "code",
   "execution_count": null,
   "id": "7a07477d",
   "metadata": {},
   "outputs": [],
   "source": [
    "word = input()\n",
    "\n",
    "idx, cnt = 0, 0\n",
    "while idx < len(word):\n",
    "    if word[idx] in [\"c\", \"d\", \"l\", \"n\", \"s\", \"z\"]:\n",
    "        # Index Error 주의!\n",
    "        # 먼저 dz= (3글자) 확인\n",
    "        # : \"dz=\"는 \"d\" + \"z=\"로 분리되면 안됨\n",
    "        if idx + 2 < len(word) and word[idx] == \"d\" and word[idx + 1] == \"z\" and word[idx + 2] == \"=\":\n",
    "            idx_step = 3\n",
    "        # 이후 c=, c-, d-, lj, nj, s=, z=, dj (2글자) 확인\n",
    "        elif idx + 1 < len(word) and word[idx + 1] in [\"=\", \"-\", \"j\"]:\n",
    "            idx_step = 2\n",
    "        else:\n",
    "            idx_step = 1\n",
    "    else:\n",
    "        idx_step = 1\n",
    "    idx += idx_step\n",
    "    cnt += 1\n",
    "\n",
    "print(cnt)"
   ]
  },
  {
   "cell_type": "code",
   "execution_count": 105,
   "id": "62134e03",
   "metadata": {},
   "outputs": [
    {
     "ename": "TypeError",
     "evalue": "must be str or None, not list",
     "output_type": "error",
     "traceback": [
      "\u001b[0;31m---------------------------------------------------------------------------\u001b[0m",
      "\u001b[0;31mTypeError\u001b[0m                                 Traceback (most recent call last)",
      "Cell \u001b[0;32mIn[105], line 1\u001b[0m\n\u001b[0;32m----> 1\u001b[0m word\u001b[38;5;241m.\u001b[39msplit(alphabets)\n",
      "\u001b[0;31mTypeError\u001b[0m: must be str or None, not list"
     ]
    }
   ],
   "source": [
    "word.split(alphabets)"
   ]
  },
  {
   "cell_type": "code",
   "execution_count": null,
   "id": "be08ddfa",
   "metadata": {},
   "outputs": [
    {
     "name": "stdout",
     "output_type": "stream",
     "text": [
      "6\n"
     ]
    }
   ],
   "source": [
    "word = input()\n",
    "\n",
    "idx, cnt = 0, 0\n",
    "while idx < len(word):\n",
    "    # 문자열 슬라이싱 이용\n",
    "    if word[idx:(idx+1)+1] in [\"c=\", \"c-\", \"d-\", \"lj\", \"nj\", \"s=\", \"z=\"]:\n",
    "        idx_step = 2\n",
    "        cnt += 1\n",
    "    elif word[idx:(idx+2)+1] in [\"dz=\"]:\n",
    "        idx_step = 3\n",
    "        cnt += 1\n",
    "    else:\n",
    "        idx_step = 1\n",
    "        cnt += 1\n",
    "    idx += idx_step\n",
    "\n",
    "print(cnt)"
   ]
  },
  {
   "cell_type": "code",
   "execution_count": 19,
   "id": "eb84ef61",
   "metadata": {},
   "outputs": [
    {
     "name": "stdout",
     "output_type": "stream",
     "text": [
      "6\n"
     ]
    }
   ],
   "source": [
    "word = input()\n",
    "    \n",
    "# replace() 이용\n",
    "alphabets = [\"c=\", \"c-\", \"d-\", \"lj\", \"nj\", \"s=\", \"z=\", \"dz=\"]\n",
    "\n",
    "for i in range(len(alphabets)):\n",
    "    if alphabets[i] in word:\n",
    "        word = word.replace(alphabets[i], \"*\")\n",
    "\n",
    "print(len(word))"
   ]
  },
  {
   "cell_type": "code",
   "execution_count": null,
   "id": "723fcc71",
   "metadata": {},
   "outputs": [
    {
     "name": "stdout",
     "output_type": "stream",
     "text": [
      "lje*njak\n",
      "ljes=njak\n"
     ]
    },
    {
     "data": {
      "text/plain": [
       "'ljes=njak'"
      ]
     },
     "execution_count": 18,
     "metadata": {},
     "output_type": "execute_result"
    }
   ],
   "source": [
    "word = input()\n",
    "\n",
    "# replace() 사용: 치환 후 길이 계산\n",
    "for c in [\"c=\", \"c-\", \"dz=\", \"d-\", \"lj\", \"nj\", \"s=\", \"z=\"]:\n",
    "    word = word.replace(c, \"*\")\n",
    "\n",
    "print(len(word))"
   ]
  },
  {
   "cell_type": "code",
   "execution_count": null,
   "id": "6b72b17b",
   "metadata": {},
   "outputs": [
    {
     "name": "stdout",
     "output_type": "stream",
     "text": [
      "1\n"
     ]
    }
   ],
   "source": [
    "# # 오류!\n",
    "# # 반례) aabaa\n",
    "\n",
    "# def count_word(word):\n",
    "#     counts = {}\n",
    "#     for i in range(len(word)):\n",
    "#         if word[i] not in counts.keys():\n",
    "#             counts[word[i]] = 1\n",
    "#         else:    \n",
    "#             if (0 <= i + 1 < len(word)) and (word[i] == word[i + 1]):\n",
    "#                 counts[word[i]] += 1\n",
    "#             elif (0 <= i - 1 < len(word)) and (word[i - 1] == word[i]):\n",
    "#                 counts[word[i]] += 1\n",
    "#             else:\n",
    "#                 return False\n",
    "#     return True\n",
    "\n",
    "\n",
    "# N = int(input())\n",
    "\n",
    "# count = 0\n",
    "# for _ in range(N):\n",
    "#     word = input()\n",
    "#     if count_word(word) == True:\n",
    "#         count += 1\n",
    "\n",
    "# print(count)"
   ]
  },
  {
   "cell_type": "code",
   "execution_count": null,
   "id": "1728d178",
   "metadata": {},
   "outputs": [],
   "source": []
  },
  {
   "cell_type": "code",
   "execution_count": 35,
   "id": "3e5a4aa8",
   "metadata": {},
   "outputs": [
    {
     "name": "stdout",
     "output_type": "stream",
     "text": [
      "0\n"
     ]
    }
   ],
   "source": [
    "# 앞에서부터 문자를 하나씩 확인하면서,\n",
    "# 1) 이전 문자와 다르면\n",
    "# 2) 그 문자가 이미 나왔던 문자라면\n",
    "# 그룹 단어가 아니다.\n",
    "\n",
    "def check_groupword(word):\n",
    "    seen = set()\n",
    "    prev = ''\n",
    "    for char in word:\n",
    "        if char != prev:\n",
    "            if char in seen:\n",
    "                return False\n",
    "            seen.add(char)\n",
    "        prev = char\n",
    "    return True\n",
    "\n",
    "N = int(input())\n",
    "\n",
    "count = 0\n",
    "for _ in range(N):\n",
    "    word = input()\n",
    "    if check_groupword(word):\n",
    "        count += 1\n",
    "\n",
    "print(count)"
   ]
  },
  {
   "cell_type": "code",
   "execution_count": null,
   "id": "69badfcb",
   "metadata": {},
   "outputs": [
    {
     "name": "stdout",
     "output_type": "stream",
     "text": [
      "4.5\n"
     ]
    }
   ],
   "source": [
    "# credits = []\n",
    "# grades = []\n",
    "# for _ in range(20):\n",
    "#     _, credit, grade = input().split()\n",
    "#     if grade != \"P\":\n",
    "#         credits.append(float(credit))\n",
    "#         grades.append(grade)\n",
    "\n",
    "# grade_table = {\"A+\":4.5, \"A0\":4.0, \"B+\":3.5, \"B0\":3.0, \"C+\":2.5, \"C0\":2.0, \"D+\":1.5, \"D0\":1.0, \"F\":0.0}\n",
    "\n",
    "# total = 0\n",
    "# for i, grade in enumerate(grades):\n",
    "#     total += credits[i] * grade_table[grade]\n",
    "\n",
    "# average = total / sum(credits)\n",
    "# print(average)\n",
    "\n",
    "# ----------\n",
    "# 리스트 없이 바로 계산, 안정성 추가\n",
    "\n",
    "grade_table = {\n",
    "    \"A+\": 4.5, \"A0\": 4.0,\n",
    "    \"B+\": 3.5, \"B0\": 3.0,\n",
    "    \"C+\": 2.5, \"C0\": 2.0,\n",
    "    \"D+\": 1.5, \"D0\": 1.0,\n",
    "    \"F\": 0.0\n",
    "}\n",
    "\n",
    "total_score = 0\n",
    "total_credit = 0.0\n",
    "for _ in range(20):\n",
    "    _, credit, grade = input().split()\n",
    "    credit = float(credit)\n",
    "    \n",
    "    if grade != \"P\":\n",
    "        total_score += grade_table[grade]\n",
    "        total_credit += credit\n",
    "\n",
    "if total_credit == 0:\n",
    "    print(\"0.000000\")\n",
    "else:\n",
    "    print(f\"{total_score / total_credit:.6f}\")"
   ]
  },
  {
   "cell_type": "code",
   "execution_count": 41,
   "id": "995e5cfe",
   "metadata": {},
   "outputs": [
    {
     "name": "stdout",
     "output_type": "stream",
     "text": [
      "ObjectOrientedProgramming1 3.0 A+\n",
      "<class 'float'>\n"
     ]
    }
   ],
   "source": [
    "a, b, c = input().split()\n",
    "b_floated = float(b)\n",
    "print(a, b_floated, c)\n",
    "print(type(b_floated))\n"
   ]
  },
  {
   "cell_type": "code",
   "execution_count": null,
   "id": "4629cc51",
   "metadata": {},
   "outputs": [
    {
     "ename": "TypeError",
     "evalue": "unsupported operand type(s) for *: 'int' and 'NoneType'",
     "output_type": "error",
     "traceback": [
      "\u001b[0;31m---------------------------------------------------------------------------\u001b[0m",
      "\u001b[0;31mTypeError\u001b[0m                                 Traceback (most recent call last)",
      "Cell \u001b[0;32mIn[52], line 8\u001b[0m\n\u001b[1;32m      5\u001b[0m         \u001b[38;5;28;01mreturn\u001b[39;00m\n\u001b[1;32m      6\u001b[0m     \u001b[38;5;28;01mreturn\u001b[39;00m number \u001b[38;5;241m*\u001b[39m factorial(number \u001b[38;5;241m-\u001b[39m \u001b[38;5;241m1\u001b[39m)\n\u001b[0;32m----> 8\u001b[0m \u001b[38;5;28mprint\u001b[39m(factorial(N))\n",
      "Cell \u001b[0;32mIn[52], line 6\u001b[0m, in \u001b[0;36mfactorial\u001b[0;34m(number)\u001b[0m\n\u001b[1;32m      4\u001b[0m \u001b[38;5;28;01mif\u001b[39;00m number \u001b[38;5;241m==\u001b[39m \u001b[38;5;241m0\u001b[39m:\n\u001b[1;32m      5\u001b[0m     \u001b[38;5;28;01mreturn\u001b[39;00m\n\u001b[0;32m----> 6\u001b[0m \u001b[38;5;28;01mreturn\u001b[39;00m number \u001b[38;5;241m*\u001b[39m factorial(number \u001b[38;5;241m-\u001b[39m \u001b[38;5;241m1\u001b[39m)\n",
      "Cell \u001b[0;32mIn[52], line 6\u001b[0m, in \u001b[0;36mfactorial\u001b[0;34m(number)\u001b[0m\n\u001b[1;32m      4\u001b[0m \u001b[38;5;28;01mif\u001b[39;00m number \u001b[38;5;241m==\u001b[39m \u001b[38;5;241m0\u001b[39m:\n\u001b[1;32m      5\u001b[0m     \u001b[38;5;28;01mreturn\u001b[39;00m\n\u001b[0;32m----> 6\u001b[0m \u001b[38;5;28;01mreturn\u001b[39;00m number \u001b[38;5;241m*\u001b[39m factorial(number \u001b[38;5;241m-\u001b[39m \u001b[38;5;241m1\u001b[39m)\n",
      "    \u001b[0;31m[... skipping similar frames: factorial at line 6 (7 times)]\u001b[0m\n",
      "Cell \u001b[0;32mIn[52], line 6\u001b[0m, in \u001b[0;36mfactorial\u001b[0;34m(number)\u001b[0m\n\u001b[1;32m      4\u001b[0m \u001b[38;5;28;01mif\u001b[39;00m number \u001b[38;5;241m==\u001b[39m \u001b[38;5;241m0\u001b[39m:\n\u001b[1;32m      5\u001b[0m     \u001b[38;5;28;01mreturn\u001b[39;00m\n\u001b[0;32m----> 6\u001b[0m \u001b[38;5;28;01mreturn\u001b[39;00m number \u001b[38;5;241m*\u001b[39m factorial(number \u001b[38;5;241m-\u001b[39m \u001b[38;5;241m1\u001b[39m)\n",
      "\u001b[0;31mTypeError\u001b[0m: unsupported operand type(s) for *: 'int' and 'NoneType'"
     ]
    }
   ],
   "source": [
    "N = int(input())\n",
    "    \n",
    "def factorial(number):\n",
    "    if number == 0:\n",
    "        return 1\n",
    "    return number * factorial(number - 1)\n",
    "\n",
    "print(factorial(N))"
   ]
  },
  {
   "cell_type": "code",
   "execution_count": 3,
   "id": "e6295da4",
   "metadata": {},
   "outputs": [
    {
     "name": "stdout",
     "output_type": "stream",
     "text": [
      "4321"
     ]
    }
   ],
   "source": [
    "N = input()\n",
    "\n",
    "numbers = []\n",
    "for c in N:\n",
    "    numbers.append(int(c))\n",
    "\n",
    "numbers.sort(reverse=True)\n",
    "\n",
    "for n in numbers:\n",
    "    print(n, end=\"\")"
   ]
  },
  {
   "cell_type": "code",
   "execution_count": null,
   "id": "dfa6f76b",
   "metadata": {},
   "outputs": [],
   "source": []
  }
 ],
 "metadata": {
  "kernelspec": {
   "display_name": "noname",
   "language": "python",
   "name": "python3"
  },
  "language_info": {
   "codemirror_mode": {
    "name": "ipython",
    "version": 3
   },
   "file_extension": ".py",
   "mimetype": "text/x-python",
   "name": "python",
   "nbconvert_exporter": "python",
   "pygments_lexer": "ipython3",
   "version": "3.11.0"
  }
 },
 "nbformat": 4,
 "nbformat_minor": 5
}
