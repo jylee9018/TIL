{
 "cells": [
  {
   "cell_type": "markdown",
   "metadata": {},
   "source": [
    "https://www.acmicpc.net/problem/4963"
   ]
  },
  {
   "cell_type": "code",
   "execution_count": null,
   "metadata": {},
   "outputs": [],
   "source": [
    "while True:\n",
    "    w, h = map(int, input().split())\n",
    "    if w == 0 and h == 0:\n",
    "        break\n",
    "    \n",
    "    maps = []\n",
    "    for i in range(h):\n",
    "        maps_rows = list(map(int, input().split()))\n",
    "        maps.append(maps_rows)\n",
    "        \n",
    "    def dfs(x, y):\n",
    "        # 주어진 범위를 벗어나는 경우에는 즉시 종료\n",
    "        if x <= -1 or x >= w or y <= -1 or y >= h:\n",
    "            return False\n",
    "        \n",
    "        # 현재 노드를 아직 방문하지 않았다면\n",
    "        if maps[x][y] == 0:\n",
    "            # 해당 노드 방문 처리\n",
    "            maps[x][y] = 1\n",
    "            \n",
    "            # 상, 하, 좌, 우의 위치도 모두 재귀적으로 호출\n",
    "            dfs(x - 1, y)\n",
    "            dfs(x, y - 1)\n",
    "            dfs(x + 1, y)\n",
    "            dfs(x, y + 1)\n",
    "            # 대각선\n",
    "            dfs(x + 1, y + 1)\n",
    "            dfs(x + 1, y - 1)\n",
    "            dfs(x - 1, y + 1)\n",
    "            dfs(x - 1, y - 1)\n",
    "            return True\n",
    "        \n",
    "        return False\n",
    "    \n",
    "    # 모든 노드(위치)에 대하여\n",
    "    result = 0\n",
    "    for i in range(h):\n",
    "        for j in range(w):\n",
    "            # 현재 위치에서 DFS 수행\n",
    "            if dfs(i, j) == True:\n",
    "                result += 1\n",
    "\n",
    "    print(result)"
   ]
  },
  {
   "cell_type": "code",
   "execution_count": 20,
   "metadata": {},
   "outputs": [],
   "source": [
    "# bfs"
   ]
  },
  {
   "cell_type": "markdown",
   "metadata": {},
   "source": [
    "DFS\n",
    "1. 탐색 시작 노드를 스택에 삽입하고 방문 처리를 한다.\n",
    "2. 스택의 최상단 노드에 방문하지 않은 인접 노가 있으면 그 인접 노드를 스택에 넣고 방문 처리를 한다. 방문하지 않은 인접 노드가 없으면 스택에서 최상단 노드를 꺼낸다.\n",
    "3. 2번의 과정을 더이상 수행할 수 없을 때까지 반복한다."
   ]
  }
 ],
 "metadata": {
  "kernelspec": {
   "display_name": "noname",
   "language": "python",
   "name": "python3"
  },
  "language_info": {
   "codemirror_mode": {
    "name": "ipython",
    "version": 3
   },
   "file_extension": ".py",
   "mimetype": "text/x-python",
   "name": "python",
   "nbconvert_exporter": "python",
   "pygments_lexer": "ipython3",
   "version": "3.11.0"
  }
 },
 "nbformat": 4,
 "nbformat_minor": 2
}
