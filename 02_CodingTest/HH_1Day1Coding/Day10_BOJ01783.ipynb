{
 "cells": [
  {
   "cell_type": "markdown",
   "id": "f2b11365",
   "metadata": {},
   "source": [
    "https://www.acmicpc.net/problem/1783"
   ]
  },
  {
   "cell_type": "code",
   "execution_count": null,
   "id": "c5f6b836",
   "metadata": {},
   "outputs": [
    {
     "name": "stdout",
     "output_type": "stream",
     "text": [
      "[[False, False, False], [False, False, False]]\n"
     ]
    }
   ],
   "source": [
    "def solution(n, m):  # n: 행, m: 열\n",
    "    visited = [[False] * m] * n\n",
    "    \n",
    "    \n",
    "    \n",
    "solution(100, 50)"
   ]
  },
  {
   "cell_type": "code",
   "execution_count": null,
   "id": "6dcc9751",
   "metadata": {},
   "outputs": [],
   "source": []
  }
 ],
 "metadata": {
  "kernelspec": {
   "display_name": "noname",
   "language": "python",
   "name": "python3"
  },
  "language_info": {
   "codemirror_mode": {
    "name": "ipython",
    "version": 3
   },
   "file_extension": ".py",
   "mimetype": "text/x-python",
   "name": "python",
   "nbconvert_exporter": "python",
   "pygments_lexer": "ipython3",
   "version": "3.11.0"
  }
 },
 "nbformat": 4,
 "nbformat_minor": 5
}
