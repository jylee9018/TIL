{
 "cells": [
  {
   "cell_type": "code",
   "execution_count": 5,
   "metadata": {},
   "outputs": [
    {
     "name": "stdout",
     "output_type": "stream",
     "text": [
      "1 0 0 0 0 1 "
     ]
    }
   ],
   "source": [
    "# 1 1 2 2 2 8\n",
    "\n",
    "a = list(map(int, input().split()))\n",
    "b = [1, 1, 2, 2, 2, 8]\n",
    "\n",
    "for i in range(len(b)):\n",
    "    \n",
    "    print(b[i] - a[i], end=\" \")"
   ]
  },
  {
   "cell_type": "code",
   "execution_count": 10,
   "metadata": {},
   "outputs": [
    {
     "ename": "KeyboardInterrupt",
     "evalue": "",
     "output_type": "error",
     "traceback": [
      "\u001b[0;31m---------------------------------------------------------------------------\u001b[0m",
      "\u001b[0;31mKeyboardInterrupt\u001b[0m                         Traceback (most recent call last)",
      "Cell \u001b[0;32mIn[10], line 7\u001b[0m\n\u001b[1;32m      5\u001b[0m \u001b[38;5;28;01mwhile\u001b[39;00m word:\n\u001b[1;32m      6\u001b[0m     \u001b[38;5;28;01mfor\u001b[39;00m i \u001b[38;5;129;01min\u001b[39;00m \u001b[38;5;28mrange\u001b[39m(\u001b[38;5;28mlen\u001b[39m(word)):\n\u001b[0;32m----> 7\u001b[0m         \u001b[38;5;28;01mif\u001b[39;00m \u001b[43malphabets\u001b[49m\u001b[43m \u001b[49m\u001b[38;5;129;43;01mnot\u001b[39;49;00m\u001b[43m \u001b[49m\u001b[38;5;129;43;01min\u001b[39;49;00m\u001b[43m \u001b[49m\u001b[43mword\u001b[49m:\n\u001b[1;32m      8\u001b[0m             \u001b[38;5;28;01mbreak\u001b[39;00m\n\u001b[1;32m      9\u001b[0m         \u001b[38;5;28;01mif\u001b[39;00m word[i] \u001b[38;5;241m==\u001b[39m \u001b[38;5;124m'\u001b[39m\u001b[38;5;124mc\u001b[39m\u001b[38;5;124m'\u001b[39m \u001b[38;5;129;01mand\u001b[39;00m (word[i \u001b[38;5;241m+\u001b[39m \u001b[38;5;241m1\u001b[39m] \u001b[38;5;241m==\u001b[39m \u001b[38;5;124m'\u001b[39m\u001b[38;5;124m=\u001b[39m\u001b[38;5;124m'\u001b[39m \u001b[38;5;129;01mor\u001b[39;00m word[i \u001b[38;5;241m+\u001b[39m \u001b[38;5;241m1\u001b[39m] \u001b[38;5;241m==\u001b[39m \u001b[38;5;124m'\u001b[39m\u001b[38;5;124m-\u001b[39m\u001b[38;5;124m'\u001b[39m):\n",
      "\u001b[0;31mKeyboardInterrupt\u001b[0m: "
     ]
    }
   ],
   "source": [
    "word = list(input())\n",
    "alphabets = ['c=', 'c-', 'dz=', 'lj', 'nj', 's=', 'z=']\n",
    "\n",
    "count = 0\n",
    "while word:\n",
    "    for i in range(len(word)):\n",
    "        if alphabets not in word:\n",
    "            break\n",
    "        if word[i] == 'c' and (word[i + 1] == '=' or word[i + 1] == '-'):\n",
    "            word.remove(word[i])\n",
    "            word.remove(word[i + 1])\n",
    "            count += 1\n",
    "        elif word[i] == 'd' and word[i + 1] == 'z' and word[i + 2] == '=':\n",
    "            word.remove(word[i])\n",
    "            word.remove(word[i + 1])\n",
    "            word.remove(word[i + 2])\n",
    "            count += 1\n",
    "        elif word[i] == 'l' and word[i + 1] == 'j':\n",
    "            word.remove(word[i])\n",
    "            word.remove(word[i + 1])\n",
    "            count += 1\n",
    "        elif word[i] == 'n' and word[i + 1] == 'j':\n",
    "            word.remove(word[i])\n",
    "            word.remove(word[i + 1])\n",
    "            count += 1\n",
    "        elif word[i] == 's' and word[i + 1] == '=':\n",
    "            word.remove(word[i])\n",
    "            word.remove(word[i + 1])\n",
    "            count += 1\n",
    "        elif word[i] == 'z' and word[i + 1] == '=':\n",
    "            word.remove(word[i])\n",
    "            word.remove(word[i + 1])\n",
    "            count += 1\n",
    "\n",
    "count += len(word)\n",
    "\n",
    "print(count)"
   ]
  },
  {
   "cell_type": "code",
   "execution_count": null,
   "metadata": {},
   "outputs": [],
   "source": [
    "word = str(input())\n",
    "alphabets = ['c=', 'c-', 'dz=', 'lj', 'nj', 's=', 'z=']\n",
    "\n",
    "    "
   ]
  },
  {
   "cell_type": "code",
   "execution_count": 12,
   "metadata": {},
   "outputs": [
    {
     "name": "stdout",
     "output_type": "stream",
     "text": [
      "1 2\n"
     ]
    }
   ],
   "source": [
    "N, M = list(map(int, input().split()))\n",
    "print(N, M)"
   ]
  },
  {
   "cell_type": "code",
   "execution_count": null,
   "metadata": {},
   "outputs": [
    {
     "name": "stdout",
     "output_type": "stream",
     "text": [
      "[1, 2, 3, 4, 5, 6, 7, 8, 9, 10, 11, 12, 13, 14, 15]\n"
     ]
    },
    {
     "ename": "KeyboardInterrupt",
     "evalue": "",
     "output_type": "error",
     "traceback": [
      "\u001b[0;31m---------------------------------------------------------------------------\u001b[0m",
      "\u001b[0;31mKeyboardInterrupt\u001b[0m                         Traceback (most recent call last)",
      "Cell \u001b[0;32mIn[31], line 13\u001b[0m\n\u001b[1;32m     11\u001b[0m \u001b[38;5;28;01mwhile\u001b[39;00m (main \u001b[38;5;241m<\u001b[39m N) \u001b[38;5;129;01mand\u001b[39;00m (sub \u001b[38;5;241m<\u001b[39m N): \n\u001b[1;32m     12\u001b[0m     total \u001b[38;5;241m=\u001b[39m array[main]  \n\u001b[0;32m---> 13\u001b[0m     \u001b[38;5;28;01mif\u001b[39;00m \u001b[43mtotal\u001b[49m \u001b[38;5;241m<\u001b[39m N:\n\u001b[1;32m     14\u001b[0m         sub \u001b[38;5;241m=\u001b[39m main \u001b[38;5;241m+\u001b[39m \u001b[38;5;241m1\u001b[39m\n\u001b[1;32m     15\u001b[0m         total \u001b[38;5;241m+\u001b[39m\u001b[38;5;241m=\u001b[39m array[sub]\n",
      "\u001b[0;31mKeyboardInterrupt\u001b[0m: "
     ]
    }
   ],
   "source": [
    "N = int(input())\n",
    "array = [i for i in range(1, N + 1)]\n",
    "print(array)\n",
    "\n",
    "count = 0\n",
    "main, sub = 1, 1\n",
    "total = 1\n",
    "\n",
    "while main <= N: \n",
    "    if total < N:\n",
    "        sub += 1\n",
    "        total += sub\n",
    "    elif total == N:\n",
    "        count += 1\n",
    "        total -= main\n",
    "        main += 1\n",
    "    elif total > N:\n",
    "        total -= main\n",
    "        main += 1\n",
    "\n",
    "               \n",
    "print(count)"
   ]
  },
  {
   "cell_type": "code",
   "execution_count": null,
   "metadata": {},
   "outputs": [
    {
     "name": "stdout",
     "output_type": "stream",
     "text": [
      "2\n"
     ]
    }
   ],
   "source": [
    "while True:\n",
    "    N, M = map(int, input().split())\n",
    "    if N == 0 and M == 0:\n",
    "        break\n",
    "\n",
    "    A = []\n",
    "    B = []\n",
    "    for _ in range(N):\n",
    "        A.append(int(input()))\n",
    "    for _ in range(M):\n",
    "        B.append(int(input()))\n",
    "\n",
    "    count = 0\n",
    "    for i in range(min(N, M)):\n",
    "        if A[i] == B[i]:\n",
    "            count += 1\n",
    "\n",
    "print(count)"
   ]
  },
  {
   "cell_type": "code",
   "execution_count": null,
   "metadata": {},
   "outputs": [],
   "source": []
  }
 ],
 "metadata": {
  "kernelspec": {
   "display_name": "py38-torch",
   "language": "python",
   "name": "python3"
  },
  "language_info": {
   "codemirror_mode": {
    "name": "ipython",
    "version": 3
   },
   "file_extension": ".py",
   "mimetype": "text/x-python",
   "name": "python",
   "nbconvert_exporter": "python",
   "pygments_lexer": "ipython3",
   "version": "3.8.19"
  }
 },
 "nbformat": 4,
 "nbformat_minor": 2
}
