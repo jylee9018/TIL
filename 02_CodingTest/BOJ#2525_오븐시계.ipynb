{
 "cells": [
  {
   "cell_type": "code",
   "execution_count": 2,
   "metadata": {},
   "outputs": [
    {
     "name": "stdout",
     "output_type": "stream",
     "text": [
      "14 50\n",
      "19 0\n",
      "0 13\n"
     ]
    }
   ],
   "source": [
    "def solution(H, M, C):\n",
    "\tdef MtoH(m):\n",
    "\t\ttH = str(m // 60)\n",
    "\t\ttM = str(m % 60)\n",
    "\t\treturn tH, tM\n",
    "\n",
    "\ttH, tM = MtoH(C)\n",
    "\t\n",
    "\tdH = H + int(tH)\n",
    "\tdM = M + int(tM)\n",
    "\n",
    "\tif dM > 59:\n",
    "\t\tdM = dM - 60\n",
    "\t\tdH = dH + 1\n",
    "\n",
    "\tif dH > 23:\n",
    "\t\tdH = dH % 24\n",
    "\n",
    "\tprint(dH, dM)\n",
    "\n",
    "solution(14, 30, 20)\n",
    "solution(17, 40, 80)\n",
    "solution(23, 48, 25)"
   ]
  },
  {
   "cell_type": "code",
   "execution_count": 6,
   "metadata": {},
   "outputs": [
    {
     "name": "stdout",
     "output_type": "stream",
     "text": [
      "0 13\n"
     ]
    }
   ],
   "source": [
    "H, M = map(int, input().split())\n",
    "C = int(input())\n",
    "\n",
    "def MtoH(m):\n",
    "    tH = str(m // 60)\n",
    "    tM = str(m % 60)\n",
    "    return tH, tM\n",
    "\n",
    "tH, tM = MtoH(C)\n",
    "\n",
    "dH = H + int(tH)\n",
    "dM = M + int(tM)\n",
    "\n",
    "if dM > 59:\n",
    "    dM = dM - 60\n",
    "    dH = dH + 1\n",
    "\n",
    "if dH > 23:\n",
    "    dH = dH % 24\n",
    "\n",
    "print(dH, dM)"
   ]
  },
  {
   "cell_type": "code",
   "execution_count": null,
   "metadata": {},
   "outputs": [],
   "source": []
  },
  {
   "cell_type": "code",
   "execution_count": null,
   "metadata": {},
   "outputs": [],
   "source": []
  }
 ],
 "metadata": {
  "kernelspec": {
   "display_name": "noname",
   "language": "python",
   "name": "python3"
  },
  "language_info": {
   "codemirror_mode": {
    "name": "ipython",
    "version": 3
   },
   "file_extension": ".py",
   "mimetype": "text/x-python",
   "name": "python",
   "nbconvert_exporter": "python",
   "pygments_lexer": "ipython3",
   "version": "3.11.0"
  }
 },
 "nbformat": 4,
 "nbformat_minor": 2
}
