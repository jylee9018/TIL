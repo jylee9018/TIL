{
 "cells": [
  {
   "cell_type": "markdown",
   "id": "d61968a5",
   "metadata": {},
   "source": [
    "### 재귀함수 연습"
   ]
  },
  {
   "cell_type": "markdown",
   "id": "54d89ba8",
   "metadata": {},
   "source": [
    "✅ 문제 1: 숫자 세기 (기초 – ⭐)\n",
    "🔹문제 설명\n",
    "- 양의 정수 n이 주어졌을 때, 1부터 n까지 재귀 함수를 사용해 출력해보세요.\n",
    "\n",
    "🔹입력\n",
    "```python\n",
    "3\n",
    "```\n",
    "\n",
    "🔹출력\n",
    "```python\n",
    "1\n",
    "2\n",
    "3\n",
    "```\n",
    "\n",
    "🔹힌트\n",
    "- n == 0이면 멈추게 하세요.\n",
    "- print는 재귀 호출 전에 할까, 후에 할까?"
   ]
  },
  {
   "cell_type": "code",
   "execution_count": 1,
   "id": "5cc141dd",
   "metadata": {},
   "outputs": [
    {
     "name": "stdout",
     "output_type": "stream",
     "text": [
      "1\n",
      "2\n",
      "3\n",
      "4\n",
      "5\n",
      "6\n",
      "7\n",
      "8\n",
      "9\n",
      "10\n"
     ]
    }
   ],
   "source": [
    "n = int(input())\n",
    "\n",
    "for i in range(1, n + 1):\n",
    "    print(i)"
   ]
  },
  {
   "cell_type": "code",
   "execution_count": null,
   "id": "a8651464",
   "metadata": {},
   "outputs": [
    {
     "name": "stdout",
     "output_type": "stream",
     "text": [
      "1\n",
      "2\n",
      "3\n",
      "4\n",
      "5\n",
      "6\n",
      "7\n",
      "8\n",
      "9\n",
      "10\n"
     ]
    }
   ],
   "source": [
    "def recursive(idx, end):\n",
    "    if idx > end:\n",
    "        return\n",
    "    print(idx)\n",
    "    return recursive(idx + 1, end)\n",
    "\n",
    "\n",
    "n = int(input())\n",
    "recursive(1, n)"
   ]
  },
  {
   "cell_type": "markdown",
   "id": "c12cbfe1",
   "metadata": {},
   "source": [
    "🔹 정방향 출력 실행 흐름 (예: n = 3)\n",
    "```isbl\n",
    "recursive(1, 3)\n",
    "→ print(1)\n",
    "→ recursive(2, 3)\n",
    "    → print(2)\n",
    "    → recursive(3, 3)\n",
    "        → print(3)\n",
    "        → recursive(4, 3) → 종료\n",
    "```"
   ]
  },
  {
   "cell_type": "code",
   "execution_count": null,
   "id": "f882971c",
   "metadata": {},
   "outputs": [
    {
     "name": "stdout",
     "output_type": "stream",
     "text": [
      "10\n",
      "9\n",
      "8\n",
      "7\n",
      "6\n",
      "5\n",
      "4\n",
      "3\n",
      "2\n",
      "1\n"
     ]
    }
   ],
   "source": [
    "# 만약 출력 순서를 반대로 하고 싶다면?\n",
    "def recursive(idx, end):\n",
    "    if idx > end:\n",
    "        return\n",
    "    recursive(idx + 1, end)\n",
    "    print(idx)  # 출력 나중에\n",
    "\n",
    "\n",
    "n = int(input())\n",
    "recursive(1, n)"
   ]
  },
  {
   "cell_type": "markdown",
   "id": "c1522941",
   "metadata": {},
   "source": [
    "🔹 역방향 출력 실행 흐름 (예: n = 3)\n",
    "```isbl\n",
    "recursive(1, 3)\n",
    "→ recursive(2, 3)\n",
    "    → recursive(3, 3)\n",
    "        → recursive(4, 3) → 종료\n",
    "        → print(3)\n",
    "    → print(2)\n",
    "→ print(1)\n",
    "```"
   ]
  },
  {
   "cell_type": "markdown",
   "id": "ac5b417d",
   "metadata": {},
   "source": [
    "✅ 문제 2: 문자열 뒤집기 (중간 – ⭐⭐)\n",
    "\n",
    "🔹문제 설명\n",
    "- 문자열이 주어지면, 재귀 함수를 사용해서 문자열을 뒤집어서 출력해보세요.\n",
    "\n",
    "🔹입력\n",
    "```python\n",
    "hello\n",
    "```\n",
    "\n",
    "🔹출력\n",
    "```python\n",
    "olleh\n",
    "```\n",
    "\n",
    "🔹힌트\n",
    "- 문자열의 맨 앞 글자를 제외한 나머지를 재귀 호출해보세요.\n",
    "- 그리고 맨 앞 글자는 나중에 출력하면 돼요."
   ]
  },
  {
   "cell_type": "code",
   "execution_count": 14,
   "id": "e28588c7",
   "metadata": {},
   "outputs": [
    {
     "name": "stdout",
     "output_type": "stream",
     "text": [
      "g\n",
      "n\n",
      "i\n",
      "r\n",
      "t\n",
      "s\n"
     ]
    }
   ],
   "source": [
    "def recursive(n, s):\n",
    "    if n < 0:\n",
    "        return\n",
    "    print(s[n])\n",
    "    return recursive(n - 1, s)\n",
    "\n",
    "\n",
    "s = input()\n",
    "n = len(s) - 1\n",
    "\n",
    "recursive(n, s)"
   ]
  },
  {
   "cell_type": "code",
   "execution_count": null,
   "id": "526a62a3",
   "metadata": {},
   "outputs": [
    {
     "name": "stdout",
     "output_type": "stream",
     "text": [
      "g\n",
      "n\n",
      "i\n",
      "r\n",
      "t\n",
      "s\n",
      "<generator object <genexpr> at 0x10b60e400>\n"
     ]
    }
   ],
   "source": [
    "def reverse(s):\n",
    "    return s[::-1]\n",
    "\n",
    "s = input()\n",
    "s_reversed = reverse(s)\n",
    "for c in s_reversed:\n",
    "    print(c)"
   ]
  },
  {
   "cell_type": "code",
   "execution_count": null,
   "id": "7611df3c",
   "metadata": {},
   "outputs": [
    {
     "name": "stdout",
     "output_type": "stream",
     "text": [
      "g\n",
      "n\n",
      "i\n",
      "r\n",
      "t\n",
      "s\n"
     ]
    }
   ],
   "source": [
    "def reverse(s):\n",
    "    if s == \"\":\n",
    "        return\n",
    "    reverse(s[1:])\n",
    "    print(s[0], end='\\n')\n",
    "\n",
    "\n",
    "s = input()\n",
    "reverse(s)"
   ]
  },
  {
   "cell_type": "code",
   "execution_count": 21,
   "id": "32c83a93",
   "metadata": {},
   "outputs": [
    {
     "name": "stdout",
     "output_type": "stream",
     "text": [
      "s\n",
      "t\n",
      "r\n",
      "i\n",
      "n\n",
      "g\n"
     ]
    }
   ],
   "source": [
    "def reverse(s):\n",
    "    if s == \"\":\n",
    "        return\n",
    "    print(s[0], end='\\n')\n",
    "    reverse(s[1:])\n",
    "\n",
    "\n",
    "s = input()\n",
    "reverse(s)"
   ]
  },
  {
   "cell_type": "markdown",
   "id": "a8adf7bc",
   "metadata": {},
   "source": [
    "✅ 문제 3: 2의 거듭제곱 출력 (심화 – ⭐⭐⭐)\n",
    "\n",
    "🔹문제 설명\n",
    "- 정수 n이 주어졌을 때,\n",
    "2^n의 값을 재귀 함수를 사용해서 구해보세요.\n",
    "\n",
    "🔹입력\n",
    "```python\n",
    "5\n",
    "```\n",
    "\n",
    "🔹출력\n",
    "```python\n",
    "32\n",
    "```\n",
    "\n",
    "🔹힌트\n",
    "- $2^n = 2 × 2^(n-1)$\n",
    "- $2^0 = 1$이 기저 조건!"
   ]
  },
  {
   "cell_type": "code",
   "execution_count": 12,
   "id": "9cb37fe4",
   "metadata": {},
   "outputs": [
    {
     "name": "stdout",
     "output_type": "stream",
     "text": [
      "32\n"
     ]
    }
   ],
   "source": [
    "def recursive(n):\n",
    "    if n == 0:\n",
    "        return 1\n",
    "    return 2 * recursive(n - 1)\n",
    "\n",
    "n = int(input())\n",
    "print(recursive(n))"
   ]
  },
  {
   "cell_type": "code",
   "execution_count": null,
   "id": "fe631e2d",
   "metadata": {},
   "outputs": [
    {
     "data": {
      "text/plain": [
       "120"
      ]
     },
     "execution_count": 22,
     "metadata": {},
     "output_type": "execute_result"
    }
   ],
   "source": [
    "def factorial(n):\n",
    "    if n == 0:\n",
    "        return 1\n",
    "    return n * factorial(n - 1)\n",
    "\n",
    "n = int(input())\n",
    "print(factorial(n))"
   ]
  },
  {
   "cell_type": "code",
   "execution_count": 24,
   "id": "899bf02f",
   "metadata": {},
   "outputs": [
    {
     "name": "stdout",
     "output_type": "stream",
     "text": [
      "55\n"
     ]
    }
   ],
   "source": [
    "def fibonacci(n):\n",
    "    if n == 0:\n",
    "        return 0\n",
    "    elif n == 1:\n",
    "        return 1\n",
    "    return fibonacci(n - 1) + fibonacci(n - 2)\n",
    "\n",
    "n = int(input())\n",
    "print(fibonacci(n))"
   ]
  },
  {
   "cell_type": "markdown",
   "id": "c8a5b2ff",
   "metadata": {},
   "source": [
    "💡 개선법: 메모이제이션 (Memoization)\n",
    "- 중복 계산을 한 번만 하고 저장해두면 훨씬 빨라진다! 🚀\n",
    "\n",
    "✅ 방법 1: functools.lru_cache 사용"
   ]
  },
  {
   "cell_type": "code",
   "execution_count": 26,
   "id": "61c5ac82",
   "metadata": {},
   "outputs": [
    {
     "name": "stdout",
     "output_type": "stream",
     "text": [
      "55\n"
     ]
    }
   ],
   "source": [
    "from functools import lru_cache\n",
    "\n",
    "@lru_cache(maxsize=None)\n",
    "def fibonacci(n):\n",
    "    if n == 0:\n",
    "        return 0\n",
    "    elif n == 1:\n",
    "        return 1\n",
    "    return fibonacci(n - 1) + fibonacci(n - 2)\n",
    "\n",
    "n = int(input())\n",
    "print(fibonacci(n))"
   ]
  },
  {
   "cell_type": "markdown",
   "id": "cac20a49",
   "metadata": {},
   "source": [
    "✅ 방법 2: 직접 캐시 딕셔너리 사용"
   ]
  },
  {
   "cell_type": "code",
   "execution_count": null,
   "id": "8a68e87a",
   "metadata": {},
   "outputs": [],
   "source": [
    "memo = {}\n",
    "\n",
    "def fibonacci(n):\n",
    "    if n in memo:\n",
    "        return memo[n]\n",
    "    if n == 0:\n",
    "        memo[n] = 0\n",
    "    elif n == 1:\n",
    "        memo[n] = 1\n",
    "    else:\n",
    "        memo[n] = fibonacci(n - 1) + fibonacci(n - 2)\n",
    "    return memo[n]\n",
    "\n",
    "n = int(input())\n",
    "print(fibonacci(n))"
   ]
  },
  {
   "cell_type": "code",
   "execution_count": null,
   "id": "a110f842",
   "metadata": {},
   "outputs": [
    {
     "name": "stdout",
     "output_type": "stream",
     "text": [
      "1 1\n"
     ]
    }
   ],
   "source": [
    "def recursion(s, l, r):\n",
    "    global count\n",
    "    count += 1\n",
    "    \n",
    "    # → 왼쪽 인덱스(l)가 오른쪽 인덱스(r)에 도달하거나 지나쳤다는 것\n",
    "    # → 모든 문자가 서로 같았다는 뜻이므로 팰린드롬이다!\n",
    "    if l >= r:    \n",
    "        return 1  # 팰린드롬임\n",
    "    elif s[l] != s[r]:\n",
    "        return 0  # 서로 다른 문자 → 팰린드롬 아님\n",
    "    else:\n",
    "        return recursion(s, l + 1, r - 1)\n",
    "\n",
    "\n",
    "def isPalindrome(s):\n",
    "    return recursion(s, 0, len(s) - 1)\n",
    "\n",
    "\n",
    "T = int(input())\n",
    "for _ in range(T):\n",
    "    s = input()\n",
    "    count = 0\n",
    "    print(isPalindrome(s), count)"
   ]
  },
  {
   "cell_type": "code",
   "execution_count": null,
   "id": "2fe16899",
   "metadata": {},
   "outputs": [],
   "source": []
  }
 ],
 "metadata": {
  "kernelspec": {
   "display_name": "noname",
   "language": "python",
   "name": "python3"
  },
  "language_info": {
   "codemirror_mode": {
    "name": "ipython",
    "version": 3
   },
   "file_extension": ".py",
   "mimetype": "text/x-python",
   "name": "python",
   "nbconvert_exporter": "python",
   "pygments_lexer": "ipython3",
   "version": "3.11.0"
  }
 },
 "nbformat": 4,
 "nbformat_minor": 5
}
