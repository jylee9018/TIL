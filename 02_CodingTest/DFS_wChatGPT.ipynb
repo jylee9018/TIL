{
 "cells": [
  {
   "cell_type": "markdown",
   "id": "e74e28d3",
   "metadata": {},
   "source": []
  },
  {
   "cell_type": "code",
   "execution_count": 5,
   "id": "a5439c1d",
   "metadata": {},
   "outputs": [
    {
     "name": "stdout",
     "output_type": "stream",
     "text": [
      "[[3, 2, 5, 5], [3, 2, 5, 5], [3, 2, 5, 5]]\n"
     ]
    }
   ],
   "source": [
    "def dfs(cr, cc, grid, new_grid):\n",
    "    global label\n",
    "    if grid[cr][cc] == \"1\":\n",
    "        grid[cr][cc] = \"0\"\n",
    "        new_grid[cr][cc] = label\n",
    "        \n",
    "    dr = [0, 0, -1, 1]\n",
    "    dc = [1, -1, 0, 0]\n",
    "    \n",
    "    for i in range(4):\n",
    "        nr = cr + dr[i]\n",
    "        nc = cc + dc[i]\n",
    "        \n",
    "        if 0 <= nr < len(grid) and 0 <= nc < len(grid[0]):\n",
    "            if grid[nr][nc] == \"1\":\n",
    "                new_grid[nr][nc] = label\n",
    "                dfs(nr, nc, grid, new_grid)\n",
    "        else:\n",
    "            return\n",
    "\n",
    "grid = [\n",
    "  [\"1\",\"1\",\"0\",\"0\"],\n",
    "  [\"1\",\"0\",\"0\",\"1\"],\n",
    "  [\"0\",\"0\",\"1\",\"1\"]\n",
    "]\n",
    "new_grid = [[0] * len(grid[0])] * len(grid)\n",
    "label = 2\n",
    "\n",
    "for r in range(len(grid)):\n",
    "    for c in range(len(grid[0])):\n",
    "        if grid[r][c] == \"1\":\n",
    "            dfs(r, c, grid, new_grid)\n",
    "            label += 1  # 다음 섬에 새로운 숫자 사용 \n",
    "\n",
    "print(new_grid)       \n",
    "    "
   ]
  }
 ],
 "metadata": {
  "kernelspec": {
   "display_name": "noname",
   "language": "python",
   "name": "python3"
  },
  "language_info": {
   "codemirror_mode": {
    "name": "ipython",
    "version": 3
   },
   "file_extension": ".py",
   "mimetype": "text/x-python",
   "name": "python",
   "nbconvert_exporter": "python",
   "pygments_lexer": "ipython3",
   "version": "3.11.0"
  }
 },
 "nbformat": 4,
 "nbformat_minor": 5
}
