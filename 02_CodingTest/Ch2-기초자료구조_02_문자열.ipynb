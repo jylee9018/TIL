{
 "cells": [
  {
   "cell_type": "markdown",
   "metadata": {},
   "source": [
    "### 기초 자료구조 2. 문자열\n",
    "\n",
    "- TIP. 문장에 나오는 알파벳 개수를 각각 알고 싶다? 아스키 코드 값을 이용할 것!\n",
    "  - `ord('b') - ord('a') = 1`\n",
    "  - `ord('b') - ord('0') = 50 → 알파벳 b의 아스키 코드 값`\n"
   ]
  },
  {
   "cell_type": "code",
   "execution_count": 1,
   "metadata": {},
   "outputs": [
    {
     "ename": "TypeError",
     "evalue": "unsupported operand type(s) for -: 'str' and 'str'",
     "output_type": "error",
     "traceback": [
      "\u001b[0;31m---------------------------------------------------------------------------\u001b[0m",
      "\u001b[0;31mTypeError\u001b[0m                                 Traceback (most recent call last)",
      "Cell \u001b[0;32mIn[1], line 1\u001b[0m\n\u001b[0;32m----> 1\u001b[0m a \u001b[38;5;241m=\u001b[39m \u001b[38;5;124m\"\u001b[39m\u001b[38;5;124mb\u001b[39m\u001b[38;5;124m\"\u001b[39m \u001b[38;5;241m-\u001b[39m \u001b[38;5;124m\"\u001b[39m\u001b[38;5;124ma\u001b[39m\u001b[38;5;124m\"\u001b[39m\n\u001b[1;32m      2\u001b[0m \u001b[38;5;28mprint\u001b[39m(a)\n",
      "\u001b[0;31mTypeError\u001b[0m: unsupported operand type(s) for -: 'str' and 'str'"
     ]
    }
   ],
   "source": [
    "a = \"b\" - \"a\"\n",
    "print(a)"
   ]
  },
  {
   "cell_type": "code",
   "execution_count": 2,
   "metadata": {},
   "outputs": [
    {
     "name": "stdout",
     "output_type": "stream",
     "text": [
      "1\n"
     ]
    }
   ],
   "source": [
    "a = ord(\"b\") - ord(\"a\")\n",
    "print(a)"
   ]
  },
  {
   "cell_type": "code",
   "execution_count": 18,
   "metadata": {},
   "outputs": [
    {
     "name": "stdout",
     "output_type": "stream",
     "text": [
      "2\n"
     ]
    }
   ],
   "source": [
    "a = ord(\"c\") - ord(\"a\")\n",
    "print(a)"
   ]
  },
  {
   "cell_type": "code",
   "execution_count": 19,
   "metadata": {},
   "outputs": [
    {
     "name": "stdout",
     "output_type": "stream",
     "text": [
      "5\n"
     ]
    }
   ],
   "source": [
    "a = ord(\"5\") - ord(\"0\")\n",
    "print(a)"
   ]
  },
  {
   "cell_type": "markdown",
   "metadata": {},
   "source": [
    "백준 온라인 저지 #10809. 알파벳 찾기\n",
    "\n",
    "- https://boj.kr/10809\n"
   ]
  },
  {
   "cell_type": "code",
   "execution_count": 4,
   "metadata": {},
   "outputs": [],
   "source": [
    "def solution(s):\n",
    "    answer = [0] * 26\n",
    "    a_to_n = {\n",
    "        \"a\": 0,\n",
    "        \"b\": 1,\n",
    "        \"c\": 2,\n",
    "        \"d\": 3,\n",
    "        \"e\": 4,\n",
    "        \"f\": 5,\n",
    "        \"g\": 6,\n",
    "        \"h\": 7,\n",
    "        \"i\": 8,\n",
    "        \"j\": 9,\n",
    "        \"k\": 10,\n",
    "        \"l\": 11,\n",
    "        \"m\": 12,\n",
    "        \"n\": 13,\n",
    "        \"o\": 14,\n",
    "        \"p\": 15,\n",
    "        \"q\": 16,\n",
    "        \"r\": 17,\n",
    "        \"s\": 18,\n",
    "        \"t\": 19,\n",
    "        \"u\": 20,\n",
    "        \"v\": 21,\n",
    "        \"w\": 22,\n",
    "        \"x\": 23,\n",
    "        \"y\": 24,\n",
    "        \"z\": 25,\n",
    "    }\n",
    "\n",
    "    for c in s:\n",
    "        answer[a_to_n[c]] += 1\n",
    "\n",
    "    return answer"
   ]
  },
  {
   "cell_type": "code",
   "execution_count": 5,
   "metadata": {},
   "outputs": [
    {
     "name": "stdout",
     "output_type": "stream",
     "text": [
      "[1, 1, 0, 0, 1, 0, 0, 0, 0, 1, 1, 0, 0, 1, 2, 0, 0, 0, 0, 0, 0, 0, 0, 0, 0, 0]\n"
     ]
    }
   ],
   "source": [
    "print(solution(\"baekjoon\"))"
   ]
  },
  {
   "cell_type": "markdown",
   "metadata": {},
   "source": [
    "→ 문제를 잘 읽자! (알파벳 개수를 구하는 것이 아님)\n"
   ]
  },
  {
   "cell_type": "code",
   "execution_count": 6,
   "metadata": {},
   "outputs": [],
   "source": [
    "def solution(s):\n",
    "    # s = input()\n",
    "\n",
    "    answer = [-1] * 26\n",
    "    a_to_n = {\n",
    "        \"a\": 0,\n",
    "        \"b\": 1,\n",
    "        \"c\": 2,\n",
    "        \"d\": 3,\n",
    "        \"e\": 4,\n",
    "        \"f\": 5,\n",
    "        \"g\": 6,\n",
    "        \"h\": 7,\n",
    "        \"i\": 8,\n",
    "        \"j\": 9,\n",
    "        \"k\": 10,\n",
    "        \"l\": 11,\n",
    "        \"m\": 12,\n",
    "        \"n\": 13,\n",
    "        \"o\": 14,\n",
    "        \"p\": 15,\n",
    "        \"q\": 16,\n",
    "        \"r\": 17,\n",
    "        \"s\": 18,\n",
    "        \"t\": 19,\n",
    "        \"u\": 20,\n",
    "        \"v\": 21,\n",
    "        \"w\": 22,\n",
    "        \"x\": 23,\n",
    "        \"y\": 24,\n",
    "        \"z\": 25,\n",
    "    }\n",
    "\n",
    "    for i, c in enumerate(s):\n",
    "        if answer[a_to_n[c]] == -1:\n",
    "            answer[a_to_n[c]] = i\n",
    "\n",
    "    return answer"
   ]
  },
  {
   "cell_type": "code",
   "execution_count": 7,
   "metadata": {},
   "outputs": [
    {
     "name": "stdout",
     "output_type": "stream",
     "text": [
      "[1, 0, -1, -1, 2, -1, -1, -1, -1, 4, 3, -1, -1, 7, 5, -1, -1, -1, -1, -1, -1, -1, -1, -1, -1, -1]\n"
     ]
    }
   ],
   "source": [
    "print(solution(\"baekjoon\"))"
   ]
  },
  {
   "cell_type": "code",
   "execution_count": 8,
   "metadata": {},
   "outputs": [
    {
     "name": "stdout",
     "output_type": "stream",
     "text": [
      "s\n",
      "t\n",
      "r\n",
      "i\n",
      "n\n",
      "g\n"
     ]
    }
   ],
   "source": [
    "s = \"string\"\n",
    "for c in s:\n",
    "    print(c)"
   ]
  },
  {
   "cell_type": "code",
   "execution_count": 9,
   "metadata": {},
   "outputs": [
    {
     "name": "stdout",
     "output_type": "stream",
     "text": [
      "baekjoon\n",
      "1 0 -1 -1 2 -1 -1 -1 -1 4 3 -1 -1 7 5 -1 -1 -1 -1 -1 -1 -1 -1 -1 -1 -1 "
     ]
    }
   ],
   "source": [
    "# s = input()\n",
    "s = \"baekjoon\"\n",
    "print(s)\n",
    "\n",
    "check = [-1] * 26\n",
    "\n",
    "for i in range(len(s)):\n",
    "    # ord() 함수: 문자의 아스키 코드 값 반환. ordinary\n",
    "    # chr() 함수: 아스키 코드 값을 문자로 변환\n",
    "    index = ord(s[i]) - ord(\"a\")\n",
    "\n",
    "    if check[index] == -1:\n",
    "        check[index] = i\n",
    "\n",
    "for i in range(26):\n",
    "    print(check[i], end=\" \")"
   ]
  },
  {
   "cell_type": "markdown",
   "metadata": {},
   "source": [
    "백준 온라인 저지 #11720. 숫자의 합\n",
    "\n",
    "- https://boj.kr/11720\n"
   ]
  },
  {
   "cell_type": "code",
   "execution_count": 10,
   "metadata": {},
   "outputs": [
    {
     "name": "stdout",
     "output_type": "stream",
     "text": [
      "15\n"
     ]
    }
   ],
   "source": [
    "n = int(input())\n",
    "s = input()\n",
    "\n",
    "total = 0\n",
    "for i in s:\n",
    "    total += int(i)\n",
    "\n",
    "print(total)"
   ]
  },
  {
   "cell_type": "code",
   "execution_count": 11,
   "metadata": {},
   "outputs": [
    {
     "name": "stdout",
     "output_type": "stream",
     "text": [
      "15\n"
     ]
    }
   ],
   "source": [
    "n = int(input())\n",
    "s = input()\n",
    "\n",
    "total = 0\n",
    "for i in range(n):\n",
    "    total += ord(s[i]) - ord(\"0\")\n",
    "\n",
    "print(total)"
   ]
  },
  {
   "cell_type": "code",
   "execution_count": 12,
   "metadata": {},
   "outputs": [
    {
     "name": "stdout",
     "output_type": "stream",
     "text": [
      "15\n"
     ]
    }
   ],
   "source": [
    "n = int(input())  # 사용되지 않음\n",
    "s = input()\n",
    "\n",
    "print(sum(ord(c) - ord(\"0\") for c in s))  # 리스트 컴프리헨션 없이 최적화"
   ]
  },
  {
   "cell_type": "code",
   "execution_count": 13,
   "metadata": {},
   "outputs": [
    {
     "name": "stdout",
     "output_type": "stream",
     "text": [
      "<built-in function sum>\n"
     ]
    }
   ],
   "source": [
    "print(sum)"
   ]
  },
  {
   "cell_type": "code",
   "execution_count": 14,
   "metadata": {},
   "outputs": [
    {
     "name": "stdout",
     "output_type": "stream",
     "text": [
      "15\n"
     ]
    }
   ],
   "source": [
    "n = int(input())  # 사용되지 않음\n",
    "s = input()\n",
    "\n",
    "print(sum(map(int, s)))  # map을 사용하여 문자열을 정수 리스트로 변환 후 sum 계산"
   ]
  }
 ],
 "metadata": {
  "kernelspec": {
   "display_name": "noname",
   "language": "python",
   "name": "python3"
  },
  "language_info": {
   "codemirror_mode": {
    "name": "ipython",
    "version": 3
   },
   "file_extension": ".py",
   "mimetype": "text/x-python",
   "name": "python",
   "nbconvert_exporter": "python",
   "pygments_lexer": "ipython3",
   "version": "3.11.0"
  }
 },
 "nbformat": 4,
 "nbformat_minor": 2
}
