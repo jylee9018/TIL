{
 "cells": [
  {
   "cell_type": "code",
   "execution_count": 2,
   "metadata": {},
   "outputs": [
    {
     "name": "stdout",
     "output_type": "stream",
     "text": [
      "4\n"
     ]
    }
   ],
   "source": [
    "s = input()\n",
    "\n",
    "count = 1\n",
    "for i in range(len(s)):\n",
    "    if s[i] == \" \":\n",
    "        count += 1\n",
    "\n",
    "print(count)"
   ]
  },
  {
   "cell_type": "code",
   "execution_count": 18,
   "metadata": {},
   "outputs": [
    {
     "name": "stdout",
     "output_type": "stream",
     "text": [
      "734 893  \n",
      "437 398\n",
      "437\n"
     ]
    }
   ],
   "source": [
    "\n",
    "A, B = input().split()\n",
    "C, D = \"\", \"\"\n",
    "print(A, B, C, D)\n",
    "\n",
    "for i in range(len(A) - 1, -1, -1):\n",
    "    C += A[i]\n",
    "    D += B[i]\n",
    "    \n",
    "print(C, D)    \n",
    "print(max(int(C), int(D)))\n",
    "    "
   ]
  },
  {
   "cell_type": "code",
   "execution_count": 8,
   "metadata": {},
   "outputs": [
    {
     "name": "stdout",
     "output_type": "stream",
     "text": [
      "01\n"
     ]
    }
   ],
   "source": [
    "C = \"\"\n",
    "\n",
    "C += \"0\"\n",
    "C += \"1\"\n",
    "\n",
    "print(C)"
   ]
  },
  {
   "cell_type": "code",
   "execution_count": 15,
   "metadata": {},
   "outputs": [
    {
     "name": "stdout",
     "output_type": "stream",
     "text": [
      "5\n",
      "4\n",
      "3\n",
      "2\n",
      "1\n"
     ]
    }
   ],
   "source": [
    "for i in range(5, 0, -1):\n",
    "    print(i)"
   ]
  },
  {
   "cell_type": "code",
   "execution_count": null,
   "metadata": {},
   "outputs": [
    {
     "name": "stdout",
     "output_type": "stream",
     "text": [
      "[22, 0]\n",
      "34\n"
     ]
    }
   ],
   "source": [
    "s = input()\n",
    "\n",
    "numbers = []\n",
    "for i in range(len(s)):\n",
    "    # 문자(알파벳 대문자)를 숫자로 바꾼다.\n",
    "    if s[i] = A\n",
    "    numbers.append(ord(s[i]) - ord('A'))\n",
    "print(numbers)\n",
    "    \n",
    "# 전화를 걸기 위한 최소 필요 시간을 구한다.\n",
    "answer = 0\n",
    "for i in range(len(numbers)):\n",
    "\n",
    "print(answer)"
   ]
  },
  {
   "cell_type": "code",
   "execution_count": null,
   "metadata": {},
   "outputs": [],
   "source": [
    "ABC "
   ]
  }
 ],
 "metadata": {
  "kernelspec": {
   "display_name": "noname",
   "language": "python",
   "name": "python3"
  },
  "language_info": {
   "codemirror_mode": {
    "name": "ipython",
    "version": 3
   },
   "file_extension": ".py",
   "mimetype": "text/x-python",
   "name": "python",
   "nbconvert_exporter": "python",
   "pygments_lexer": "ipython3",
   "version": "3.11.0"
  }
 },
 "nbformat": 4,
 "nbformat_minor": 2
}
