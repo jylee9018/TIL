{
 "cells": [
  {
   "cell_type": "code",
   "execution_count": 1,
   "metadata": {},
   "outputs": [
    {
     "name": "stdout",
     "output_type": "stream",
     "text": [
      "[(1, 2), (1, 3), (1, 4), (1, 5), (2, 3), (2, 4), (2, 5), (3, 4), (3, 5), (4, 5)]\n"
     ]
    }
   ],
   "source": [
    "# 조합\n",
    "from itertools import combinations\n",
    "\n",
    "a = [1, 2, 3, 4, 5]\n",
    "print(list(combinations(a, 2)))"
   ]
  },
  {
   "cell_type": "code",
   "execution_count": 2,
   "metadata": {},
   "outputs": [
    {
     "name": "stdout",
     "output_type": "stream",
     "text": [
      "[(1, 2), (1, 3), (1, 4), (1, 5), (2, 1), (2, 3), (2, 4), (2, 5), (3, 1), (3, 2), (3, 4), (3, 5), (4, 1), (4, 2), (4, 3), (4, 5), (5, 1), (5, 2), (5, 3), (5, 4)]\n"
     ]
    }
   ],
   "source": [
    "# 순열\n",
    "from itertools import permutations\n",
    "\n",
    "a = [1, 2, 3, 4, 5]\n",
    "print(list(permutations(a, 2)))"
   ]
  },
  {
   "cell_type": "code",
   "execution_count": 4,
   "metadata": {},
   "outputs": [
    {
     "name": "stdout",
     "output_type": "stream",
     "text": [
      "[(), (1,), (2,), (3,), (4,), (5,), (1, 2), (1, 3), (1, 4), (1, 5), (2, 3), (2, 4), (2, 5), (3, 4), (3, 5), (4, 5), (1, 2, 3), (1, 2, 4), (1, 2, 5), (1, 3, 4), (1, 3, 5), (1, 4, 5), (2, 3, 4), (2, 3, 5), (2, 4, 5), (3, 4, 5), (1, 2, 3, 4), (1, 2, 3, 5), (1, 2, 4, 5), (1, 3, 4, 5), (2, 3, 4, 5), (1, 2, 3, 4, 5)]\n"
     ]
    }
   ],
   "source": [
    "# 부분 집합\n",
    "from itertools import combinations\n",
    "\n",
    "a = [1, 2, 3, 4, 5]\n",
    "subset = []\n",
    "for i in range(len(a) + 1):\n",
    "\tsubset.extend(list(combinations(a, i)))\n",
    " \n",
    "print(subset)"
   ]
  },
  {
   "cell_type": "markdown",
   "metadata": {},
   "source": [
    "예제 1) 백준 온라인 저지 #2309. 일곱 난쟁이\n",
    "(https://boj.kr/2309)"
   ]
  },
  {
   "cell_type": "code",
   "execution_count": 13,
   "metadata": {},
   "outputs": [
    {
     "name": "stdout",
     "output_type": "stream",
     "text": [
      "7\n",
      "8\n",
      "10\n",
      "13\n",
      "19\n",
      "20\n",
      "23\n"
     ]
    }
   ],
   "source": [
    "from itertools import combinations\n",
    "\n",
    "n_list = []\n",
    "for _ in range(9):\n",
    "\tn_list.append(int(input()))\n",
    "# n_list = [20, 7, 23, 19, 10, 15, 25, 8, 13]\n",
    "\n",
    "result = []\n",
    "combi_lists = list(combinations(n_list, 7))\n",
    "for combi_list in combi_lists:\n",
    "    if sum(combi_list) == 100:\n",
    "        result = list(combi_list)\n",
    "        break\n",
    "\n",
    "result.sort()\n",
    "for e in result:\n",
    "\tprint(e)"
   ]
  },
  {
   "cell_type": "code",
   "execution_count": 23,
   "metadata": {},
   "outputs": [
    {
     "name": "stdout",
     "output_type": "stream",
     "text": [
      "62\n"
     ]
    }
   ],
   "source": [
    "from itertools import permutations\n",
    "\n",
    "N = int(input())\n",
    "A = list(map(int, input().split()))\n",
    "# N = 6\n",
    "# A = [20, 1, 15, 8, 4, 10]\n",
    "\n",
    "num_lists = list(permutations(A, N))\n",
    "sum_list = []\n",
    "for num_list in num_lists:\n",
    "\tsum = 0\n",
    "\tfor i in range(len(num_list) - 1):\n",
    "\t\tsum += abs((num_list[i] - num_list[i + 1]))\n",
    "\tsum_list.append(sum)\n",
    "\n",
    "answer = max(sum_list)\n",
    "print(answer)"
   ]
  },
  {
   "cell_type": "code",
   "execution_count": 26,
   "metadata": {},
   "outputs": [
    {
     "name": "stdout",
     "output_type": "stream",
     "text": [
      "62\n"
     ]
    }
   ],
   "source": [
    "from itertools import permutations\n",
    "\n",
    "# N = int(input())\n",
    "# A = list(map(int, input().split()))\n",
    "N = 6\n",
    "A = [20, 1, 15, 8, 4, 10]\n",
    "\n",
    "max_diff_sum = -1\n",
    "for a in list(permutations(A, N)):\n",
    "    diff_sum = 0\n",
    "    for i in range(N - 1):\n",
    "        diff_sum += abs(a[i] - a[i + 1])\n",
    "    \n",
    "    max_diff_sum = max(max_diff_sum, diff_sum)\n",
    "        \n",
    "print(max_diff_sum)"
   ]
  },
  {
   "cell_type": "code",
   "execution_count": null,
   "metadata": {},
   "outputs": [],
   "source": []
  }
 ],
 "metadata": {
  "kernelspec": {
   "display_name": "noname",
   "language": "python",
   "name": "python3"
  },
  "language_info": {
   "codemirror_mode": {
    "name": "ipython",
    "version": 3
   },
   "file_extension": ".py",
   "mimetype": "text/x-python",
   "name": "python",
   "nbconvert_exporter": "python",
   "pygments_lexer": "ipython3",
   "version": "3.11.0"
  }
 },
 "nbformat": 4,
 "nbformat_minor": 2
}
