{
 "cells": [
  {
   "cell_type": "code",
   "execution_count": null,
   "metadata": {},
   "outputs": [],
   "source": [
    "# 입력을 받는다.\n",
    "# T = int(input())\n",
    "# scores = [[] * T]  # [[Case 0], [Case 1]]\n",
    "# for i in range(T):\n",
    "#     N = int(input())\n",
    "#     for j in range(N):\n",
    "#         a, b = map(int, input().split())\n",
    "#         scores[i].append((a, b))\n",
    "scores = [\n",
    "    [(3, 2), (1, 4), (4, 1), (2, 3), (5, 5)],\n",
    "    [(3, 6), (7, 3), (4, 2), (1, 4), (5, 7), (2, 5), (6, 1)],\n",
    "]\n",
    "\n",
    "# [0][0]번 지원자의 서류심사 성적[0]과 [0][1]번 지원자의 서류심사 성적[0]를 비교한다.\n",
    "# [0][0][0]과 [0][1][0] 비교 & [0][0][1]과 [0][1][1] 비교. 반복.\n",
    "# [0][0][0]과 [0][2][0] 비교 & [0][0][0]과 [0][2][1] 비교. 반복.\n",
    "for i in range(len(scores)):\n",
    "    result = 0\n",
    "    result_list = []\n",
    "    for j in range(len(scores[i])):\n",
    "        number = scores[i][j]\n",
    "        for k in range(len(scores[i])):\n",
    "            if (scores[i][j][0] > scores[i][k][0]) and (\n",
    "                scores[i][j][1] > scores[i][k][1]\n",
    "            ):\n",
    "                result += 1\n",
    "                result_list.append(scores[i][j])\n",
    "    print(result_list)\n",
    "\n",
    "    # 중복 제거\n",
    "    result_list_one = set(list(map(tuple, result_list)))\n",
    "    print(result_list_one)\n",
    "\n",
    "    answer = len(scores[i]) - len(result_list_one)\n",
    "    print(answer)"
   ]
  },
  {
   "cell_type": "code",
   "execution_count": null,
   "metadata": {},
   "outputs": [],
   "source": [
    "a = set([((0, 0), (0, 1), (0, 2)), ((1, 0), (1, 1), (1, 2))])\n",
    "a[0][0]"
   ]
  },
  {
   "cell_type": "code",
   "execution_count": null,
   "metadata": {},
   "outputs": [],
   "source": [
    "a = set()\n",
    "a.add((0, 0))\n",
    "a"
   ]
  },
  {
   "cell_type": "code",
   "execution_count": null,
   "metadata": {},
   "outputs": [],
   "source": [
    "a = set([1, 2, 3, 4, 5])"
   ]
  },
  {
   "cell_type": "code",
   "execution_count": null,
   "metadata": {},
   "outputs": [],
   "source": [
    "a.add((1, 2))\n",
    "a"
   ]
  },
  {
   "cell_type": "code",
   "execution_count": null,
   "metadata": {},
   "outputs": [],
   "source": [
    "# 입력을 받는다.\n",
    "T = int(input())\n",
    "scores = [[] * T]  # [[Case 0], [Case 1]]\n",
    "for i in range(T):\n",
    "    N = int(input())\n",
    "    for j in range(N):\n",
    "        a, b = map(int, input().split())\n",
    "        scores[i].append((a, b))\n",
    "\n",
    "print(scores)"
   ]
  },
  {
   "cell_type": "code",
   "execution_count": null,
   "metadata": {},
   "outputs": [],
   "source": []
  },
  {
   "cell_type": "markdown",
   "metadata": {},
   "source": [
    "- BOJ #11728. 배열 합치기\n",
    "    - https://boj.kr/11728"
   ]
  },
  {
   "cell_type": "code",
   "execution_count": null,
   "metadata": {},
   "outputs": [],
   "source": [
    "N, M = map(int, input().split())\n",
    "A = list(map(int, input().split()))\n",
    "B = list(map(int, input().split()))\n",
    "\n",
    "result = A + B\n",
    "\n",
    "result.sort()\n",
    "for e in result:\n",
    "    print(e, end=\" \")"
   ]
  },
  {
   "cell_type": "code",
   "execution_count": 5,
   "metadata": {},
   "outputs": [
    {
     "name": "stdout",
     "output_type": "stream",
     "text": [
      "1 2 3 4 5 7 9 "
     ]
    }
   ],
   "source": [
    "N, M = map(int, input().split())\n",
    "A = list(map(int, input().split()))\n",
    "B = list(map(int, input().split()))\n",
    "\n",
    "C = []\n",
    "position1 = 0\n",
    "position2 = 0\n",
    "\n",
    "while position1 < N and position2 < M:\n",
    "\tcandidate1 = A[position1]\n",
    "\tcandidate2 = B[position2]\n",
    "\n",
    "\tif candidate1 < candidate2:\n",
    "\t\tC.append(candidate1)\n",
    "\t\tposition1 += 1\n",
    "\telse:\n",
    "\t\tC.append(candidate2)\n",
    "\t\tposition2 += 1\n",
    "\n",
    "if position1 != N:\n",
    "\tC.extend(A[position1:N])\n",
    "if position2 != M:\n",
    "\tC.extend(B[position2:M])\n",
    " \n",
    "for i in range(len(C)):\n",
    "    print(C[i], end=\" \")"
   ]
  },
  {
   "cell_type": "code",
   "execution_count": null,
   "metadata": {},
   "outputs": [],
   "source": []
  }
 ],
 "metadata": {
  "kernelspec": {
   "display_name": "noname",
   "language": "python",
   "name": "python3"
  },
  "language_info": {
   "codemirror_mode": {
    "name": "ipython",
    "version": 3
   },
   "file_extension": ".py",
   "mimetype": "text/x-python",
   "name": "python",
   "nbconvert_exporter": "python",
   "pygments_lexer": "ipython3",
   "version": "3.11.0"
  }
 },
 "nbformat": 4,
 "nbformat_minor": 2
}
